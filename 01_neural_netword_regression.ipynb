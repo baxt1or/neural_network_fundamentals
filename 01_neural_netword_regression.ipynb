{
 "cells": [
  {
   "cell_type": "markdown",
   "metadata": {},
   "source": [
    "## Introduction to Regression Neural Network with TensorFlow"
   ]
  },
  {
   "cell_type": "code",
   "execution_count": 9,
   "metadata": {},
   "outputs": [],
   "source": [
    "# Importing TensorFlow\n",
    "import tensorflow as tf\n",
    "import numpy as np\n",
    "import matplotlib.pyplot as plt\n",
    "import seaborn as sns"
   ]
  },
  {
   "cell_type": "markdown",
   "metadata": {},
   "source": [
    "#### Before creating the Neural Network, Let's Visualize the what is the Regression Problem is with made up data using NumPy"
   ]
  },
  {
   "cell_type": "code",
   "execution_count": null,
   "metadata": {},
   "outputs": [],
   "source": [
    "# Importing the Packages\n",
    "import numpy as np\n",
    "import matplotlib.pyplot as plt\n",
    "import seaborn as sns\n",
    "\n",
    "#Creating Feautures X and y\n",
    "X = np.array([-7.0, -4.0, -1.0, 2.0, 5.0, 8.0, 11.0, 14.0])\n",
    "# Creating the Labels y \n",
    "y = np.array([3.0, 6.0, 9.0, 12.0, 15.0, 18.0, 21.0, 24.0])\n",
    "\n",
    "plt.scatter(X, y)"
   ]
  },
  {
   "cell_type": "code",
   "execution_count": null,
   "metadata": {},
   "outputs": [],
   "source": [
    "# Passing our NumPy array to Tensorflow Tensors\n",
    "\n",
    "\n",
    "# Create features (using tensors)\n",
    "X = tf.constant([-7.0, -4.0, -1.0, 2.0, 5.0, 8.0, 11.0, 14.0])\n",
    "\n",
    "# Create labels (using tensors)\n",
    "y = tf.constant([3.0, 6.0, 9.0, 12.0, 15.0, 18.0, 21.0, 24.0])\n",
    "\n",
    "# Reshaping for model prediction\n",
    "X = tf.reshape(X, (-1, 1))\n",
    "y = tf.reshape(y, (-1, 1))\n",
    "\n",
    "# Visualize it\n",
    "plt.scatter(X, y);"
   ]
  },
  {
   "cell_type": "markdown",
   "metadata": {},
   "source": [
    "## Fundamental Steps to build Model\n",
    "\n",
    "* Creating a model - defining the input and outputs layers with its hidden layers for a deep learning\n",
    "* Compiling a model - defining loss function, optimization function and evaluation metrics\n",
    "* Fitting a model with Train set of the dataset, how a model well to predict certain labels"
   ]
  },
  {
   "cell_type": "markdown",
   "metadata": {},
   "source": [
    "### Diagram based steps how to build and evaluate a mode\n",
    "\n",
    "1. Prepare the data (Preprossesing)\n",
    "2. Selecting or Identify a model\n",
    "3. Fitting a model with Train set of the data, so a model could learn\n",
    "4. Evaluate the model, how well performed the model duting Training and Testing\n",
    "5. Applying Improving Technicks to improve the model performance\n",
    "6. Save the model for production"
   ]
  },
  {
   "cell_type": "code",
   "execution_count": 10,
   "metadata": {},
   "outputs": [
    {
     "name": "stdout",
     "output_type": "stream",
     "text": [
      "Epoch 1/5\n",
      "\u001b[1m1/1\u001b[0m \u001b[32m━━━━━━━━━━━━━━━━━━━━\u001b[0m\u001b[37m\u001b[0m \u001b[1m1s\u001b[0m 749ms/step - loss: 13.8050 - mae: 13.8050\n",
      "Epoch 2/5\n",
      "\u001b[1m1/1\u001b[0m \u001b[32m━━━━━━━━━━━━━━━━━━━━\u001b[0m\u001b[37m\u001b[0m \u001b[1m0s\u001b[0m 62ms/step - loss: 13.6725 - mae: 13.6725\n",
      "Epoch 3/5\n",
      "\u001b[1m1/1\u001b[0m \u001b[32m━━━━━━━━━━━━━━━━━━━━\u001b[0m\u001b[37m\u001b[0m \u001b[1m0s\u001b[0m 51ms/step - loss: 13.5400 - mae: 13.5400\n",
      "Epoch 4/5\n",
      "\u001b[1m1/1\u001b[0m \u001b[32m━━━━━━━━━━━━━━━━━━━━\u001b[0m\u001b[37m\u001b[0m \u001b[1m0s\u001b[0m 50ms/step - loss: 13.4075 - mae: 13.4075\n",
      "Epoch 5/5\n",
      "\u001b[1m1/1\u001b[0m \u001b[32m━━━━━━━━━━━━━━━━━━━━\u001b[0m\u001b[37m\u001b[0m \u001b[1m0s\u001b[0m 84ms/step - loss: 13.2750 - mae: 13.2750\n"
     ]
    },
    {
     "data": {
      "text/plain": [
       "<keras.src.callbacks.history.History at 0x240552fc560>"
      ]
     },
     "execution_count": 10,
     "metadata": {},
     "output_type": "execute_result"
    }
   ],
   "source": [
    "# Seting a random tensor\n",
    "tf.random.set_seed(200)\n",
    "\n",
    "# 1. Create a model using a Sequential API\n",
    "model = tf.keras.Sequential([\n",
    "    # Since we have one dimentianal data, we are using 1 in Dense as it takes one number as an input and one as an ouput\n",
    "    tf.keras.layers.Dense(1)\n",
    "])\n",
    "\n",
    "# 2. Compiling the mode\n",
    "model.compile(loss=tf.keras.losses.mae ,# mae stands for mean absolute error\n",
    "              optimizer=tf.keras.optimizers.SGD(), # sgd stands for Stochastic Gradient Decient Optimizer\n",
    "              metrics=[\"mae\"]\n",
    "              )\n",
    "\n",
    "# 3. Fitting the model to train with data\n",
    "model.fit(X, y, epochs=5) # Epochs helps to the model get as a number of chances to figure out the data and make the best prediction\n"
   ]
  },
  {
   "cell_type": "code",
   "execution_count": 13,
   "metadata": {},
   "outputs": [
    {
     "name": "stdout",
     "output_type": "stream",
     "text": [
      "\u001b[1m1/1\u001b[0m \u001b[32m━━━━━━━━━━━━━━━━━━━━\u001b[0m\u001b[37m\u001b[0m \u001b[1m0s\u001b[0m 62ms/step\n"
     ]
    },
    {
     "data": {
      "text/plain": [
       "array([[1.5435617]], dtype=float32)"
      ]
     },
     "execution_count": 13,
     "metadata": {},
     "output_type": "execute_result"
    }
   ],
   "source": [
    "# Input data to predict y valus\n",
    "input_data = tf.constant([[17.0]])\n",
    "\n",
    "# Trying and testing how our model well to predict the data\n",
    "model.predict(input_data)"
   ]
  },
  {
   "cell_type": "markdown",
   "metadata": {},
   "source": [
    "From the prediction y value of the model is too far off the actual value,so the next step will Improving model"
   ]
  },
  {
   "cell_type": "markdown",
   "metadata": {},
   "source": [
    "## Improving Model\n",
    "\n",
    "##### Going through each steps as we did as above\n",
    "1. **Creating a model** - Increase the number of layers or neurons\n",
    "2. **Compiling a model** - Use different types of optimization function or activation function or **learing rate**\n",
    "3. Increase the number of the **epochs** (iteration), so a model could learn more deeply through the iterations\n"
   ]
  },
  {
   "cell_type": "code",
   "execution_count": 20,
   "metadata": {},
   "outputs": [
    {
     "name": "stdout",
     "output_type": "stream",
     "text": [
      "Epoch 1/200\n",
      "\u001b[1m1/1\u001b[0m \u001b[32m━━━━━━━━━━━━━━━━━━━━\u001b[0m\u001b[37m\u001b[0m \u001b[1m2s\u001b[0m 2s/step - loss: 12.9597 - mae: 12.9597\n",
      "Epoch 2/200\n",
      "\u001b[1m1/1\u001b[0m \u001b[32m━━━━━━━━━━━━━━━━━━━━\u001b[0m\u001b[37m\u001b[0m \u001b[1m0s\u001b[0m 52ms/step - loss: 12.9301 - mae: 12.9301\n",
      "Epoch 3/200\n",
      "\u001b[1m1/1\u001b[0m \u001b[32m━━━━━━━━━━━━━━━━━━━━\u001b[0m\u001b[37m\u001b[0m \u001b[1m0s\u001b[0m 35ms/step - loss: 12.9007 - mae: 12.9007\n",
      "Epoch 4/200\n",
      "\u001b[1m1/1\u001b[0m \u001b[32m━━━━━━━━━━━━━━━━━━━━\u001b[0m\u001b[37m\u001b[0m \u001b[1m0s\u001b[0m 72ms/step - loss: 12.8716 - mae: 12.8716\n",
      "Epoch 5/200\n",
      "\u001b[1m1/1\u001b[0m \u001b[32m━━━━━━━━━━━━━━━━━━━━\u001b[0m\u001b[37m\u001b[0m \u001b[1m0s\u001b[0m 43ms/step - loss: 12.8424 - mae: 12.8424\n",
      "Epoch 6/200\n",
      "\u001b[1m1/1\u001b[0m \u001b[32m━━━━━━━━━━━━━━━━━━━━\u001b[0m\u001b[37m\u001b[0m \u001b[1m0s\u001b[0m 41ms/step - loss: 12.8131 - mae: 12.8131\n",
      "Epoch 7/200\n",
      "\u001b[1m1/1\u001b[0m \u001b[32m━━━━━━━━━━━━━━━━━━━━\u001b[0m\u001b[37m\u001b[0m \u001b[1m0s\u001b[0m 37ms/step - loss: 12.7838 - mae: 12.7838\n",
      "Epoch 8/200\n",
      "\u001b[1m1/1\u001b[0m \u001b[32m━━━━━━━━━━━━━━━━━━━━\u001b[0m\u001b[37m\u001b[0m \u001b[1m0s\u001b[0m 39ms/step - loss: 12.7544 - mae: 12.7544\n",
      "Epoch 9/200\n",
      "\u001b[1m1/1\u001b[0m \u001b[32m━━━━━━━━━━━━━━━━━━━━\u001b[0m\u001b[37m\u001b[0m \u001b[1m0s\u001b[0m 40ms/step - loss: 12.7248 - mae: 12.7248\n",
      "Epoch 10/200\n",
      "\u001b[1m1/1\u001b[0m \u001b[32m━━━━━━━━━━━━━━━━━━━━\u001b[0m\u001b[37m\u001b[0m \u001b[1m0s\u001b[0m 38ms/step - loss: 12.6952 - mae: 12.6952\n",
      "Epoch 11/200\n",
      "\u001b[1m1/1\u001b[0m \u001b[32m━━━━━━━━━━━━━━━━━━━━\u001b[0m\u001b[37m\u001b[0m \u001b[1m0s\u001b[0m 37ms/step - loss: 12.6655 - mae: 12.6655\n",
      "Epoch 12/200\n",
      "\u001b[1m1/1\u001b[0m \u001b[32m━━━━━━━━━━━━━━━━━━━━\u001b[0m\u001b[37m\u001b[0m \u001b[1m0s\u001b[0m 39ms/step - loss: 12.6357 - mae: 12.6357\n",
      "Epoch 13/200\n",
      "\u001b[1m1/1\u001b[0m \u001b[32m━━━━━━━━━━━━━━━━━━━━\u001b[0m\u001b[37m\u001b[0m \u001b[1m0s\u001b[0m 37ms/step - loss: 12.6058 - mae: 12.6058\n",
      "Epoch 14/200\n",
      "\u001b[1m1/1\u001b[0m \u001b[32m━━━━━━━━━━━━━━━━━━━━\u001b[0m\u001b[37m\u001b[0m \u001b[1m0s\u001b[0m 42ms/step - loss: 12.5758 - mae: 12.5758\n",
      "Epoch 15/200\n",
      "\u001b[1m1/1\u001b[0m \u001b[32m━━━━━━━━━━━━━━━━━━━━\u001b[0m\u001b[37m\u001b[0m \u001b[1m0s\u001b[0m 37ms/step - loss: 12.5454 - mae: 12.5454\n",
      "Epoch 16/200\n",
      "\u001b[1m1/1\u001b[0m \u001b[32m━━━━━━━━━━━━━━━━━━━━\u001b[0m\u001b[37m\u001b[0m \u001b[1m0s\u001b[0m 157ms/step - loss: 12.5143 - mae: 12.5143\n",
      "Epoch 17/200\n",
      "\u001b[1m1/1\u001b[0m \u001b[32m━━━━━━━━━━━━━━━━━━━━\u001b[0m\u001b[37m\u001b[0m \u001b[1m0s\u001b[0m 57ms/step - loss: 12.4832 - mae: 12.4832\n",
      "Epoch 18/200\n",
      "\u001b[1m1/1\u001b[0m \u001b[32m━━━━━━━━━━━━━━━━━━━━\u001b[0m\u001b[37m\u001b[0m \u001b[1m0s\u001b[0m 48ms/step - loss: 12.4520 - mae: 12.4520\n",
      "Epoch 19/200\n",
      "\u001b[1m1/1\u001b[0m \u001b[32m━━━━━━━━━━━━━━━━━━━━\u001b[0m\u001b[37m\u001b[0m \u001b[1m0s\u001b[0m 84ms/step - loss: 12.4205 - mae: 12.4205\n",
      "Epoch 20/200\n",
      "\u001b[1m1/1\u001b[0m \u001b[32m━━━━━━━━━━━━━━━━━━━━\u001b[0m\u001b[37m\u001b[0m \u001b[1m0s\u001b[0m 63ms/step - loss: 12.3890 - mae: 12.3890\n",
      "Epoch 21/200\n",
      "\u001b[1m1/1\u001b[0m \u001b[32m━━━━━━━━━━━━━━━━━━━━\u001b[0m\u001b[37m\u001b[0m \u001b[1m0s\u001b[0m 51ms/step - loss: 12.3578 - mae: 12.3578\n",
      "Epoch 22/200\n",
      "\u001b[1m1/1\u001b[0m \u001b[32m━━━━━━━━━━━━━━━━━━━━\u001b[0m\u001b[37m\u001b[0m \u001b[1m0s\u001b[0m 53ms/step - loss: 12.3259 - mae: 12.3259\n",
      "Epoch 23/200\n",
      "\u001b[1m1/1\u001b[0m \u001b[32m━━━━━━━━━━━━━━━━━━━━\u001b[0m\u001b[37m\u001b[0m \u001b[1m0s\u001b[0m 44ms/step - loss: 12.2934 - mae: 12.2934\n",
      "Epoch 24/200\n",
      "\u001b[1m1/1\u001b[0m \u001b[32m━━━━━━━━━━━━━━━━━━━━\u001b[0m\u001b[37m\u001b[0m \u001b[1m0s\u001b[0m 36ms/step - loss: 12.2623 - mae: 12.2623\n",
      "Epoch 25/200\n",
      "\u001b[1m1/1\u001b[0m \u001b[32m━━━━━━━━━━━━━━━━━━━━\u001b[0m\u001b[37m\u001b[0m \u001b[1m0s\u001b[0m 36ms/step - loss: 12.2312 - mae: 12.2312\n",
      "Epoch 26/200\n",
      "\u001b[1m1/1\u001b[0m \u001b[32m━━━━━━━━━━━━━━━━━━━━\u001b[0m\u001b[37m\u001b[0m \u001b[1m0s\u001b[0m 35ms/step - loss: 12.1998 - mae: 12.1998\n",
      "Epoch 27/200\n",
      "\u001b[1m1/1\u001b[0m \u001b[32m━━━━━━━━━━━━━━━━━━━━\u001b[0m\u001b[37m\u001b[0m \u001b[1m0s\u001b[0m 36ms/step - loss: 12.1682 - mae: 12.1682\n",
      "Epoch 28/200\n",
      "\u001b[1m1/1\u001b[0m \u001b[32m━━━━━━━━━━━━━━━━━━━━\u001b[0m\u001b[37m\u001b[0m \u001b[1m0s\u001b[0m 36ms/step - loss: 12.1364 - mae: 12.1364\n",
      "Epoch 29/200\n",
      "\u001b[1m1/1\u001b[0m \u001b[32m━━━━━━━━━━━━━━━━━━━━\u001b[0m\u001b[37m\u001b[0m \u001b[1m0s\u001b[0m 38ms/step - loss: 12.1044 - mae: 12.1044\n",
      "Epoch 30/200\n",
      "\u001b[1m1/1\u001b[0m \u001b[32m━━━━━━━━━━━━━━━━━━━━\u001b[0m\u001b[37m\u001b[0m \u001b[1m0s\u001b[0m 36ms/step - loss: 12.0722 - mae: 12.0722\n",
      "Epoch 31/200\n",
      "\u001b[1m1/1\u001b[0m \u001b[32m━━━━━━━━━━━━━━━━━━━━\u001b[0m\u001b[37m\u001b[0m \u001b[1m0s\u001b[0m 37ms/step - loss: 12.0398 - mae: 12.0398\n",
      "Epoch 32/200\n",
      "\u001b[1m1/1\u001b[0m \u001b[32m━━━━━━━━━━━━━━━━━━━━\u001b[0m\u001b[37m\u001b[0m \u001b[1m0s\u001b[0m 34ms/step - loss: 12.0072 - mae: 12.0072\n",
      "Epoch 33/200\n",
      "\u001b[1m1/1\u001b[0m \u001b[32m━━━━━━━━━━━━━━━━━━━━\u001b[0m\u001b[37m\u001b[0m \u001b[1m0s\u001b[0m 38ms/step - loss: 11.9744 - mae: 11.9744\n",
      "Epoch 34/200\n",
      "\u001b[1m1/1\u001b[0m \u001b[32m━━━━━━━━━━━━━━━━━━━━\u001b[0m\u001b[37m\u001b[0m \u001b[1m0s\u001b[0m 38ms/step - loss: 11.9413 - mae: 11.9413\n",
      "Epoch 35/200\n",
      "\u001b[1m1/1\u001b[0m \u001b[32m━━━━━━━━━━━━━━━━━━━━\u001b[0m\u001b[37m\u001b[0m \u001b[1m0s\u001b[0m 35ms/step - loss: 11.9084 - mae: 11.9084\n",
      "Epoch 36/200\n",
      "\u001b[1m1/1\u001b[0m \u001b[32m━━━━━━━━━━━━━━━━━━━━\u001b[0m\u001b[37m\u001b[0m \u001b[1m0s\u001b[0m 42ms/step - loss: 11.8754 - mae: 11.8754\n",
      "Epoch 37/200\n",
      "\u001b[1m1/1\u001b[0m \u001b[32m━━━━━━━━━━━━━━━━━━━━\u001b[0m\u001b[37m\u001b[0m \u001b[1m0s\u001b[0m 88ms/step - loss: 11.8421 - mae: 11.8421\n",
      "Epoch 38/200\n",
      "\u001b[1m1/1\u001b[0m \u001b[32m━━━━━━━━━━━━━━━━━━━━\u001b[0m\u001b[37m\u001b[0m \u001b[1m0s\u001b[0m 58ms/step - loss: 11.8088 - mae: 11.8088\n",
      "Epoch 39/200\n",
      "\u001b[1m1/1\u001b[0m \u001b[32m━━━━━━━━━━━━━━━━━━━━\u001b[0m\u001b[37m\u001b[0m \u001b[1m0s\u001b[0m 45ms/step - loss: 11.7750 - mae: 11.7750\n",
      "Epoch 40/200\n",
      "\u001b[1m1/1\u001b[0m \u001b[32m━━━━━━━━━━━━━━━━━━━━\u001b[0m\u001b[37m\u001b[0m \u001b[1m0s\u001b[0m 82ms/step - loss: 11.7407 - mae: 11.7407\n",
      "Epoch 41/200\n",
      "\u001b[1m1/1\u001b[0m \u001b[32m━━━━━━━━━━━━━━━━━━━━\u001b[0m\u001b[37m\u001b[0m \u001b[1m0s\u001b[0m 175ms/step - loss: 11.7060 - mae: 11.7060\n",
      "Epoch 42/200\n",
      "\u001b[1m1/1\u001b[0m \u001b[32m━━━━━━━━━━━━━━━━━━━━\u001b[0m\u001b[37m\u001b[0m \u001b[1m0s\u001b[0m 40ms/step - loss: 11.6709 - mae: 11.6709\n",
      "Epoch 43/200\n",
      "\u001b[1m1/1\u001b[0m \u001b[32m━━━━━━━━━━━━━━━━━━━━\u001b[0m\u001b[37m\u001b[0m \u001b[1m0s\u001b[0m 38ms/step - loss: 11.6355 - mae: 11.6355\n",
      "Epoch 44/200\n",
      "\u001b[1m1/1\u001b[0m \u001b[32m━━━━━━━━━━━━━━━━━━━━\u001b[0m\u001b[37m\u001b[0m \u001b[1m0s\u001b[0m 35ms/step - loss: 11.5999 - mae: 11.5999\n",
      "Epoch 45/200\n",
      "\u001b[1m1/1\u001b[0m \u001b[32m━━━━━━━━━━━━━━━━━━━━\u001b[0m\u001b[37m\u001b[0m \u001b[1m0s\u001b[0m 40ms/step - loss: 11.5640 - mae: 11.5640\n",
      "Epoch 46/200\n",
      "\u001b[1m1/1\u001b[0m \u001b[32m━━━━━━━━━━━━━━━━━━━━\u001b[0m\u001b[37m\u001b[0m \u001b[1m0s\u001b[0m 39ms/step - loss: 11.5280 - mae: 11.5280\n",
      "Epoch 47/200\n",
      "\u001b[1m1/1\u001b[0m \u001b[32m━━━━━━━━━━━━━━━━━━━━\u001b[0m\u001b[37m\u001b[0m \u001b[1m0s\u001b[0m 34ms/step - loss: 11.4919 - mae: 11.4919\n",
      "Epoch 48/200\n",
      "\u001b[1m1/1\u001b[0m \u001b[32m━━━━━━━━━━━━━━━━━━━━\u001b[0m\u001b[37m\u001b[0m \u001b[1m0s\u001b[0m 36ms/step - loss: 11.4557 - mae: 11.4557\n",
      "Epoch 49/200\n",
      "\u001b[1m1/1\u001b[0m \u001b[32m━━━━━━━━━━━━━━━━━━━━\u001b[0m\u001b[37m\u001b[0m \u001b[1m0s\u001b[0m 35ms/step - loss: 11.4191 - mae: 11.4191\n",
      "Epoch 50/200\n",
      "\u001b[1m1/1\u001b[0m \u001b[32m━━━━━━━━━━━━━━━━━━━━\u001b[0m\u001b[37m\u001b[0m \u001b[1m0s\u001b[0m 40ms/step - loss: 11.3822 - mae: 11.3822\n",
      "Epoch 51/200\n",
      "\u001b[1m1/1\u001b[0m \u001b[32m━━━━━━━━━━━━━━━━━━━━\u001b[0m\u001b[37m\u001b[0m \u001b[1m0s\u001b[0m 35ms/step - loss: 11.3451 - mae: 11.3451\n",
      "Epoch 52/200\n",
      "\u001b[1m1/1\u001b[0m \u001b[32m━━━━━━━━━━━━━━━━━━━━\u001b[0m\u001b[37m\u001b[0m \u001b[1m0s\u001b[0m 37ms/step - loss: 11.3077 - mae: 11.3077\n",
      "Epoch 53/200\n",
      "\u001b[1m1/1\u001b[0m \u001b[32m━━━━━━━━━━━━━━━━━━━━\u001b[0m\u001b[37m\u001b[0m \u001b[1m0s\u001b[0m 38ms/step - loss: 11.2700 - mae: 11.2700\n",
      "Epoch 54/200\n",
      "\u001b[1m1/1\u001b[0m \u001b[32m━━━━━━━━━━━━━━━━━━━━\u001b[0m\u001b[37m\u001b[0m \u001b[1m0s\u001b[0m 37ms/step - loss: 11.2322 - mae: 11.2322\n",
      "Epoch 55/200\n",
      "\u001b[1m1/1\u001b[0m \u001b[32m━━━━━━━━━━━━━━━━━━━━\u001b[0m\u001b[37m\u001b[0m \u001b[1m0s\u001b[0m 39ms/step - loss: 11.1965 - mae: 11.1965\n",
      "Epoch 56/200\n",
      "\u001b[1m1/1\u001b[0m \u001b[32m━━━━━━━━━━━━━━━━━━━━\u001b[0m\u001b[37m\u001b[0m \u001b[1m0s\u001b[0m 35ms/step - loss: 11.1712 - mae: 11.1712\n",
      "Epoch 57/200\n",
      "\u001b[1m1/1\u001b[0m \u001b[32m━━━━━━━━━━━━━━━━━━━━\u001b[0m\u001b[37m\u001b[0m \u001b[1m0s\u001b[0m 32ms/step - loss: 11.1455 - mae: 11.1455\n",
      "Epoch 58/200\n",
      "\u001b[1m1/1\u001b[0m \u001b[32m━━━━━━━━━━━━━━━━━━━━\u001b[0m\u001b[37m\u001b[0m \u001b[1m0s\u001b[0m 38ms/step - loss: 11.1197 - mae: 11.1197\n",
      "Epoch 59/200\n",
      "\u001b[1m1/1\u001b[0m \u001b[32m━━━━━━━━━━━━━━━━━━━━\u001b[0m\u001b[37m\u001b[0m \u001b[1m0s\u001b[0m 34ms/step - loss: 11.0937 - mae: 11.0937\n",
      "Epoch 60/200\n",
      "\u001b[1m1/1\u001b[0m \u001b[32m━━━━━━━━━━━━━━━━━━━━\u001b[0m\u001b[37m\u001b[0m \u001b[1m0s\u001b[0m 40ms/step - loss: 11.0675 - mae: 11.0675\n",
      "Epoch 61/200\n",
      "\u001b[1m1/1\u001b[0m \u001b[32m━━━━━━━━━━━━━━━━━━━━\u001b[0m\u001b[37m\u001b[0m \u001b[1m0s\u001b[0m 36ms/step - loss: 11.0411 - mae: 11.0411\n",
      "Epoch 62/200\n",
      "\u001b[1m1/1\u001b[0m \u001b[32m━━━━━━━━━━━━━━━━━━━━\u001b[0m\u001b[37m\u001b[0m \u001b[1m0s\u001b[0m 36ms/step - loss: 11.0146 - mae: 11.0146\n",
      "Epoch 63/200\n",
      "\u001b[1m1/1\u001b[0m \u001b[32m━━━━━━━━━━━━━━━━━━━━\u001b[0m\u001b[37m\u001b[0m \u001b[1m0s\u001b[0m 35ms/step - loss: 10.9878 - mae: 10.9878\n",
      "Epoch 64/200\n",
      "\u001b[1m1/1\u001b[0m \u001b[32m━━━━━━━━━━━━━━━━━━━━\u001b[0m\u001b[37m\u001b[0m \u001b[1m0s\u001b[0m 36ms/step - loss: 10.9608 - mae: 10.9608\n",
      "Epoch 65/200\n",
      "\u001b[1m1/1\u001b[0m \u001b[32m━━━━━━━━━━━━━━━━━━━━\u001b[0m\u001b[37m\u001b[0m \u001b[1m0s\u001b[0m 39ms/step - loss: 10.9336 - mae: 10.9336\n",
      "Epoch 66/200\n",
      "\u001b[1m1/1\u001b[0m \u001b[32m━━━━━━━━━━━━━━━━━━━━\u001b[0m\u001b[37m\u001b[0m \u001b[1m0s\u001b[0m 119ms/step - loss: 10.9063 - mae: 10.9063\n",
      "Epoch 67/200\n",
      "\u001b[1m1/1\u001b[0m \u001b[32m━━━━━━━━━━━━━━━━━━━━\u001b[0m\u001b[37m\u001b[0m \u001b[1m0s\u001b[0m 53ms/step - loss: 10.8790 - mae: 10.8790\n",
      "Epoch 68/200\n",
      "\u001b[1m1/1\u001b[0m \u001b[32m━━━━━━━━━━━━━━━━━━━━\u001b[0m\u001b[37m\u001b[0m \u001b[1m0s\u001b[0m 37ms/step - loss: 10.8518 - mae: 10.8518\n",
      "Epoch 69/200\n",
      "\u001b[1m1/1\u001b[0m \u001b[32m━━━━━━━━━━━━━━━━━━━━\u001b[0m\u001b[37m\u001b[0m \u001b[1m0s\u001b[0m 36ms/step - loss: 10.8244 - mae: 10.8244\n",
      "Epoch 70/200\n",
      "\u001b[1m1/1\u001b[0m \u001b[32m━━━━━━━━━━━━━━━━━━━━\u001b[0m\u001b[37m\u001b[0m \u001b[1m0s\u001b[0m 32ms/step - loss: 10.7970 - mae: 10.7970\n",
      "Epoch 71/200\n",
      "\u001b[1m1/1\u001b[0m \u001b[32m━━━━━━━━━━━━━━━━━━━━\u001b[0m\u001b[37m\u001b[0m \u001b[1m0s\u001b[0m 37ms/step - loss: 10.7697 - mae: 10.7697\n",
      "Epoch 72/200\n",
      "\u001b[1m1/1\u001b[0m \u001b[32m━━━━━━━━━━━━━━━━━━━━\u001b[0m\u001b[37m\u001b[0m \u001b[1m0s\u001b[0m 32ms/step - loss: 10.7423 - mae: 10.7423\n",
      "Epoch 73/200\n",
      "\u001b[1m1/1\u001b[0m \u001b[32m━━━━━━━━━━━━━━━━━━━━\u001b[0m\u001b[37m\u001b[0m \u001b[1m0s\u001b[0m 40ms/step - loss: 10.7147 - mae: 10.7147\n",
      "Epoch 74/200\n",
      "\u001b[1m1/1\u001b[0m \u001b[32m━━━━━━━━━━━━━━━━━━━━\u001b[0m\u001b[37m\u001b[0m \u001b[1m0s\u001b[0m 35ms/step - loss: 10.6869 - mae: 10.6869\n",
      "Epoch 75/200\n",
      "\u001b[1m1/1\u001b[0m \u001b[32m━━━━━━━━━━━━━━━━━━━━\u001b[0m\u001b[37m\u001b[0m \u001b[1m0s\u001b[0m 47ms/step - loss: 10.6589 - mae: 10.6589\n",
      "Epoch 76/200\n",
      "\u001b[1m1/1\u001b[0m \u001b[32m━━━━━━━━━━━━━━━━━━━━\u001b[0m\u001b[37m\u001b[0m \u001b[1m0s\u001b[0m 33ms/step - loss: 10.6306 - mae: 10.6306\n",
      "Epoch 77/200\n",
      "\u001b[1m1/1\u001b[0m \u001b[32m━━━━━━━━━━━━━━━━━━━━\u001b[0m\u001b[37m\u001b[0m \u001b[1m0s\u001b[0m 33ms/step - loss: 10.6025 - mae: 10.6025\n",
      "Epoch 78/200\n",
      "\u001b[1m1/1\u001b[0m \u001b[32m━━━━━━━━━━━━━━━━━━━━\u001b[0m\u001b[37m\u001b[0m \u001b[1m0s\u001b[0m 39ms/step - loss: 10.5742 - mae: 10.5742\n",
      "Epoch 79/200\n",
      "\u001b[1m1/1\u001b[0m \u001b[32m━━━━━━━━━━━━━━━━━━━━\u001b[0m\u001b[37m\u001b[0m \u001b[1m0s\u001b[0m 37ms/step - loss: 10.5456 - mae: 10.5456\n",
      "Epoch 80/200\n",
      "\u001b[1m1/1\u001b[0m \u001b[32m━━━━━━━━━━━━━━━━━━━━\u001b[0m\u001b[37m\u001b[0m \u001b[1m0s\u001b[0m 40ms/step - loss: 10.5168 - mae: 10.5168\n",
      "Epoch 81/200\n",
      "\u001b[1m1/1\u001b[0m \u001b[32m━━━━━━━━━━━━━━━━━━━━\u001b[0m\u001b[37m\u001b[0m \u001b[1m0s\u001b[0m 35ms/step - loss: 10.4876 - mae: 10.4876\n",
      "Epoch 82/200\n",
      "\u001b[1m1/1\u001b[0m \u001b[32m━━━━━━━━━━━━━━━━━━━━\u001b[0m\u001b[37m\u001b[0m \u001b[1m0s\u001b[0m 39ms/step - loss: 10.4576 - mae: 10.4576\n",
      "Epoch 83/200\n",
      "\u001b[1m1/1\u001b[0m \u001b[32m━━━━━━━━━━━━━━━━━━━━\u001b[0m\u001b[37m\u001b[0m \u001b[1m0s\u001b[0m 41ms/step - loss: 10.4269 - mae: 10.4269\n",
      "Epoch 84/200\n",
      "\u001b[1m1/1\u001b[0m \u001b[32m━━━━━━━━━━━━━━━━━━━━\u001b[0m\u001b[37m\u001b[0m \u001b[1m0s\u001b[0m 38ms/step - loss: 10.3955 - mae: 10.3955\n",
      "Epoch 85/200\n",
      "\u001b[1m1/1\u001b[0m \u001b[32m━━━━━━━━━━━━━━━━━━━━\u001b[0m\u001b[37m\u001b[0m \u001b[1m0s\u001b[0m 35ms/step - loss: 10.3637 - mae: 10.3637\n",
      "Epoch 86/200\n",
      "\u001b[1m1/1\u001b[0m \u001b[32m━━━━━━━━━━━━━━━━━━━━\u001b[0m\u001b[37m\u001b[0m \u001b[1m0s\u001b[0m 40ms/step - loss: 10.3314 - mae: 10.3314\n",
      "Epoch 87/200\n",
      "\u001b[1m1/1\u001b[0m \u001b[32m━━━━━━━━━━━━━━━━━━━━\u001b[0m\u001b[37m\u001b[0m \u001b[1m0s\u001b[0m 35ms/step - loss: 10.2986 - mae: 10.2986\n",
      "Epoch 88/200\n",
      "\u001b[1m1/1\u001b[0m \u001b[32m━━━━━━━━━━━━━━━━━━━━\u001b[0m\u001b[37m\u001b[0m \u001b[1m0s\u001b[0m 37ms/step - loss: 10.2654 - mae: 10.2654\n",
      "Epoch 89/200\n",
      "\u001b[1m1/1\u001b[0m \u001b[32m━━━━━━━━━━━━━━━━━━━━\u001b[0m\u001b[37m\u001b[0m \u001b[1m0s\u001b[0m 39ms/step - loss: 10.2319 - mae: 10.2319\n",
      "Epoch 90/200\n",
      "\u001b[1m1/1\u001b[0m \u001b[32m━━━━━━━━━━━━━━━━━━━━\u001b[0m\u001b[37m\u001b[0m \u001b[1m0s\u001b[0m 32ms/step - loss: 10.1979 - mae: 10.1979\n",
      "Epoch 91/200\n",
      "\u001b[1m1/1\u001b[0m \u001b[32m━━━━━━━━━━━━━━━━━━━━\u001b[0m\u001b[37m\u001b[0m \u001b[1m0s\u001b[0m 41ms/step - loss: 10.1636 - mae: 10.1636\n",
      "Epoch 92/200\n",
      "\u001b[1m1/1\u001b[0m \u001b[32m━━━━━━━━━━━━━━━━━━━━\u001b[0m\u001b[37m\u001b[0m \u001b[1m0s\u001b[0m 118ms/step - loss: 10.1290 - mae: 10.1290\n",
      "Epoch 93/200\n",
      "\u001b[1m1/1\u001b[0m \u001b[32m━━━━━━━━━━━━━━━━━━━━\u001b[0m\u001b[37m\u001b[0m \u001b[1m0s\u001b[0m 48ms/step - loss: 10.0942 - mae: 10.0942\n",
      "Epoch 94/200\n",
      "\u001b[1m1/1\u001b[0m \u001b[32m━━━━━━━━━━━━━━━━━━━━\u001b[0m\u001b[37m\u001b[0m \u001b[1m0s\u001b[0m 34ms/step - loss: 10.0592 - mae: 10.0592\n",
      "Epoch 95/200\n",
      "\u001b[1m1/1\u001b[0m \u001b[32m━━━━━━━━━━━━━━━━━━━━\u001b[0m\u001b[37m\u001b[0m \u001b[1m0s\u001b[0m 36ms/step - loss: 10.0241 - mae: 10.0241\n",
      "Epoch 96/200\n",
      "\u001b[1m1/1\u001b[0m \u001b[32m━━━━━━━━━━━━━━━━━━━━\u001b[0m\u001b[37m\u001b[0m \u001b[1m0s\u001b[0m 38ms/step - loss: 9.9887 - mae: 9.9887\n",
      "Epoch 97/200\n",
      "\u001b[1m1/1\u001b[0m \u001b[32m━━━━━━━━━━━━━━━━━━━━\u001b[0m\u001b[37m\u001b[0m \u001b[1m0s\u001b[0m 39ms/step - loss: 9.9533 - mae: 9.9533\n",
      "Epoch 98/200\n",
      "\u001b[1m1/1\u001b[0m \u001b[32m━━━━━━━━━━━━━━━━━━━━\u001b[0m\u001b[37m\u001b[0m \u001b[1m0s\u001b[0m 41ms/step - loss: 9.9179 - mae: 9.9179\n",
      "Epoch 99/200\n",
      "\u001b[1m1/1\u001b[0m \u001b[32m━━━━━━━━━━━━━━━━━━━━\u001b[0m\u001b[37m\u001b[0m \u001b[1m0s\u001b[0m 43ms/step - loss: 9.8821 - mae: 9.8821\n",
      "Epoch 100/200\n",
      "\u001b[1m1/1\u001b[0m \u001b[32m━━━━━━━━━━━━━━━━━━━━\u001b[0m\u001b[37m\u001b[0m \u001b[1m0s\u001b[0m 44ms/step - loss: 9.8460 - mae: 9.8460\n",
      "Epoch 101/200\n",
      "\u001b[1m1/1\u001b[0m \u001b[32m━━━━━━━━━━━━━━━━━━━━\u001b[0m\u001b[37m\u001b[0m \u001b[1m0s\u001b[0m 99ms/step - loss: 9.8095 - mae: 9.8095\n",
      "Epoch 102/200\n",
      "\u001b[1m1/1\u001b[0m \u001b[32m━━━━━━━━━━━━━━━━━━━━\u001b[0m\u001b[37m\u001b[0m \u001b[1m0s\u001b[0m 99ms/step - loss: 9.7728 - mae: 9.7728\n",
      "Epoch 103/200\n",
      "\u001b[1m1/1\u001b[0m \u001b[32m━━━━━━━━━━━━━━━━━━━━\u001b[0m\u001b[37m\u001b[0m \u001b[1m0s\u001b[0m 64ms/step - loss: 9.7358 - mae: 9.7358\n",
      "Epoch 104/200\n",
      "\u001b[1m1/1\u001b[0m \u001b[32m━━━━━━━━━━━━━━━━━━━━\u001b[0m\u001b[37m\u001b[0m \u001b[1m0s\u001b[0m 95ms/step - loss: 9.6986 - mae: 9.6986\n",
      "Epoch 105/200\n",
      "\u001b[1m1/1\u001b[0m \u001b[32m━━━━━━━━━━━━━━━━━━━━\u001b[0m\u001b[37m\u001b[0m \u001b[1m0s\u001b[0m 94ms/step - loss: 9.6613 - mae: 9.6613\n",
      "Epoch 106/200\n",
      "\u001b[1m1/1\u001b[0m \u001b[32m━━━━━━━━━━━━━━━━━━━━\u001b[0m\u001b[37m\u001b[0m \u001b[1m0s\u001b[0m 79ms/step - loss: 9.6237 - mae: 9.6237\n",
      "Epoch 107/200\n",
      "\u001b[1m1/1\u001b[0m \u001b[32m━━━━━━━━━━━━━━━━━━━━\u001b[0m\u001b[37m\u001b[0m \u001b[1m0s\u001b[0m 86ms/step - loss: 9.5861 - mae: 9.5861\n",
      "Epoch 108/200\n",
      "\u001b[1m1/1\u001b[0m \u001b[32m━━━━━━━━━━━━━━━━━━━━\u001b[0m\u001b[37m\u001b[0m \u001b[1m0s\u001b[0m 51ms/step - loss: 9.5480 - mae: 9.5480\n",
      "Epoch 109/200\n",
      "\u001b[1m1/1\u001b[0m \u001b[32m━━━━━━━━━━━━━━━━━━━━\u001b[0m\u001b[37m\u001b[0m \u001b[1m0s\u001b[0m 44ms/step - loss: 9.5097 - mae: 9.5097\n",
      "Epoch 110/200\n",
      "\u001b[1m1/1\u001b[0m \u001b[32m━━━━━━━━━━━━━━━━━━━━\u001b[0m\u001b[37m\u001b[0m \u001b[1m0s\u001b[0m 37ms/step - loss: 9.4711 - mae: 9.4711\n",
      "Epoch 111/200\n",
      "\u001b[1m1/1\u001b[0m \u001b[32m━━━━━━━━━━━━━━━━━━━━\u001b[0m\u001b[37m\u001b[0m \u001b[1m0s\u001b[0m 36ms/step - loss: 9.4322 - mae: 9.4322\n",
      "Epoch 112/200\n",
      "\u001b[1m1/1\u001b[0m \u001b[32m━━━━━━━━━━━━━━━━━━━━\u001b[0m\u001b[37m\u001b[0m \u001b[1m0s\u001b[0m 37ms/step - loss: 9.3928 - mae: 9.3928\n",
      "Epoch 113/200\n",
      "\u001b[1m1/1\u001b[0m \u001b[32m━━━━━━━━━━━━━━━━━━━━\u001b[0m\u001b[37m\u001b[0m \u001b[1m0s\u001b[0m 38ms/step - loss: 9.3531 - mae: 9.3531\n",
      "Epoch 114/200\n",
      "\u001b[1m1/1\u001b[0m \u001b[32m━━━━━━━━━━━━━━━━━━━━\u001b[0m\u001b[37m\u001b[0m \u001b[1m0s\u001b[0m 36ms/step - loss: 9.3131 - mae: 9.3131\n",
      "Epoch 115/200\n",
      "\u001b[1m1/1\u001b[0m \u001b[32m━━━━━━━━━━━━━━━━━━━━\u001b[0m\u001b[37m\u001b[0m \u001b[1m0s\u001b[0m 178ms/step - loss: 9.2729 - mae: 9.2729\n",
      "Epoch 116/200\n",
      "\u001b[1m1/1\u001b[0m \u001b[32m━━━━━━━━━━━━━━━━━━━━\u001b[0m\u001b[37m\u001b[0m \u001b[1m0s\u001b[0m 84ms/step - loss: 9.2324 - mae: 9.2324\n",
      "Epoch 117/200\n",
      "\u001b[1m1/1\u001b[0m \u001b[32m━━━━━━━━━━━━━━━━━━━━\u001b[0m\u001b[37m\u001b[0m \u001b[1m0s\u001b[0m 75ms/step - loss: 9.1916 - mae: 9.1916\n",
      "Epoch 118/200\n",
      "\u001b[1m1/1\u001b[0m \u001b[32m━━━━━━━━━━━━━━━━━━━━\u001b[0m\u001b[37m\u001b[0m \u001b[1m0s\u001b[0m 54ms/step - loss: 9.1505 - mae: 9.1505\n",
      "Epoch 119/200\n",
      "\u001b[1m1/1\u001b[0m \u001b[32m━━━━━━━━━━━━━━━━━━━━\u001b[0m\u001b[37m\u001b[0m \u001b[1m0s\u001b[0m 49ms/step - loss: 9.1092 - mae: 9.1092\n",
      "Epoch 120/200\n",
      "\u001b[1m1/1\u001b[0m \u001b[32m━━━━━━━━━━━━━━━━━━━━\u001b[0m\u001b[37m\u001b[0m \u001b[1m0s\u001b[0m 53ms/step - loss: 9.0675 - mae: 9.0675\n",
      "Epoch 121/200\n",
      "\u001b[1m1/1\u001b[0m \u001b[32m━━━━━━━━━━━━━━━━━━━━\u001b[0m\u001b[37m\u001b[0m \u001b[1m0s\u001b[0m 51ms/step - loss: 9.0254 - mae: 9.0254\n",
      "Epoch 122/200\n",
      "\u001b[1m1/1\u001b[0m \u001b[32m━━━━━━━━━━━━━━━━━━━━\u001b[0m\u001b[37m\u001b[0m \u001b[1m0s\u001b[0m 53ms/step - loss: 8.9829 - mae: 8.9829\n",
      "Epoch 123/200\n",
      "\u001b[1m1/1\u001b[0m \u001b[32m━━━━━━━━━━━━━━━━━━━━\u001b[0m\u001b[37m\u001b[0m \u001b[1m0s\u001b[0m 87ms/step - loss: 8.9401 - mae: 8.9401\n",
      "Epoch 124/200\n",
      "\u001b[1m1/1\u001b[0m \u001b[32m━━━━━━━━━━━━━━━━━━━━\u001b[0m\u001b[37m\u001b[0m \u001b[1m0s\u001b[0m 182ms/step - loss: 8.8971 - mae: 8.8971\n",
      "Epoch 125/200\n",
      "\u001b[1m1/1\u001b[0m \u001b[32m━━━━━━━━━━━━━━━━━━━━\u001b[0m\u001b[37m\u001b[0m \u001b[1m0s\u001b[0m 108ms/step - loss: 8.8534 - mae: 8.8534\n",
      "Epoch 126/200\n",
      "\u001b[1m1/1\u001b[0m \u001b[32m━━━━━━━━━━━━━━━━━━━━\u001b[0m\u001b[37m\u001b[0m \u001b[1m0s\u001b[0m 39ms/step - loss: 8.8090 - mae: 8.8090\n",
      "Epoch 127/200\n",
      "\u001b[1m1/1\u001b[0m \u001b[32m━━━━━━━━━━━━━━━━━━━━\u001b[0m\u001b[37m\u001b[0m \u001b[1m0s\u001b[0m 37ms/step - loss: 8.7642 - mae: 8.7642\n",
      "Epoch 128/200\n",
      "\u001b[1m1/1\u001b[0m \u001b[32m━━━━━━━━━━━━━━━━━━━━\u001b[0m\u001b[37m\u001b[0m \u001b[1m0s\u001b[0m 34ms/step - loss: 8.7191 - mae: 8.7191\n",
      "Epoch 129/200\n",
      "\u001b[1m1/1\u001b[0m \u001b[32m━━━━━━━━━━━━━━━━━━━━\u001b[0m\u001b[37m\u001b[0m \u001b[1m0s\u001b[0m 49ms/step - loss: 8.6739 - mae: 8.6739\n",
      "Epoch 130/200\n",
      "\u001b[1m1/1\u001b[0m \u001b[32m━━━━━━━━━━━━━━━━━━━━\u001b[0m\u001b[37m\u001b[0m \u001b[1m0s\u001b[0m 65ms/step - loss: 8.6281 - mae: 8.6281\n",
      "Epoch 131/200\n",
      "\u001b[1m1/1\u001b[0m \u001b[32m━━━━━━━━━━━━━━━━━━━━\u001b[0m\u001b[37m\u001b[0m \u001b[1m0s\u001b[0m 53ms/step - loss: 8.5818 - mae: 8.5818\n",
      "Epoch 132/200\n",
      "\u001b[1m1/1\u001b[0m \u001b[32m━━━━━━━━━━━━━━━━━━━━\u001b[0m\u001b[37m\u001b[0m \u001b[1m0s\u001b[0m 52ms/step - loss: 8.5347 - mae: 8.5347\n",
      "Epoch 133/200\n",
      "\u001b[1m1/1\u001b[0m \u001b[32m━━━━━━━━━━━━━━━━━━━━\u001b[0m\u001b[37m\u001b[0m \u001b[1m0s\u001b[0m 48ms/step - loss: 8.4863 - mae: 8.4863\n",
      "Epoch 134/200\n",
      "\u001b[1m1/1\u001b[0m \u001b[32m━━━━━━━━━━━━━━━━━━━━\u001b[0m\u001b[37m\u001b[0m \u001b[1m0s\u001b[0m 53ms/step - loss: 8.4365 - mae: 8.4365\n",
      "Epoch 135/200\n",
      "\u001b[1m1/1\u001b[0m \u001b[32m━━━━━━━━━━━━━━━━━━━━\u001b[0m\u001b[37m\u001b[0m \u001b[1m0s\u001b[0m 125ms/step - loss: 8.3861 - mae: 8.3861\n",
      "Epoch 136/200\n",
      "\u001b[1m1/1\u001b[0m \u001b[32m━━━━━━━━━━━━━━━━━━━━\u001b[0m\u001b[37m\u001b[0m \u001b[1m0s\u001b[0m 60ms/step - loss: 8.3350 - mae: 8.3350\n",
      "Epoch 137/200\n",
      "\u001b[1m1/1\u001b[0m \u001b[32m━━━━━━━━━━━━━━━━━━━━\u001b[0m\u001b[37m\u001b[0m \u001b[1m0s\u001b[0m 54ms/step - loss: 8.2831 - mae: 8.2831\n",
      "Epoch 138/200\n",
      "\u001b[1m1/1\u001b[0m \u001b[32m━━━━━━━━━━━━━━━━━━━━\u001b[0m\u001b[37m\u001b[0m \u001b[1m0s\u001b[0m 37ms/step - loss: 8.2308 - mae: 8.2308\n",
      "Epoch 139/200\n",
      "\u001b[1m1/1\u001b[0m \u001b[32m━━━━━━━━━━━━━━━━━━━━\u001b[0m\u001b[37m\u001b[0m \u001b[1m0s\u001b[0m 34ms/step - loss: 8.1779 - mae: 8.1779\n",
      "Epoch 140/200\n",
      "\u001b[1m1/1\u001b[0m \u001b[32m━━━━━━━━━━━━━━━━━━━━\u001b[0m\u001b[37m\u001b[0m \u001b[1m0s\u001b[0m 40ms/step - loss: 8.1245 - mae: 8.1245\n",
      "Epoch 141/200\n",
      "\u001b[1m1/1\u001b[0m \u001b[32m━━━━━━━━━━━━━━━━━━━━\u001b[0m\u001b[37m\u001b[0m \u001b[1m0s\u001b[0m 39ms/step - loss: 8.0706 - mae: 8.0706\n",
      "Epoch 142/200\n",
      "\u001b[1m1/1\u001b[0m \u001b[32m━━━━━━━━━━━━━━━━━━━━\u001b[0m\u001b[37m\u001b[0m \u001b[1m0s\u001b[0m 37ms/step - loss: 8.0161 - mae: 8.0161\n",
      "Epoch 143/200\n",
      "\u001b[1m1/1\u001b[0m \u001b[32m━━━━━━━━━━━━━━━━━━━━\u001b[0m\u001b[37m\u001b[0m \u001b[1m0s\u001b[0m 36ms/step - loss: 7.9611 - mae: 7.9611\n",
      "Epoch 144/200\n",
      "\u001b[1m1/1\u001b[0m \u001b[32m━━━━━━━━━━━━━━━━━━━━\u001b[0m\u001b[37m\u001b[0m \u001b[1m0s\u001b[0m 44ms/step - loss: 7.9055 - mae: 7.9055\n",
      "Epoch 145/200\n",
      "\u001b[1m1/1\u001b[0m \u001b[32m━━━━━━━━━━━━━━━━━━━━\u001b[0m\u001b[37m\u001b[0m \u001b[1m0s\u001b[0m 42ms/step - loss: 7.8494 - mae: 7.8494\n",
      "Epoch 146/200\n",
      "\u001b[1m1/1\u001b[0m \u001b[32m━━━━━━━━━━━━━━━━━━━━\u001b[0m\u001b[37m\u001b[0m \u001b[1m0s\u001b[0m 36ms/step - loss: 7.7927 - mae: 7.7927\n",
      "Epoch 147/200\n",
      "\u001b[1m1/1\u001b[0m \u001b[32m━━━━━━━━━━━━━━━━━━━━\u001b[0m\u001b[37m\u001b[0m \u001b[1m0s\u001b[0m 39ms/step - loss: 7.7355 - mae: 7.7355\n",
      "Epoch 148/200\n",
      "\u001b[1m1/1\u001b[0m \u001b[32m━━━━━━━━━━━━━━━━━━━━\u001b[0m\u001b[37m\u001b[0m \u001b[1m0s\u001b[0m 38ms/step - loss: 7.6777 - mae: 7.6777\n",
      "Epoch 149/200\n",
      "\u001b[1m1/1\u001b[0m \u001b[32m━━━━━━━━━━━━━━━━━━━━\u001b[0m\u001b[37m\u001b[0m \u001b[1m0s\u001b[0m 38ms/step - loss: 7.6195 - mae: 7.6195\n",
      "Epoch 150/200\n",
      "\u001b[1m1/1\u001b[0m \u001b[32m━━━━━━━━━━━━━━━━━━━━\u001b[0m\u001b[37m\u001b[0m \u001b[1m0s\u001b[0m 37ms/step - loss: 7.5607 - mae: 7.5607\n",
      "Epoch 151/200\n",
      "\u001b[1m1/1\u001b[0m \u001b[32m━━━━━━━━━━━━━━━━━━━━\u001b[0m\u001b[37m\u001b[0m \u001b[1m0s\u001b[0m 34ms/step - loss: 7.5015 - mae: 7.5015\n",
      "Epoch 152/200\n",
      "\u001b[1m1/1\u001b[0m \u001b[32m━━━━━━━━━━━━━━━━━━━━\u001b[0m\u001b[37m\u001b[0m \u001b[1m0s\u001b[0m 39ms/step - loss: 7.4417 - mae: 7.4417\n",
      "Epoch 153/200\n",
      "\u001b[1m1/1\u001b[0m \u001b[32m━━━━━━━━━━━━━━━━━━━━\u001b[0m\u001b[37m\u001b[0m \u001b[1m0s\u001b[0m 41ms/step - loss: 7.3813 - mae: 7.3813\n",
      "Epoch 154/200\n",
      "\u001b[1m1/1\u001b[0m \u001b[32m━━━━━━━━━━━━━━━━━━━━\u001b[0m\u001b[37m\u001b[0m \u001b[1m0s\u001b[0m 37ms/step - loss: 7.3206 - mae: 7.3206\n",
      "Epoch 155/200\n",
      "\u001b[1m1/1\u001b[0m \u001b[32m━━━━━━━━━━━━━━━━━━━━\u001b[0m\u001b[37m\u001b[0m \u001b[1m0s\u001b[0m 116ms/step - loss: 7.2597 - mae: 7.2597\n",
      "Epoch 156/200\n",
      "\u001b[1m1/1\u001b[0m \u001b[32m━━━━━━━━━━━━━━━━━━━━\u001b[0m\u001b[37m\u001b[0m \u001b[1m0s\u001b[0m 45ms/step - loss: 7.1983 - mae: 7.1983\n",
      "Epoch 157/200\n",
      "\u001b[1m1/1\u001b[0m \u001b[32m━━━━━━━━━━━━━━━━━━━━\u001b[0m\u001b[37m\u001b[0m \u001b[1m0s\u001b[0m 37ms/step - loss: 7.1367 - mae: 7.1367\n",
      "Epoch 158/200\n",
      "\u001b[1m1/1\u001b[0m \u001b[32m━━━━━━━━━━━━━━━━━━━━\u001b[0m\u001b[37m\u001b[0m \u001b[1m0s\u001b[0m 109ms/step - loss: 7.0744 - mae: 7.0744\n",
      "Epoch 159/200\n",
      "\u001b[1m1/1\u001b[0m \u001b[32m━━━━━━━━━━━━━━━━━━━━\u001b[0m\u001b[37m\u001b[0m \u001b[1m0s\u001b[0m 93ms/step - loss: 7.0116 - mae: 7.0116\n",
      "Epoch 160/200\n",
      "\u001b[1m1/1\u001b[0m \u001b[32m━━━━━━━━━━━━━━━━━━━━\u001b[0m\u001b[37m\u001b[0m \u001b[1m0s\u001b[0m 39ms/step - loss: 6.9483 - mae: 6.9483\n",
      "Epoch 161/200\n",
      "\u001b[1m1/1\u001b[0m \u001b[32m━━━━━━━━━━━━━━━━━━━━\u001b[0m\u001b[37m\u001b[0m \u001b[1m0s\u001b[0m 37ms/step - loss: 6.8843 - mae: 6.8843\n",
      "Epoch 162/200\n",
      "\u001b[1m1/1\u001b[0m \u001b[32m━━━━━━━━━━━━━━━━━━━━\u001b[0m\u001b[37m\u001b[0m \u001b[1m0s\u001b[0m 35ms/step - loss: 6.8198 - mae: 6.8198\n",
      "Epoch 163/200\n",
      "\u001b[1m1/1\u001b[0m \u001b[32m━━━━━━━━━━━━━━━━━━━━\u001b[0m\u001b[37m\u001b[0m \u001b[1m0s\u001b[0m 40ms/step - loss: 6.7547 - mae: 6.7547\n",
      "Epoch 164/200\n",
      "\u001b[1m1/1\u001b[0m \u001b[32m━━━━━━━━━━━━━━━━━━━━\u001b[0m\u001b[37m\u001b[0m \u001b[1m0s\u001b[0m 39ms/step - loss: 6.6890 - mae: 6.6890\n",
      "Epoch 165/200\n",
      "\u001b[1m1/1\u001b[0m \u001b[32m━━━━━━━━━━━━━━━━━━━━\u001b[0m\u001b[37m\u001b[0m \u001b[1m0s\u001b[0m 46ms/step - loss: 6.6226 - mae: 6.6226\n",
      "Epoch 166/200\n",
      "\u001b[1m1/1\u001b[0m \u001b[32m━━━━━━━━━━━━━━━━━━━━\u001b[0m\u001b[37m\u001b[0m \u001b[1m0s\u001b[0m 33ms/step - loss: 6.5555 - mae: 6.5555\n",
      "Epoch 167/200\n",
      "\u001b[1m1/1\u001b[0m \u001b[32m━━━━━━━━━━━━━━━━━━━━\u001b[0m\u001b[37m\u001b[0m \u001b[1m0s\u001b[0m 82ms/step - loss: 6.4877 - mae: 6.4877\n",
      "Epoch 168/200\n",
      "\u001b[1m1/1\u001b[0m \u001b[32m━━━━━━━━━━━━━━━━━━━━\u001b[0m\u001b[37m\u001b[0m \u001b[1m0s\u001b[0m 97ms/step - loss: 6.4194 - mae: 6.4194\n",
      "Epoch 169/200\n",
      "\u001b[1m1/1\u001b[0m \u001b[32m━━━━━━━━━━━━━━━━━━━━\u001b[0m\u001b[37m\u001b[0m \u001b[1m0s\u001b[0m 72ms/step - loss: 6.3504 - mae: 6.3504\n",
      "Epoch 170/200\n",
      "\u001b[1m1/1\u001b[0m \u001b[32m━━━━━━━━━━━━━━━━━━━━\u001b[0m\u001b[37m\u001b[0m \u001b[1m0s\u001b[0m 55ms/step - loss: 6.2808 - mae: 6.2808\n",
      "Epoch 171/200\n",
      "\u001b[1m1/1\u001b[0m \u001b[32m━━━━━━━━━━━━━━━━━━━━\u001b[0m\u001b[37m\u001b[0m \u001b[1m0s\u001b[0m 43ms/step - loss: 6.2106 - mae: 6.2106\n",
      "Epoch 172/200\n",
      "\u001b[1m1/1\u001b[0m \u001b[32m━━━━━━━━━━━━━━━━━━━━\u001b[0m\u001b[37m\u001b[0m \u001b[1m0s\u001b[0m 35ms/step - loss: 6.1399 - mae: 6.1399\n",
      "Epoch 173/200\n",
      "\u001b[1m1/1\u001b[0m \u001b[32m━━━━━━━━━━━━━━━━━━━━\u001b[0m\u001b[37m\u001b[0m \u001b[1m0s\u001b[0m 40ms/step - loss: 6.0684 - mae: 6.0684\n",
      "Epoch 174/200\n",
      "\u001b[1m1/1\u001b[0m \u001b[32m━━━━━━━━━━━━━━━━━━━━\u001b[0m\u001b[37m\u001b[0m \u001b[1m0s\u001b[0m 35ms/step - loss: 5.9964 - mae: 5.9964\n",
      "Epoch 175/200\n",
      "\u001b[1m1/1\u001b[0m \u001b[32m━━━━━━━━━━━━━━━━━━━━\u001b[0m\u001b[37m\u001b[0m \u001b[1m0s\u001b[0m 114ms/step - loss: 5.9237 - mae: 5.9237\n",
      "Epoch 176/200\n",
      "\u001b[1m1/1\u001b[0m \u001b[32m━━━━━━━━━━━━━━━━━━━━\u001b[0m\u001b[37m\u001b[0m \u001b[1m0s\u001b[0m 52ms/step - loss: 5.8503 - mae: 5.8503\n",
      "Epoch 177/200\n",
      "\u001b[1m1/1\u001b[0m \u001b[32m━━━━━━━━━━━━━━━━━━━━\u001b[0m\u001b[37m\u001b[0m \u001b[1m0s\u001b[0m 64ms/step - loss: 5.7762 - mae: 5.7762\n",
      "Epoch 178/200\n",
      "\u001b[1m1/1\u001b[0m \u001b[32m━━━━━━━━━━━━━━━━━━━━\u001b[0m\u001b[37m\u001b[0m \u001b[1m0s\u001b[0m 73ms/step - loss: 5.7015 - mae: 5.7015\n",
      "Epoch 179/200\n",
      "\u001b[1m1/1\u001b[0m \u001b[32m━━━━━━━━━━━━━━━━━━━━\u001b[0m\u001b[37m\u001b[0m \u001b[1m0s\u001b[0m 46ms/step - loss: 5.6261 - mae: 5.6261\n",
      "Epoch 180/200\n",
      "\u001b[1m1/1\u001b[0m \u001b[32m━━━━━━━━━━━━━━━━━━━━\u001b[0m\u001b[37m\u001b[0m \u001b[1m0s\u001b[0m 37ms/step - loss: 5.5500 - mae: 5.5500\n",
      "Epoch 181/200\n",
      "\u001b[1m1/1\u001b[0m \u001b[32m━━━━━━━━━━━━━━━━━━━━\u001b[0m\u001b[37m\u001b[0m \u001b[1m0s\u001b[0m 38ms/step - loss: 5.4732 - mae: 5.4732\n",
      "Epoch 182/200\n",
      "\u001b[1m1/1\u001b[0m \u001b[32m━━━━━━━━━━━━━━━━━━━━\u001b[0m\u001b[37m\u001b[0m \u001b[1m0s\u001b[0m 71ms/step - loss: 5.3958 - mae: 5.3958\n",
      "Epoch 183/200\n",
      "\u001b[1m1/1\u001b[0m \u001b[32m━━━━━━━━━━━━━━━━━━━━\u001b[0m\u001b[37m\u001b[0m \u001b[1m0s\u001b[0m 83ms/step - loss: 5.3177 - mae: 5.3177\n",
      "Epoch 184/200\n",
      "\u001b[1m1/1\u001b[0m \u001b[32m━━━━━━━━━━━━━━━━━━━━\u001b[0m\u001b[37m\u001b[0m \u001b[1m0s\u001b[0m 77ms/step - loss: 5.2393 - mae: 5.2393\n",
      "Epoch 185/200\n",
      "\u001b[1m1/1\u001b[0m \u001b[32m━━━━━━━━━━━━━━━━━━━━\u001b[0m\u001b[37m\u001b[0m \u001b[1m0s\u001b[0m 48ms/step - loss: 5.1603 - mae: 5.1603\n",
      "Epoch 186/200\n",
      "\u001b[1m1/1\u001b[0m \u001b[32m━━━━━━━━━━━━━━━━━━━━\u001b[0m\u001b[37m\u001b[0m \u001b[1m0s\u001b[0m 46ms/step - loss: 5.0804 - mae: 5.0804\n",
      "Epoch 187/200\n",
      "\u001b[1m1/1\u001b[0m \u001b[32m━━━━━━━━━━━━━━━━━━━━\u001b[0m\u001b[37m\u001b[0m \u001b[1m0s\u001b[0m 45ms/step - loss: 4.9995 - mae: 4.9995\n",
      "Epoch 188/200\n",
      "\u001b[1m1/1\u001b[0m \u001b[32m━━━━━━━━━━━━━━━━━━━━\u001b[0m\u001b[37m\u001b[0m \u001b[1m0s\u001b[0m 44ms/step - loss: 4.9165 - mae: 4.9165\n",
      "Epoch 189/200\n",
      "\u001b[1m1/1\u001b[0m \u001b[32m━━━━━━━━━━━━━━━━━━━━\u001b[0m\u001b[37m\u001b[0m \u001b[1m0s\u001b[0m 40ms/step - loss: 4.8323 - mae: 4.8323\n",
      "Epoch 190/200\n",
      "\u001b[1m1/1\u001b[0m \u001b[32m━━━━━━━━━━━━━━━━━━━━\u001b[0m\u001b[37m\u001b[0m \u001b[1m0s\u001b[0m 34ms/step - loss: 4.7471 - mae: 4.7471\n",
      "Epoch 191/200\n",
      "\u001b[1m1/1\u001b[0m \u001b[32m━━━━━━━━━━━━━━━━━━━━\u001b[0m\u001b[37m\u001b[0m \u001b[1m0s\u001b[0m 38ms/step - loss: 4.6608 - mae: 4.6608\n",
      "Epoch 192/200\n",
      "\u001b[1m1/1\u001b[0m \u001b[32m━━━━━━━━━━━━━━━━━━━━\u001b[0m\u001b[37m\u001b[0m \u001b[1m0s\u001b[0m 39ms/step - loss: 4.5736 - mae: 4.5736\n",
      "Epoch 193/200\n",
      "\u001b[1m1/1\u001b[0m \u001b[32m━━━━━━━━━━━━━━━━━━━━\u001b[0m\u001b[37m\u001b[0m \u001b[1m0s\u001b[0m 134ms/step - loss: 4.4855 - mae: 4.4855\n",
      "Epoch 194/200\n",
      "\u001b[1m1/1\u001b[0m \u001b[32m━━━━━━━━━━━━━━━━━━━━\u001b[0m\u001b[37m\u001b[0m \u001b[1m0s\u001b[0m 38ms/step - loss: 4.3966 - mae: 4.3966\n",
      "Epoch 195/200\n",
      "\u001b[1m1/1\u001b[0m \u001b[32m━━━━━━━━━━━━━━━━━━━━\u001b[0m\u001b[37m\u001b[0m \u001b[1m0s\u001b[0m 37ms/step - loss: 4.3068 - mae: 4.3068\n",
      "Epoch 196/200\n",
      "\u001b[1m1/1\u001b[0m \u001b[32m━━━━━━━━━━━━━━━━━━━━\u001b[0m\u001b[37m\u001b[0m \u001b[1m0s\u001b[0m 80ms/step - loss: 4.2161 - mae: 4.2161\n",
      "Epoch 197/200\n",
      "\u001b[1m1/1\u001b[0m \u001b[32m━━━━━━━━━━━━━━━━━━━━\u001b[0m\u001b[37m\u001b[0m \u001b[1m0s\u001b[0m 81ms/step - loss: 4.1244 - mae: 4.1244\n",
      "Epoch 198/200\n",
      "\u001b[1m1/1\u001b[0m \u001b[32m━━━━━━━━━━━━━━━━━━━━\u001b[0m\u001b[37m\u001b[0m \u001b[1m0s\u001b[0m 67ms/step - loss: 4.0756 - mae: 4.0756\n",
      "Epoch 199/200\n",
      "\u001b[1m1/1\u001b[0m \u001b[32m━━━━━━━━━━━━━━━━━━━━\u001b[0m\u001b[37m\u001b[0m \u001b[1m0s\u001b[0m 47ms/step - loss: 4.0476 - mae: 4.0476\n",
      "Epoch 200/200\n",
      "\u001b[1m1/1\u001b[0m \u001b[32m━━━━━━━━━━━━━━━━━━━━\u001b[0m\u001b[37m\u001b[0m \u001b[1m0s\u001b[0m 43ms/step - loss: 4.0211 - mae: 4.0211\n"
     ]
    },
    {
     "data": {
      "text/plain": [
       "<keras.src.callbacks.history.History at 0x2405531ac90>"
      ]
     },
     "execution_count": 20,
     "metadata": {},
     "output_type": "execute_result"
    }
   ],
   "source": [
    "# 1. Creating a model using Sequential API and adding more neurons or improving the number of Dense Layers with activation function of relu\n",
    "model = tf.keras.Sequential([\n",
    "    tf.keras.layers.Dense(100, activation=\"relu\"),\n",
    "    tf.keras.layers.Dense(100, activation=\"relu\"),\n",
    "    tf.keras.layers.Dense(100, activation=\"relu\"),\n",
    "    tf.keras.layers.Dense(1)\n",
    "])\n",
    "\n",
    "# Compiling a model\n",
    "model.compile(loss=tf.keras.losses.mae,\n",
    "              optimizer=tf.keras.optimizers.Adam(learning_rate=0.0001), # using another optimizaion function Adam and adding learing rate\n",
    "              metrics=[\"mae\"]\n",
    "              )\n",
    "\n",
    "# Fitting the model with data to train\n",
    "model.fit(X, y, epochs=200)"
   ]
  },
  {
   "cell_type": "code",
   "execution_count": 21,
   "metadata": {},
   "outputs": [
    {
     "name": "stdout",
     "output_type": "stream",
     "text": [
      "\u001b[1m1/1\u001b[0m \u001b[32m━━━━━━━━━━━━━━━━━━━━\u001b[0m\u001b[37m\u001b[0m \u001b[1m0s\u001b[0m 124ms/step\n"
     ]
    },
    {
     "data": {
      "text/plain": [
       "array([[30.05966]], dtype=float32)"
      ]
     },
     "execution_count": 21,
     "metadata": {},
     "output_type": "execute_result"
    }
   ],
   "source": [
    "# Testing and making predictions\n",
    "model.predict(input_data)"
   ]
  },
  {
   "cell_type": "markdown",
   "metadata": {},
   "source": [
    "##### Report:\n",
    "Finally, we made an accurate prediction, as we see above as the number of epochs grow, the loss function is also decreases"
   ]
  },
  {
   "cell_type": "markdown",
   "metadata": {},
   "source": [
    "## Improving our model Part 2\n",
    "This time , will add one extra hidden layer to out initial model"
   ]
  },
  {
   "cell_type": "code",
   "execution_count": 24,
   "metadata": {},
   "outputs": [
    {
     "name": "stdout",
     "output_type": "stream",
     "text": [
      "Epoch 1/100\n",
      "\u001b[1m1/1\u001b[0m \u001b[32m━━━━━━━━━━━━━━━━━━━━\u001b[0m\u001b[37m\u001b[0m \u001b[1m1s\u001b[0m 684ms/step - loss: 12.4918 - mae: 12.4918\n",
      "Epoch 2/100\n",
      "\u001b[1m1/1\u001b[0m \u001b[32m━━━━━━━━━━━━━━━━━━━━\u001b[0m\u001b[37m\u001b[0m \u001b[1m0s\u001b[0m 45ms/step - loss: 11.8906 - mae: 11.8906\n",
      "Epoch 3/100\n",
      "\u001b[1m1/1\u001b[0m \u001b[32m━━━━━━━━━━━━━━━━━━━━\u001b[0m\u001b[37m\u001b[0m \u001b[1m0s\u001b[0m 46ms/step - loss: 11.2833 - mae: 11.2833\n",
      "Epoch 4/100\n",
      "\u001b[1m1/1\u001b[0m \u001b[32m━━━━━━━━━━━━━━━━━━━━\u001b[0m\u001b[37m\u001b[0m \u001b[1m0s\u001b[0m 46ms/step - loss: 10.6606 - mae: 10.6606\n",
      "Epoch 5/100\n",
      "\u001b[1m1/1\u001b[0m \u001b[32m━━━━━━━━━━━━━━━━━━━━\u001b[0m\u001b[37m\u001b[0m \u001b[1m0s\u001b[0m 70ms/step - loss: 10.0155 - mae: 10.0155\n",
      "Epoch 6/100\n",
      "\u001b[1m1/1\u001b[0m \u001b[32m━━━━━━━━━━━━━━━━━━━━\u001b[0m\u001b[37m\u001b[0m \u001b[1m0s\u001b[0m 162ms/step - loss: 9.3495 - mae: 9.3495\n",
      "Epoch 7/100\n",
      "\u001b[1m1/1\u001b[0m \u001b[32m━━━━━━━━━━━━━━━━━━━━\u001b[0m\u001b[37m\u001b[0m \u001b[1m0s\u001b[0m 56ms/step - loss: 8.6530 - mae: 8.6530\n",
      "Epoch 8/100\n",
      "\u001b[1m1/1\u001b[0m \u001b[32m━━━━━━━━━━━━━━━━━━━━\u001b[0m\u001b[37m\u001b[0m \u001b[1m0s\u001b[0m 45ms/step - loss: 7.9219 - mae: 7.9219\n",
      "Epoch 9/100\n",
      "\u001b[1m1/1\u001b[0m \u001b[32m━━━━━━━━━━━━━━━━━━━━\u001b[0m\u001b[37m\u001b[0m \u001b[1m0s\u001b[0m 59ms/step - loss: 7.1756 - mae: 7.1756\n",
      "Epoch 10/100\n",
      "\u001b[1m1/1\u001b[0m \u001b[32m━━━━━━━━━━━━━━━━━━━━\u001b[0m\u001b[37m\u001b[0m \u001b[1m0s\u001b[0m 44ms/step - loss: 6.4102 - mae: 6.4102\n",
      "Epoch 11/100\n",
      "\u001b[1m1/1\u001b[0m \u001b[32m━━━━━━━━━━━━━━━━━━━━\u001b[0m\u001b[37m\u001b[0m \u001b[1m0s\u001b[0m 48ms/step - loss: 5.6021 - mae: 5.6021\n",
      "Epoch 12/100\n",
      "\u001b[1m1/1\u001b[0m \u001b[32m━━━━━━━━━━━━━━━━━━━━\u001b[0m\u001b[37m\u001b[0m \u001b[1m0s\u001b[0m 48ms/step - loss: 4.7259 - mae: 4.7259\n",
      "Epoch 13/100\n",
      "\u001b[1m1/1\u001b[0m \u001b[32m━━━━━━━━━━━━━━━━━━━━\u001b[0m\u001b[37m\u001b[0m \u001b[1m0s\u001b[0m 50ms/step - loss: 4.0814 - mae: 4.0814\n",
      "Epoch 14/100\n",
      "\u001b[1m1/1\u001b[0m \u001b[32m━━━━━━━━━━━━━━━━━━━━\u001b[0m\u001b[37m\u001b[0m \u001b[1m0s\u001b[0m 50ms/step - loss: 3.9853 - mae: 3.9853\n",
      "Epoch 15/100\n",
      "\u001b[1m1/1\u001b[0m \u001b[32m━━━━━━━━━━━━━━━━━━━━\u001b[0m\u001b[37m\u001b[0m \u001b[1m0s\u001b[0m 46ms/step - loss: 3.9437 - mae: 3.9437\n",
      "Epoch 16/100\n",
      "\u001b[1m1/1\u001b[0m \u001b[32m━━━━━━━━━━━━━━━━━━━━\u001b[0m\u001b[37m\u001b[0m \u001b[1m0s\u001b[0m 37ms/step - loss: 3.9600 - mae: 3.9600\n",
      "Epoch 17/100\n",
      "\u001b[1m1/1\u001b[0m \u001b[32m━━━━━━━━━━━━━━━━━━━━\u001b[0m\u001b[37m\u001b[0m \u001b[1m0s\u001b[0m 40ms/step - loss: 3.9507 - mae: 3.9507\n",
      "Epoch 18/100\n",
      "\u001b[1m1/1\u001b[0m \u001b[32m━━━━━━━━━━━━━━━━━━━━\u001b[0m\u001b[37m\u001b[0m \u001b[1m0s\u001b[0m 40ms/step - loss: 3.9345 - mae: 3.9345\n",
      "Epoch 19/100\n",
      "\u001b[1m1/1\u001b[0m \u001b[32m━━━━━━━━━━━━━━━━━━━━\u001b[0m\u001b[37m\u001b[0m \u001b[1m0s\u001b[0m 36ms/step - loss: 3.9578 - mae: 3.9578\n",
      "Epoch 20/100\n",
      "\u001b[1m1/1\u001b[0m \u001b[32m━━━━━━━━━━━━━━━━━━━━\u001b[0m\u001b[37m\u001b[0m \u001b[1m0s\u001b[0m 43ms/step - loss: 3.9090 - mae: 3.9090\n",
      "Epoch 21/100\n",
      "\u001b[1m1/1\u001b[0m \u001b[32m━━━━━━━━━━━━━━━━━━━━\u001b[0m\u001b[37m\u001b[0m \u001b[1m0s\u001b[0m 44ms/step - loss: 3.9689 - mae: 3.9689\n",
      "Epoch 22/100\n",
      "\u001b[1m1/1\u001b[0m \u001b[32m━━━━━━━━━━━━━━━━━━━━\u001b[0m\u001b[37m\u001b[0m \u001b[1m0s\u001b[0m 46ms/step - loss: 3.9046 - mae: 3.9046\n",
      "Epoch 23/100\n",
      "\u001b[1m1/1\u001b[0m \u001b[32m━━━━━━━━━━━━━━━━━━━━\u001b[0m\u001b[37m\u001b[0m \u001b[1m0s\u001b[0m 44ms/step - loss: 3.9651 - mae: 3.9651\n",
      "Epoch 24/100\n",
      "\u001b[1m1/1\u001b[0m \u001b[32m━━━━━━━━━━━━━━━━━━━━\u001b[0m\u001b[37m\u001b[0m \u001b[1m0s\u001b[0m 44ms/step - loss: 3.9117 - mae: 3.9117\n",
      "Epoch 25/100\n",
      "\u001b[1m1/1\u001b[0m \u001b[32m━━━━━━━━━━━━━━━━━━━━\u001b[0m\u001b[37m\u001b[0m \u001b[1m0s\u001b[0m 50ms/step - loss: 3.9396 - mae: 3.9396\n",
      "Epoch 26/100\n",
      "\u001b[1m1/1\u001b[0m \u001b[32m━━━━━━━━━━━━━━━━━━━━\u001b[0m\u001b[37m\u001b[0m \u001b[1m0s\u001b[0m 48ms/step - loss: 3.9189 - mae: 3.9189\n",
      "Epoch 27/100\n",
      "\u001b[1m1/1\u001b[0m \u001b[32m━━━━━━━━━━━━━━━━━━━━\u001b[0m\u001b[37m\u001b[0m \u001b[1m0s\u001b[0m 62ms/step - loss: 3.9140 - mae: 3.9140\n",
      "Epoch 28/100\n",
      "\u001b[1m1/1\u001b[0m \u001b[32m━━━━━━━━━━━━━━━━━━━━\u001b[0m\u001b[37m\u001b[0m \u001b[1m0s\u001b[0m 176ms/step - loss: 3.9262 - mae: 3.9262\n",
      "Epoch 29/100\n",
      "\u001b[1m1/1\u001b[0m \u001b[32m━━━━━━━━━━━━━━━━━━━━\u001b[0m\u001b[37m\u001b[0m \u001b[1m0s\u001b[0m 45ms/step - loss: 3.8915 - mae: 3.8915\n",
      "Epoch 30/100\n",
      "\u001b[1m1/1\u001b[0m \u001b[32m━━━━━━━━━━━━━━━━━━━━\u001b[0m\u001b[37m\u001b[0m \u001b[1m0s\u001b[0m 41ms/step - loss: 3.9415 - mae: 3.9415\n",
      "Epoch 31/100\n",
      "\u001b[1m1/1\u001b[0m \u001b[32m━━━━━━━━━━━━━━━━━━━━\u001b[0m\u001b[37m\u001b[0m \u001b[1m0s\u001b[0m 101ms/step - loss: 3.8737 - mae: 3.8737\n",
      "Epoch 32/100\n",
      "\u001b[1m1/1\u001b[0m \u001b[32m━━━━━━━━━━━━━━━━━━━━\u001b[0m\u001b[37m\u001b[0m \u001b[1m0s\u001b[0m 61ms/step - loss: 3.9438 - mae: 3.9438\n",
      "Epoch 33/100\n",
      "\u001b[1m1/1\u001b[0m \u001b[32m━━━━━━━━━━━━━━━━━━━━\u001b[0m\u001b[37m\u001b[0m \u001b[1m0s\u001b[0m 47ms/step - loss: 3.8810 - mae: 3.8810\n",
      "Epoch 34/100\n",
      "\u001b[1m1/1\u001b[0m \u001b[32m━━━━━━━━━━━━━━━━━━━━\u001b[0m\u001b[37m\u001b[0m \u001b[1m0s\u001b[0m 43ms/step - loss: 3.9180 - mae: 3.9180\n",
      "Epoch 35/100\n",
      "\u001b[1m1/1\u001b[0m \u001b[32m━━━━━━━━━━━━━━━━━━━━\u001b[0m\u001b[37m\u001b[0m \u001b[1m0s\u001b[0m 153ms/step - loss: 3.8884 - mae: 3.8884\n",
      "Epoch 36/100\n",
      "\u001b[1m1/1\u001b[0m \u001b[32m━━━━━━━━━━━━━━━━━━━━\u001b[0m\u001b[37m\u001b[0m \u001b[1m0s\u001b[0m 69ms/step - loss: 3.8922 - mae: 3.8922\n",
      "Epoch 37/100\n",
      "\u001b[1m1/1\u001b[0m \u001b[32m━━━━━━━━━━━━━━━━━━━━\u001b[0m\u001b[37m\u001b[0m \u001b[1m0s\u001b[0m 39ms/step - loss: 3.8976 - mae: 3.8976\n",
      "Epoch 38/100\n",
      "\u001b[1m1/1\u001b[0m \u001b[32m━━━━━━━━━━━━━━━━━━━━\u001b[0m\u001b[37m\u001b[0m \u001b[1m0s\u001b[0m 34ms/step - loss: 3.8734 - mae: 3.8734\n",
      "Epoch 39/100\n",
      "\u001b[1m1/1\u001b[0m \u001b[32m━━━━━━━━━━━━━━━━━━━━\u001b[0m\u001b[37m\u001b[0m \u001b[1m0s\u001b[0m 35ms/step - loss: 3.9114 - mae: 3.9114\n",
      "Epoch 40/100\n",
      "\u001b[1m1/1\u001b[0m \u001b[32m━━━━━━━━━━━━━━━━━━━━\u001b[0m\u001b[37m\u001b[0m \u001b[1m0s\u001b[0m 37ms/step - loss: 3.8471 - mae: 3.8471\n",
      "Epoch 41/100\n",
      "\u001b[1m1/1\u001b[0m \u001b[32m━━━━━━━━━━━━━━━━━━━━\u001b[0m\u001b[37m\u001b[0m \u001b[1m0s\u001b[0m 40ms/step - loss: 3.9191 - mae: 3.9191\n",
      "Epoch 42/100\n",
      "\u001b[1m1/1\u001b[0m \u001b[32m━━━━━━━━━━━━━━━━━━━━\u001b[0m\u001b[37m\u001b[0m \u001b[1m0s\u001b[0m 39ms/step - loss: 3.8514 - mae: 3.8514\n",
      "Epoch 43/100\n",
      "\u001b[1m1/1\u001b[0m \u001b[32m━━━━━━━━━━━━━━━━━━━━\u001b[0m\u001b[37m\u001b[0m \u001b[1m0s\u001b[0m 32ms/step - loss: 3.8953 - mae: 3.8953\n",
      "Epoch 44/100\n",
      "\u001b[1m1/1\u001b[0m \u001b[32m━━━━━━━━━━━━━━━━━━━━\u001b[0m\u001b[37m\u001b[0m \u001b[1m0s\u001b[0m 38ms/step - loss: 3.8591 - mae: 3.8591\n",
      "Epoch 45/100\n",
      "\u001b[1m1/1\u001b[0m \u001b[32m━━━━━━━━━━━━━━━━━━━━\u001b[0m\u001b[37m\u001b[0m \u001b[1m0s\u001b[0m 34ms/step - loss: 3.8695 - mae: 3.8695\n",
      "Epoch 46/100\n",
      "\u001b[1m1/1\u001b[0m \u001b[32m━━━━━━━━━━━━━━━━━━━━\u001b[0m\u001b[37m\u001b[0m \u001b[1m0s\u001b[0m 82ms/step - loss: 3.8746 - mae: 3.8746\n",
      "Epoch 47/100\n",
      "\u001b[1m1/1\u001b[0m \u001b[32m━━━━━━━━━━━━━━━━━━━━\u001b[0m\u001b[37m\u001b[0m \u001b[1m0s\u001b[0m 75ms/step - loss: 3.8501 - mae: 3.8501\n",
      "Epoch 48/100\n",
      "\u001b[1m1/1\u001b[0m \u001b[32m━━━━━━━━━━━━━━━━━━━━\u001b[0m\u001b[37m\u001b[0m \u001b[1m0s\u001b[0m 35ms/step - loss: 3.8824 - mae: 3.8824\n",
      "Epoch 49/100\n",
      "\u001b[1m1/1\u001b[0m \u001b[32m━━━━━━━━━━━━━━━━━━━━\u001b[0m\u001b[37m\u001b[0m \u001b[1m0s\u001b[0m 35ms/step - loss: 3.8235 - mae: 3.8235\n",
      "Epoch 50/100\n",
      "\u001b[1m1/1\u001b[0m \u001b[32m━━━━━━━━━━━━━━━━━━━━\u001b[0m\u001b[37m\u001b[0m \u001b[1m0s\u001b[0m 34ms/step - loss: 3.8903 - mae: 3.8903\n",
      "Epoch 51/100\n",
      "\u001b[1m1/1\u001b[0m \u001b[32m━━━━━━━━━━━━━━━━━━━━\u001b[0m\u001b[37m\u001b[0m \u001b[1m0s\u001b[0m 37ms/step - loss: 3.8230 - mae: 3.8230\n",
      "Epoch 52/100\n",
      "\u001b[1m1/1\u001b[0m \u001b[32m━━━━━━━━━━━━━━━━━━━━\u001b[0m\u001b[37m\u001b[0m \u001b[1m0s\u001b[0m 35ms/step - loss: 3.8714 - mae: 3.8714\n",
      "Epoch 53/100\n",
      "\u001b[1m1/1\u001b[0m \u001b[32m━━━━━━━━━━━━━━━━━━━━\u001b[0m\u001b[37m\u001b[0m \u001b[1m0s\u001b[0m 33ms/step - loss: 3.8309 - mae: 3.8309\n",
      "Epoch 54/100\n",
      "\u001b[1m1/1\u001b[0m \u001b[32m━━━━━━━━━━━━━━━━━━━━\u001b[0m\u001b[37m\u001b[0m \u001b[1m0s\u001b[0m 39ms/step - loss: 3.8506 - mae: 3.8506\n",
      "Epoch 55/100\n",
      "\u001b[1m1/1\u001b[0m \u001b[32m━━━━━━━━━━━━━━━━━━━━\u001b[0m\u001b[37m\u001b[0m \u001b[1m0s\u001b[0m 36ms/step - loss: 3.8466 - mae: 3.8466\n",
      "Epoch 56/100\n",
      "\u001b[1m1/1\u001b[0m \u001b[32m━━━━━━━━━━━━━━━━━━━━\u001b[0m\u001b[37m\u001b[0m \u001b[1m0s\u001b[0m 36ms/step - loss: 3.8255 - mae: 3.8255\n",
      "Epoch 57/100\n",
      "\u001b[1m1/1\u001b[0m \u001b[32m━━━━━━━━━━━━━━━━━━━━\u001b[0m\u001b[37m\u001b[0m \u001b[1m0s\u001b[0m 40ms/step - loss: 3.8546 - mae: 3.8546\n",
      "Epoch 58/100\n",
      "\u001b[1m1/1\u001b[0m \u001b[32m━━━━━━━━━━━━━━━━━━━━\u001b[0m\u001b[37m\u001b[0m \u001b[1m0s\u001b[0m 34ms/step - loss: 3.7987 - mae: 3.7987\n",
      "Epoch 59/100\n",
      "\u001b[1m1/1\u001b[0m \u001b[32m━━━━━━━━━━━━━━━━━━━━\u001b[0m\u001b[37m\u001b[0m \u001b[1m0s\u001b[0m 42ms/step - loss: 3.8627 - mae: 3.8627\n",
      "Epoch 60/100\n",
      "\u001b[1m1/1\u001b[0m \u001b[32m━━━━━━━━━━━━━━━━━━━━\u001b[0m\u001b[37m\u001b[0m \u001b[1m0s\u001b[0m 40ms/step - loss: 3.7958 - mae: 3.7958\n",
      "Epoch 61/100\n",
      "\u001b[1m1/1\u001b[0m \u001b[32m━━━━━━━━━━━━━━━━━━━━\u001b[0m\u001b[37m\u001b[0m \u001b[1m0s\u001b[0m 134ms/step - loss: 3.8461 - mae: 3.8461\n",
      "Epoch 62/100\n",
      "\u001b[1m1/1\u001b[0m \u001b[32m━━━━━━━━━━━━━━━━━━━━\u001b[0m\u001b[37m\u001b[0m \u001b[1m0s\u001b[0m 75ms/step - loss: 3.8073 - mae: 3.8073\n",
      "Epoch 63/100\n",
      "\u001b[1m1/1\u001b[0m \u001b[32m━━━━━━━━━━━━━━━━━━━━\u001b[0m\u001b[37m\u001b[0m \u001b[1m0s\u001b[0m 45ms/step - loss: 3.8266 - mae: 3.8266\n",
      "Epoch 64/100\n",
      "\u001b[1m1/1\u001b[0m \u001b[32m━━━━━━━━━━━━━━━━━━━━\u001b[0m\u001b[37m\u001b[0m \u001b[1m0s\u001b[0m 46ms/step - loss: 3.8197 - mae: 3.8197\n",
      "Epoch 65/100\n",
      "\u001b[1m1/1\u001b[0m \u001b[32m━━━━━━━━━━━━━━━━━━━━\u001b[0m\u001b[37m\u001b[0m \u001b[1m0s\u001b[0m 99ms/step - loss: 3.7996 - mae: 3.7996\n",
      "Epoch 66/100\n",
      "\u001b[1m1/1\u001b[0m \u001b[32m━━━━━━━━━━━━━━━━━━━━\u001b[0m\u001b[37m\u001b[0m \u001b[1m0s\u001b[0m 103ms/step - loss: 3.8278 - mae: 3.8278\n",
      "Epoch 67/100\n",
      "\u001b[1m1/1\u001b[0m \u001b[32m━━━━━━━━━━━━━━━━━━━━\u001b[0m\u001b[37m\u001b[0m \u001b[1m0s\u001b[0m 33ms/step - loss: 3.7725 - mae: 3.7725\n",
      "Epoch 68/100\n",
      "\u001b[1m1/1\u001b[0m \u001b[32m━━━━━━━━━━━━━━━━━━━━\u001b[0m\u001b[37m\u001b[0m \u001b[1m0s\u001b[0m 39ms/step - loss: 3.8362 - mae: 3.8362\n",
      "Epoch 69/100\n",
      "\u001b[1m1/1\u001b[0m \u001b[32m━━━━━━━━━━━━━━━━━━━━\u001b[0m\u001b[37m\u001b[0m \u001b[1m0s\u001b[0m 32ms/step - loss: 3.7696 - mae: 3.7696\n",
      "Epoch 70/100\n",
      "\u001b[1m1/1\u001b[0m \u001b[32m━━━━━━━━━━━━━━━━━━━━\u001b[0m\u001b[37m\u001b[0m \u001b[1m0s\u001b[0m 42ms/step - loss: 3.8215 - mae: 3.8215\n",
      "Epoch 71/100\n",
      "\u001b[1m1/1\u001b[0m \u001b[32m━━━━━━━━━━━━━━━━━━━━\u001b[0m\u001b[37m\u001b[0m \u001b[1m0s\u001b[0m 35ms/step - loss: 3.7856 - mae: 3.7856\n",
      "Epoch 72/100\n",
      "\u001b[1m1/1\u001b[0m \u001b[32m━━━━━━━━━━━━━━━━━━━━\u001b[0m\u001b[37m\u001b[0m \u001b[1m0s\u001b[0m 45ms/step - loss: 3.7996 - mae: 3.7996\n",
      "Epoch 73/100\n",
      "\u001b[1m1/1\u001b[0m \u001b[32m━━━━━━━━━━━━━━━━━━━━\u001b[0m\u001b[37m\u001b[0m \u001b[1m0s\u001b[0m 52ms/step - loss: 3.7938 - mae: 3.7938\n",
      "Epoch 74/100\n",
      "\u001b[1m1/1\u001b[0m \u001b[32m━━━━━━━━━━━━━━━━━━━━\u001b[0m\u001b[37m\u001b[0m \u001b[1m0s\u001b[0m 48ms/step - loss: 3.7723 - mae: 3.7723\n",
      "Epoch 75/100\n",
      "\u001b[1m1/1\u001b[0m \u001b[32m━━━━━━━━━━━━━━━━━━━━\u001b[0m\u001b[37m\u001b[0m \u001b[1m0s\u001b[0m 43ms/step - loss: 3.8021 - mae: 3.8021\n",
      "Epoch 76/100\n",
      "\u001b[1m1/1\u001b[0m \u001b[32m━━━━━━━━━━━━━━━━━━━━\u001b[0m\u001b[37m\u001b[0m \u001b[1m0s\u001b[0m 76ms/step - loss: 3.7450 - mae: 3.7450\n",
      "Epoch 77/100\n",
      "\u001b[1m1/1\u001b[0m \u001b[32m━━━━━━━━━━━━━━━━━━━━\u001b[0m\u001b[37m\u001b[0m \u001b[1m0s\u001b[0m 78ms/step - loss: 3.8107 - mae: 3.8107\n",
      "Epoch 78/100\n",
      "\u001b[1m1/1\u001b[0m \u001b[32m━━━━━━━━━━━━━━━━━━━━\u001b[0m\u001b[37m\u001b[0m \u001b[1m0s\u001b[0m 66ms/step - loss: 3.7444 - mae: 3.7444\n",
      "Epoch 79/100\n",
      "\u001b[1m1/1\u001b[0m \u001b[32m━━━━━━━━━━━━━━━━━━━━\u001b[0m\u001b[37m\u001b[0m \u001b[1m0s\u001b[0m 60ms/step - loss: 3.7990 - mae: 3.7990\n",
      "Epoch 80/100\n",
      "\u001b[1m1/1\u001b[0m \u001b[32m━━━━━━━━━━━━━━━━━━━━\u001b[0m\u001b[37m\u001b[0m \u001b[1m0s\u001b[0m 85ms/step - loss: 3.7605 - mae: 3.7605\n",
      "Epoch 81/100\n",
      "\u001b[1m1/1\u001b[0m \u001b[32m━━━━━━━━━━━━━━━━━━━━\u001b[0m\u001b[37m\u001b[0m \u001b[1m0s\u001b[0m 90ms/step - loss: 3.7714 - mae: 3.7714\n",
      "Epoch 82/100\n",
      "\u001b[1m1/1\u001b[0m \u001b[32m━━━━━━━━━━━━━━━━━━━━\u001b[0m\u001b[37m\u001b[0m \u001b[1m0s\u001b[0m 82ms/step - loss: 3.7689 - mae: 3.7689\n",
      "Epoch 83/100\n",
      "\u001b[1m1/1\u001b[0m \u001b[32m━━━━━━━━━━━━━━━━━━━━\u001b[0m\u001b[37m\u001b[0m \u001b[1m0s\u001b[0m 73ms/step - loss: 3.7438 - mae: 3.7438\n",
      "Epoch 84/100\n",
      "\u001b[1m1/1\u001b[0m \u001b[32m━━━━━━━━━━━━━━━━━━━━\u001b[0m\u001b[37m\u001b[0m \u001b[1m0s\u001b[0m 47ms/step - loss: 3.7775 - mae: 3.7775\n",
      "Epoch 85/100\n",
      "\u001b[1m1/1\u001b[0m \u001b[32m━━━━━━━━━━━━━━━━━━━━\u001b[0m\u001b[37m\u001b[0m \u001b[1m0s\u001b[0m 172ms/step - loss: 3.7162 - mae: 3.7162\n",
      "Epoch 86/100\n",
      "\u001b[1m1/1\u001b[0m \u001b[32m━━━━━━━━━━━━━━━━━━━━\u001b[0m\u001b[37m\u001b[0m \u001b[1m0s\u001b[0m 41ms/step - loss: 3.7863 - mae: 3.7863\n",
      "Epoch 87/100\n",
      "\u001b[1m1/1\u001b[0m \u001b[32m━━━━━━━━━━━━━━━━━━━━\u001b[0m\u001b[37m\u001b[0m \u001b[1m0s\u001b[0m 38ms/step - loss: 3.7253 - mae: 3.7253\n",
      "Epoch 88/100\n",
      "\u001b[1m1/1\u001b[0m \u001b[32m━━━━━━━━━━━━━━━━━━━━\u001b[0m\u001b[37m\u001b[0m \u001b[1m0s\u001b[0m 39ms/step - loss: 3.7695 - mae: 3.7695\n",
      "Epoch 89/100\n",
      "\u001b[1m1/1\u001b[0m \u001b[32m━━━━━━━━━━━━━━━━━━━━\u001b[0m\u001b[37m\u001b[0m \u001b[1m0s\u001b[0m 73ms/step - loss: 3.7365 - mae: 3.7365\n",
      "Epoch 90/100\n",
      "\u001b[1m1/1\u001b[0m \u001b[32m━━━━━━━━━━━━━━━━━━━━\u001b[0m\u001b[37m\u001b[0m \u001b[1m0s\u001b[0m 89ms/step - loss: 3.7418 - mae: 3.7418\n",
      "Epoch 91/100\n",
      "\u001b[1m1/1\u001b[0m \u001b[32m━━━━━━━━━━━━━━━━━━━━\u001b[0m\u001b[37m\u001b[0m \u001b[1m0s\u001b[0m 162ms/step - loss: 3.7451 - mae: 3.7451\n",
      "Epoch 92/100\n",
      "\u001b[1m1/1\u001b[0m \u001b[32m━━━━━━━━━━━━━━━━━━━━\u001b[0m\u001b[37m\u001b[0m \u001b[1m0s\u001b[0m 70ms/step - loss: 3.7139 - mae: 3.7139\n",
      "Epoch 93/100\n",
      "\u001b[1m1/1\u001b[0m \u001b[32m━━━━━━━━━━━━━━━━━━━━\u001b[0m\u001b[37m\u001b[0m \u001b[1m0s\u001b[0m 57ms/step - loss: 3.7539 - mae: 3.7539\n",
      "Epoch 94/100\n",
      "\u001b[1m1/1\u001b[0m \u001b[32m━━━━━━━━━━━━━━━━━━━━\u001b[0m\u001b[37m\u001b[0m \u001b[1m0s\u001b[0m 34ms/step - loss: 3.6884 - mae: 3.6884\n",
      "Epoch 95/100\n",
      "\u001b[1m1/1\u001b[0m \u001b[32m━━━━━━━━━━━━━━━━━━━━\u001b[0m\u001b[37m\u001b[0m \u001b[1m0s\u001b[0m 35ms/step - loss: 3.7630 - mae: 3.7630\n",
      "Epoch 96/100\n",
      "\u001b[1m1/1\u001b[0m \u001b[32m━━━━━━━━━━━━━━━━━━━━\u001b[0m\u001b[37m\u001b[0m \u001b[1m0s\u001b[0m 36ms/step - loss: 3.7048 - mae: 3.7048\n",
      "Epoch 97/100\n",
      "\u001b[1m1/1\u001b[0m \u001b[32m━━━━━━━━━━━━━━━━━━━━\u001b[0m\u001b[37m\u001b[0m \u001b[1m0s\u001b[0m 33ms/step - loss: 3.7389 - mae: 3.7389\n",
      "Epoch 98/100\n",
      "\u001b[1m1/1\u001b[0m \u001b[32m━━━━━━━━━━━━━━━━━━━━\u001b[0m\u001b[37m\u001b[0m \u001b[1m0s\u001b[0m 38ms/step - loss: 3.7135 - mae: 3.7135\n",
      "Epoch 99/100\n",
      "\u001b[1m1/1\u001b[0m \u001b[32m━━━━━━━━━━━━━━━━━━━━\u001b[0m\u001b[37m\u001b[0m \u001b[1m0s\u001b[0m 54ms/step - loss: 3.7108 - mae: 3.7108\n",
      "Epoch 100/100\n",
      "\u001b[1m1/1\u001b[0m \u001b[32m━━━━━━━━━━━━━━━━━━━━\u001b[0m\u001b[37m\u001b[0m \u001b[1m0s\u001b[0m 32ms/step - loss: 3.7223 - mae: 3.7223\n"
     ]
    },
    {
     "data": {
      "text/plain": [
       "<keras.src.callbacks.history.History at 0x2405a1114f0>"
      ]
     },
     "execution_count": 24,
     "metadata": {},
     "output_type": "execute_result"
    }
   ],
   "source": [
    "# 1.Creating a model with one extra hidden layer with activation function relu\n",
    "model = tf.keras.Sequential([\n",
    "    tf.keras.layers.Dense(100, activation=\"relu\"),\n",
    "    tf.keras.layers.Dense(1)\n",
    "])\n",
    "\n",
    "# 2.Compiling the model\n",
    "model.compile(loss=tf.keras.losses.mae,\n",
    "              optimizer=tf.keras.optimizers.SGD(),\n",
    "              metrics=[\"mae\"]\n",
    "              )\n",
    "\n",
    "# 3. Fitting the model to train with data, and this time as well will train 100 times to learn more deeply\n",
    "model.fit(X, y, epochs=100)"
   ]
  },
  {
   "cell_type": "markdown",
   "metadata": {},
   "source": [
    "#### Report:\n",
    "As we can see that the loss dramatically decreased over the iterations"
   ]
  },
  {
   "cell_type": "code",
   "execution_count": 25,
   "metadata": {},
   "outputs": [
    {
     "name": "stdout",
     "output_type": "stream",
     "text": [
      "\u001b[1m1/1\u001b[0m \u001b[32m━━━━━━━━━━━━━━━━━━━━\u001b[0m\u001b[37m\u001b[0m \u001b[1m0s\u001b[0m 67ms/step\n"
     ]
    },
    {
     "data": {
      "text/plain": [
       "array([[31.778803]], dtype=float32)"
      ]
     },
     "execution_count": 25,
     "metadata": {},
     "output_type": "execute_result"
    }
   ],
   "source": [
    "# Testing and Making a prediction\n",
    "model.predict(input_data)"
   ]
  },
  {
   "cell_type": "markdown",
   "metadata": {},
   "source": [
    "Although we have achieved decreased loss, our predictions is not accurate, and it got Overfitting the data"
   ]
  },
  {
   "cell_type": "code",
   "execution_count": null,
   "metadata": {},
   "outputs": [],
   "source": [
    "# 1.Creating a model with one extra hidden layer with activation function relu\n",
    "model = tf.keras.Sequential([\n",
    "    tf.keras.layers.Dense(100, activation=\"relu\"),\n",
    "    tf.keras.layers.Dense(1)\n",
    "])\n",
    "\n",
    "# 2.Compiling the model\n",
    "model.compile(loss=tf.keras.losses.mae,\n",
    "              optimizer=tf.keras.optimizers.Adam(learning_rate=0.01), # Compared to our second model, changed to optimization function and increased the learning_rate\n",
    "              metrics=[\"mae\"]\n",
    "              )\n",
    "\n",
    "# 3. Fitting the model to train with data, and this time as well will train 100 times to learn more deeply\n",
    "model.fit(X, y, epochs=100)"
   ]
  },
  {
   "cell_type": "code",
   "execution_count": 27,
   "metadata": {},
   "outputs": [
    {
     "name": "stdout",
     "output_type": "stream",
     "text": [
      "WARNING:tensorflow:5 out of the last 5 calls to <function TensorFlowTrainer.make_predict_function.<locals>.one_step_on_data_distributed at 0x000002405B4A4720> triggered tf.function retracing. Tracing is expensive and the excessive number of tracings could be due to (1) creating @tf.function repeatedly in a loop, (2) passing tensors with different shapes, (3) passing Python objects instead of tensors. For (1), please define your @tf.function outside of the loop. For (2), @tf.function has reduce_retracing=True option that can avoid unnecessary retracing. For (3), please refer to https://www.tensorflow.org/guide/function#controlling_retracing and https://www.tensorflow.org/api_docs/python/tf/function for  more details.\n",
      "\u001b[1m1/1\u001b[0m \u001b[32m━━━━━━━━━━━━━━━━━━━━\u001b[0m\u001b[37m\u001b[0m \u001b[1m0s\u001b[0m 61ms/step\n"
     ]
    },
    {
     "data": {
      "text/plain": [
       "array([[26.937017]], dtype=float32)"
      ]
     },
     "execution_count": 27,
     "metadata": {},
     "output_type": "execute_result"
    }
   ],
   "source": [
    "# Testing and Making a prediction\n",
    "model.predict(input_data)"
   ]
  },
  {
   "cell_type": "markdown",
   "metadata": {},
   "source": [
    "## Evaluting Model\n",
    "\n",
    "In practice, a typical workflow you will go through when building a neural network is:\n",
    "\n",
    "Build a model -> fit the model -> evaluate the model -> tweak the model -> fit it -> evaluate it"
   ]
  },
  {
   "cell_type": "markdown",
   "metadata": {},
   "source": [
    "While evaluating the model, it is best practice to Visualize the model's performance \n",
    "\n",
    "##### Visualization contains of the certain steps:\n",
    "\n",
    "- The data - What kind of data we are working with\n",
    "- The model - How well preformed while it was learing\n",
    "- The predictions - how the predictions against to the actual data"
   ]
  },
  {
   "cell_type": "code",
   "execution_count": 57,
   "metadata": {},
   "outputs": [],
   "source": [
    "# Making a bigger dataset\n",
    "\n",
    "# Creating features for dataset\n",
    "X = tf.range(-100, 100, 4)\n",
    "# Creatign lebels for dataset\n",
    "y = X + 10\n"
   ]
  },
  {
   "cell_type": "code",
   "execution_count": 58,
   "metadata": {},
   "outputs": [
    {
     "data": {
      "image/png": "[encoded data removed]",
      "text/plain": [
       "<Figure size 640x480 with 1 Axes>"
      ]
     },
     "metadata": {},
     "output_type": "display_data"
    }
   ],
   "source": [
    "# Making a Visualization ploting to scatter plot\n",
    "plt.scatter(X, y)\n",
    "plt.title(\"Larger Dataset Visualization\")\n",
    "plt.show()"
   ]
  },
  {
   "cell_type": "markdown",
   "metadata": {},
   "source": [
    "### Bofore going further, it takes to split the data to evaluate the model after training\n",
    "\n",
    "#### Three steps to split\n",
    "- **Training sest** - the model learns from the trainig set to make prediction and it consists of 70 or 80 % of the dataset\n",
    "- **Validation set** - the model gets tuned of this data and it takes 10 or 15 % of the dataset\n",
    "- **Testing set** - the model makes predictions with this unseen data and it takes 10 or 20 % of the dataset"
   ]
  },
  {
   "cell_type": "code",
   "execution_count": 59,
   "metadata": {},
   "outputs": [
    {
     "data": {
      "text/plain": [
       "(40, 10)"
      ]
     },
     "execution_count": 59,
     "metadata": {},
     "output_type": "execute_result"
    }
   ],
   "source": [
    "# Spliting the data into two parts Train and Test sets\n",
    "X_train = X[:40] # Training set 80%  of the dataset\n",
    "y_train = y[:40] # Training y set 20%  of the dataset\n",
    "\n",
    "#Spliting to test set\n",
    "X_test= X[40:] # Training set 80%  of the dataset\n",
    "y_test = y[40:] # Training y set 20%  of the dataset\n",
    "\n",
    "len(X_train), len(X_test)"
   ]
  },
  {
   "cell_type": "code",
   "execution_count": 55,
   "metadata": {},
   "outputs": [
    {
     "name": "stderr",
     "output_type": "stream",
     "text": [
      "C:\\Users\\baxti\\AppData\\Local\\Temp\\ipykernel_10832\\520268528.py:13: UserWarning: No artists with labels found to put in legend.  Note that artists whose label start with an underscore are ignored when legend() is called with no argument.\n",
      "  plt.legend()\n"
     ]
    },
    {
     "data": {
      "text/plain": [
       "<matplotlib.legend.Legend at 0x23141be9700>"
      ]
     },
     "execution_count": 55,
     "metadata": {},
     "output_type": "execute_result"
    },
    {
     "data": {
      "image/png": "[encoded data removed]",
      "text/plain": [
       "<Figure size 1000x800 with 1 Axes>"
      ]
     },
     "metadata": {},
     "output_type": "display_data"
    }
   ],
   "source": [
    "# Lets Visualize the both Train and Test datasets\n",
    "\n",
    "# Setting up the size\n",
    "plt.figure(figsize=(10 ,8))\n",
    "\n",
    "# Plot training data in blue\n",
    "plt.scatter(X_train,y_train, color=\"blue\")\n",
    "\n",
    "# Plot test data in green\n",
    "plt.scatter(X_test, y_test, color=\"green\")\n",
    "\n",
    "# Show the legend\n",
    "plt.legend()"
   ]
  },
  {
   "cell_type": "markdown",
   "metadata": {},
   "source": [
    "### Model Summary"
   ]
  },
  {
   "cell_type": "code",
   "execution_count": null,
   "metadata": {},
   "outputs": [],
   "source": [
    "# 1. Create a model with one hidden layer\n",
    "model = tf.keras.Sequential([\n",
    "    tf.keras.layers.Dense(10, input_shape=[1], name=\"input_layer\"),\n",
    "    tf.keras.layers.Dense(1, name=\"output_layer\")\n",
    "])\n",
    "\n",
    "# 2. Compile the model to learn and passing some parameters\n",
    "model.compile(loss=tf.keras.losses.mae,\n",
    "              optimizer=tf.keras.optimizers.Adam(learning_rate=0.01),\n",
    "              metrics=[\"mae\"])\n",
    "\n",
    "# 3. Fit the model with Train set of the data to make a model learn\n",
    "model.fit(X_train, y_train, epochs=100, verbose=0)"
   ]
  },
  {
   "cell_type": "markdown",
   "metadata": {},
   "source": [
    "## Visualize the model"
   ]
  },
  {
   "cell_type": "code",
   "execution_count": 37,
   "metadata": {},
   "outputs": [
    {
     "data": {
      "text/html": [
       "<pre style=\"white-space:pre;overflow-x:auto;line-height:normal;font-family:Menlo,'DejaVu Sans Mono',consolas,'Courier New',monospace\"><span style=\"font-weight: bold\">Model: \"sequential_9\"</span>\n",
       "</pre>\n"
      ],
      "text/plain": [
       "\u001b[1mModel: \"sequential_9\"\u001b[0m\n"
      ]
     },
     "metadata": {},
     "output_type": "display_data"
    },
    {
     "data": {
      "text/html": [
       "<pre style=\"white-space:pre;overflow-x:auto;line-height:normal;font-family:Menlo,'DejaVu Sans Mono',consolas,'Courier New',monospace\">┏━━━━━━━━━━━━━━━━━━━━━━━━━━━━━━━━━┳━━━━━━━━━━━━━━━━━━━━━━━━┳━━━━━━━━━━━━━━━┓\n",
       "┃<span style=\"font-weight: bold\"> Layer (type)                    </span>┃<span style=\"font-weight: bold\"> Output Shape           </span>┃<span style=\"font-weight: bold\">       Param # </span>┃\n",
       "┡━━━━━━━━━━━━━━━━━━━━━━━━━━━━━━━━━╇━━━━━━━━━━━━━━━━━━━━━━━━╇━━━━━━━━━━━━━━━┩\n",
       "│ input_layer (<span style=\"color: #0087ff; text-decoration-color: #0087ff\">Dense</span>)             │ (<span style=\"color: #00d7ff; text-decoration-color: #00d7ff\">None</span>, <span style=\"color: #00af00; text-decoration-color: #00af00\">10</span>)             │            <span style=\"color: #00af00; text-decoration-color: #00af00\">20</span> │\n",
       "├─────────────────────────────────┼────────────────────────┼───────────────┤\n",
       "│ output_layer (<span style=\"color: #0087ff; text-decoration-color: #0087ff\">Dense</span>)            │ (<span style=\"color: #00d7ff; text-decoration-color: #00d7ff\">None</span>, <span style=\"color: #00af00; text-decoration-color: #00af00\">1</span>)              │            <span style=\"color: #00af00; text-decoration-color: #00af00\">11</span> │\n",
       "└─────────────────────────────────┴────────────────────────┴───────────────┘\n",
       "</pre>\n"
      ],
      "text/plain": [
       "┏━━━━━━━━━━━━━━━━━━━━━━━━━━━━━━━━━┳━━━━━━━━━━━━━━━━━━━━━━━━┳━━━━━━━━━━━━━━━┓\n",
       "┃\u001b[1m \u001b[0m\u001b[1mLayer (type)                   \u001b[0m\u001b[1m \u001b[0m┃\u001b[1m \u001b[0m\u001b[1mOutput Shape          \u001b[0m\u001b[1m \u001b[0m┃\u001b[1m \u001b[0m\u001b[1m      Param #\u001b[0m\u001b[1m \u001b[0m┃\n",
       "┡━━━━━━━━━━━━━━━━━━━━━━━━━━━━━━━━━╇━━━━━━━━━━━━━━━━━━━━━━━━╇━━━━━━━━━━━━━━━┩\n",
       "│ input_layer (\u001b[38;5;33mDense\u001b[0m)             │ (\u001b[38;5;45mNone\u001b[0m, \u001b[38;5;34m10\u001b[0m)             │            \u001b[38;5;34m20\u001b[0m │\n",
       "├─────────────────────────────────┼────────────────────────┼───────────────┤\n",
       "│ output_layer (\u001b[38;5;33mDense\u001b[0m)            │ (\u001b[38;5;45mNone\u001b[0m, \u001b[38;5;34m1\u001b[0m)              │            \u001b[38;5;34m11\u001b[0m │\n",
       "└─────────────────────────────────┴────────────────────────┴───────────────┘\n"
      ]
     },
     "metadata": {},
     "output_type": "display_data"
    },
    {
     "data": {
      "text/html": [
       "<pre style=\"white-space:pre;overflow-x:auto;line-height:normal;font-family:Menlo,'DejaVu Sans Mono',consolas,'Courier New',monospace\"><span style=\"font-weight: bold\"> Total params: </span><span style=\"color: #00af00; text-decoration-color: #00af00\">33</span> (136.00 B)\n",
       "</pre>\n"
      ],
      "text/plain": [
       "\u001b[1m Total params: \u001b[0m\u001b[38;5;34m33\u001b[0m (136.00 B)\n"
      ]
     },
     "metadata": {},
     "output_type": "display_data"
    },
    {
     "data": {
      "text/html": [
       "<pre style=\"white-space:pre;overflow-x:auto;line-height:normal;font-family:Menlo,'DejaVu Sans Mono',consolas,'Courier New',monospace\"><span style=\"font-weight: bold\"> Trainable params: </span><span style=\"color: #00af00; text-decoration-color: #00af00\">31</span> (124.00 B)\n",
       "</pre>\n"
      ],
      "text/plain": [
       "\u001b[1m Trainable params: \u001b[0m\u001b[38;5;34m31\u001b[0m (124.00 B)\n"
      ]
     },
     "metadata": {},
     "output_type": "display_data"
    },
    {
     "data": {
      "text/html": [
       "<pre style=\"white-space:pre;overflow-x:auto;line-height:normal;font-family:Menlo,'DejaVu Sans Mono',consolas,'Courier New',monospace\"><span style=\"font-weight: bold\"> Non-trainable params: </span><span style=\"color: #00af00; text-decoration-color: #00af00\">0</span> (0.00 B)\n",
       "</pre>\n"
      ],
      "text/plain": [
       "\u001b[1m Non-trainable params: \u001b[0m\u001b[38;5;34m0\u001b[0m (0.00 B)\n"
      ]
     },
     "metadata": {},
     "output_type": "display_data"
    },
    {
     "data": {
      "text/html": [
       "<pre style=\"white-space:pre;overflow-x:auto;line-height:normal;font-family:Menlo,'DejaVu Sans Mono',consolas,'Courier New',monospace\"><span style=\"font-weight: bold\"> Optimizer params: </span><span style=\"color: #00af00; text-decoration-color: #00af00\">2</span> (12.00 B)\n",
       "</pre>\n"
      ],
      "text/plain": [
       "\u001b[1m Optimizer params: \u001b[0m\u001b[38;5;34m2\u001b[0m (12.00 B)\n"
      ]
     },
     "metadata": {},
     "output_type": "display_data"
    }
   ],
   "source": [
    "model.summary()"
   ]
  },
  {
   "cell_type": "markdown",
   "metadata": {},
   "source": [
    "- Total params - they are the total number of params that are passed to model to learn\n",
    "- Trainable params - they keeps updating during the learning \n",
    "- Non-Trainable params - they wont be updated during the learning "
   ]
  },
  {
   "cell_type": "code",
   "execution_count": 34,
   "metadata": {},
   "outputs": [
    {
     "name": "stdout",
     "output_type": "stream",
     "text": [
      "You must install pydot (`pip install pydot`) for `plot_model` to work.\n"
     ]
    }
   ],
   "source": [
    "from tensorflow.keras.utils import plot_model\n",
    "\n",
    "# Making visialization of the model using plot_model class from tensorflow\n",
    "plot_model(model=model)"
   ]
  },
  {
   "cell_type": "markdown",
   "metadata": {},
   "source": [
    "## Visualize the model's Predictions\n",
    "- It is very good and heandy to visualize the prediction going against to the actual data\n",
    "- It is often compared to with y_test (true values) with y_pred(predicted values) for accurate the model made some predictions"
   ]
  },
  {
   "cell_type": "code",
   "execution_count": 61,
   "metadata": {},
   "outputs": [
    {
     "name": "stdout",
     "output_type": "stream",
     "text": [
      "\u001b[1m1/1\u001b[0m \u001b[32m━━━━━━━━━━━━━━━━━━━━\u001b[0m\u001b[37m\u001b[0m \u001b[1m0s\u001b[0m 70ms/step\n"
     ]
    },
    {
     "data": {
      "text/plain": [
       "array([[ 7.7906876],\n",
       "       [ 8.31007  ],\n",
       "       [ 8.829445 ],\n",
       "       [ 9.348831 ],\n",
       "       [ 9.868206 ],\n",
       "       [10.387585 ],\n",
       "       [10.90696  ],\n",
       "       [11.426342 ],\n",
       "       [11.945728 ],\n",
       "       [12.465103 ]], dtype=float32)"
      ]
     },
     "execution_count": 61,
     "metadata": {},
     "output_type": "execute_result"
    }
   ],
   "source": [
    "# 4. Making predictions \n",
    "y_pred = model.predict(X_test)\n",
    "\n",
    "y_pred"
   ]
  },
  {
   "cell_type": "code",
   "execution_count": 10,
   "metadata": {},
   "outputs": [],
   "source": [
    "# Lets visualize our prediction with our true y values with predicted ones\n",
    "def plot_preditctions(X_train, X_test, y_train, y_test, y_pred):\n",
    "    \"\"\"\n",
    "    Ploting the model predictions with actual values\n",
    "    \"\"\"\n",
    "\n",
    "    # Initialize the figure size\n",
    "    plt.figure(figsize=(6, 6))\n",
    "    # Plot the training set of the data\n",
    "    plt.scatter(X_train, y_train, color=\"blue\")\n",
    "    # Plot the actual or true y value with X test set\n",
    "    plt.scatter(X_test, y_test, color=\"green\")\n",
    "    # Plot the predicted value by our model \n",
    "    plt.scatter(X_test, y_pred, color=\"red\")\n",
    "    # Adding a legend\n",
    "    plt.legend()\n",
    "    # Finally showing the chart\n",
    "    plt.show()\n"
   ]
  },
  {
   "cell_type": "code",
   "execution_count": 46,
   "metadata": {},
   "outputs": [
    {
     "name": "stderr",
     "output_type": "stream",
     "text": [
      "C:\\Users\\baxti\\AppData\\Local\\Temp\\ipykernel_10832\\4261671330.py:16: UserWarning: No artists with labels found to put in legend.  Note that artists whose label start with an underscore are ignored when legend() is called with no argument.\n",
      "  plt.legend()\n"
     ]
    },
    {
     "data": {
      "image/png": "[encoded data removed]",
      "text/plain": [
       "<Figure size 600x600 with 1 Axes>"
      ]
     },
     "metadata": {},
     "output_type": "display_data"
    }
   ],
   "source": [
    "plot_preditctions(X_train=X_train, X_test=X_test, y_train=y_train, y_test=y_test, y_pred=y_pred)"
   ]
  },
  {
   "cell_type": "markdown",
   "metadata": {},
   "source": [
    "## Visualizing the Evaluation of the model performance\n",
    "Threre plenty types of measuring this, but in this case since it is a regression problem:\n",
    "1. MAE - mean absolute error -> absolute values of y hat\n",
    "2. MSE - mean square error -> squared sum of the error respect to the y hat\n",
    "4. Huber - it takes both MAE and MSE -> it is like combination of both and less sensative to the outliers than MSE"
   ]
  },
  {
   "cell_type": "code",
   "execution_count": 62,
   "metadata": {},
   "outputs": [
    {
     "name": "stdout",
     "output_type": "stream",
     "text": [
      "\u001b[1m1/1\u001b[0m \u001b[32m━━━━━━━━━━━━━━━━━━━━\u001b[0m\u001b[37m\u001b[0m \u001b[1m1s\u001b[0m 656ms/step - loss: 77.8721 - mae: 77.8721\n"
     ]
    },
    {
     "data": {
      "text/plain": [
       "[77.87210083007812, 77.87210083007812]"
      ]
     },
     "execution_count": 62,
     "metadata": {},
     "output_type": "execute_result"
    }
   ],
   "source": [
    "# Evaluate the model\n",
    "model.evaluate(X_test, y_test)"
   ]
  },
  {
   "cell_type": "code",
   "execution_count": 12,
   "metadata": {},
   "outputs": [],
   "source": [
    "# Lets make a function to reuse the metrics eveluation\n",
    "\n",
    "# Calculate the mean absolute error\n",
    "def mean_absolute_error(y_test, y_pred):\n",
    "    \"\"\" Calulates the mean absolute error \"\"\"\n",
    "    return tf.keras.metrics.mae(y_true=y_test, y_pred=tf.squeeze(y_pred))\n",
    "\n",
    "# Calculate the mean square error\n",
    "def mean_squared_error(y_test, y_pred):\n",
    "    \"\"\" Calulates the mean squared error \"\"\"\n",
    "    return tf.keras.metrics.mse(y_true=y_test, y_pred=tf.squeeze(y_pred))"
   ]
  },
  {
   "cell_type": "code",
   "execution_count": 69,
   "metadata": {},
   "outputs": [
    {
     "data": {
      "text/plain": [
       "(<tf.Tensor: shape=(), dtype=float32, numpy=77.8721>,\n",
       " <tf.Tensor: shape=(), dtype=float32, numpy=6164.0107>)"
      ]
     },
     "execution_count": 69,
     "metadata": {},
     "output_type": "execute_result"
    }
   ],
   "source": [
    "mean_absolute_error(y_test, y_pred), mean_squared_error(y_test, y_pred)"
   ]
  },
  {
   "cell_type": "markdown",
   "metadata": {},
   "source": [
    "# Build model 1"
   ]
  },
  {
   "cell_type": "code",
   "execution_count": 2,
   "metadata": {},
   "outputs": [],
   "source": [
    "# Making a bigger dataset\n",
    "\n",
    "# Creating features for dataset\n",
    "X = tf.range(-100, 100, 4)\n",
    "# Creatign lebels for dataset\n",
    "y = X + 10\n",
    "\n",
    "X = tf.reshape(X, (-1, 1))"
   ]
  },
  {
   "cell_type": "code",
   "execution_count": 3,
   "metadata": {},
   "outputs": [
    {
     "data": {
      "text/plain": [
       "(40, 10)"
      ]
     },
     "execution_count": 3,
     "metadata": {},
     "output_type": "execute_result"
    }
   ],
   "source": [
    "# Spliting the data into two parts Train and Test sets\n",
    "X_train = X[:40] # Training set 80%  of the dataset\n",
    "y_train = y[:40] # Training y set 20%  of the dataset\n",
    "\n",
    "#Spliting to test set\n",
    "X_test= X[40:] # Training set 80%  of the dataset\n",
    "y_test = y[40:] # Training y set 20%  of the dataset\n",
    "\n",
    "len(X_train), len(X_test)"
   ]
  },
  {
   "cell_type": "code",
   "execution_count": null,
   "metadata": {},
   "outputs": [],
   "source": [
    "# 1.Creating a model with one extra hidden layer with activation function relu\n",
    "model = tf.keras.Sequential([\n",
    "    tf.keras.layers.Dense(100, activation=\"relu\"),\n",
    "    tf.keras.layers.Dense(1)\n",
    "])\n",
    "\n",
    "# 2.Compiling the model\n",
    "model.compile(loss=tf.keras.losses.mae,\n",
    "              optimizer=tf.keras.optimizers.Adam(learning_rate=0.01), # Compared to our second model, changed to optimization function and increased the learning_rate\n",
    "              metrics=[\"mae\"]\n",
    "              )\n",
    "\n",
    "# 3. Fitting the model to train with data, and this time as well will train 100 times to learn more deeply\n",
    "model.fit(X, y, epochs=100, verbose=0)"
   ]
  },
  {
   "cell_type": "code",
   "execution_count": 5,
   "metadata": {},
   "outputs": [
    {
     "name": "stdout",
     "output_type": "stream",
     "text": [
      "\u001b[1m1/1\u001b[0m \u001b[32m━━━━━━━━━━━━━━━━━━━━\u001b[0m\u001b[37m\u001b[0m \u001b[1m0s\u001b[0m 77ms/step\n"
     ]
    }
   ],
   "source": [
    "y_pred = model.predict(X_test)"
   ]
  },
  {
   "cell_type": "code",
   "execution_count": 11,
   "metadata": {},
   "outputs": [
    {
     "name": "stderr",
     "output_type": "stream",
     "text": [
      "C:\\Users\\baxti\\AppData\\Local\\Temp\\ipykernel_12136\\4261671330.py:16: UserWarning: No artists with labels found to put in legend.  Note that artists whose label start with an underscore are ignored when legend() is called with no argument.\n",
      "  plt.legend()\n"
     ]
    },
    {
     "data": {
      "image/png": "[encoded data removed]",
      "text/plain": [
       "<Figure size 600x600 with 1 Axes>"
      ]
     },
     "metadata": {},
     "output_type": "display_data"
    }
   ],
   "source": [
    "plot_preditctions(X_train, X_test, y_train, y_test, y_pred)"
   ]
  },
  {
   "cell_type": "code",
   "execution_count": 13,
   "metadata": {},
   "outputs": [
    {
     "data": {
      "text/plain": [
       "(0.90864563, 0.87740403)"
      ]
     },
     "execution_count": 13,
     "metadata": {},
     "output_type": "execute_result"
    }
   ],
   "source": [
    "model_one_mae = mean_absolute_error(y_test, y_pred)\n",
    "model_one_mse = mean_squared_error(y_test, y_pred)\n",
    "\n",
    "model_one_mae.numpy(), model_one_mse.numpy()"
   ]
  },
  {
   "cell_type": "markdown",
   "metadata": {},
   "source": [
    "## Larger example, working with feature rich dataset"
   ]
  },
  {
   "cell_type": "markdown",
   "metadata": {},
   "source": [
    "## Columns\n",
    "\n",
    "age: age of primary beneficiary\n",
    "\n",
    "sex: insurance contractor gender, female, male\n",
    "\n",
    "bmi: Body mass index, providing an understanding of body, weights that are relatively high or low relative to height,\n",
    "objective index of body weight (kg / m ^ 2) using the ratio of height to weight, ideally 18.5 to 24.9\n",
    "\n",
    "children: Number of children covered by health insurance / Number of dependents\n",
    "\n",
    "smoker: Smoking\n",
    "\n",
    "region: the beneficiary's residential area in the US, northeast, southeast, southwest, northwest.\n",
    "\n",
    "charges: Individual medical costs billed by health insurance"
   ]
  },
  {
   "cell_type": "code",
   "execution_count": 14,
   "metadata": {},
   "outputs": [],
   "source": [
    "# Importing required packages\n",
    "import pandas as pd \n",
    "import numpy as np\n",
    "import tensorflow as tf\n",
    "import seaborn as sns\n",
    "import matplotlib.pyplot as plt"
   ]
  },
  {
   "cell_type": "code",
   "execution_count": 47,
   "metadata": {},
   "outputs": [
    {
     "data": {
      "text/html": [
       "<div>\n",
       "<style scoped>\n",
       "    .dataframe tbody tr th:only-of-type {\n",
       "        vertical-align: middle;\n",
       "    }\n",
       "\n",
       "    .dataframe tbody tr th {\n",
       "        vertical-align: top;\n",
       "    }\n",
       "\n",
       "    .dataframe thead th {\n",
       "        text-align: right;\n",
       "    }\n",
       "</style>\n",
       "<table border=\"1\" class=\"dataframe\">\n",
       "  <thead>\n",
       "    <tr style=\"text-align: right;\">\n",
       "      <th></th>\n",
       "      <th>age</th>\n",
       "      <th>sex</th>\n",
       "      <th>bmi</th>\n",
       "      <th>children</th>\n",
       "      <th>smoker</th>\n",
       "      <th>region</th>\n",
       "      <th>charges</th>\n",
       "    </tr>\n",
       "  </thead>\n",
       "  <tbody>\n",
       "    <tr>\n",
       "      <th>0</th>\n",
       "      <td>19</td>\n",
       "      <td>female</td>\n",
       "      <td>27.90</td>\n",
       "      <td>0</td>\n",
       "      <td>yes</td>\n",
       "      <td>southwest</td>\n",
       "      <td>16884.9240</td>\n",
       "    </tr>\n",
       "    <tr>\n",
       "      <th>1</th>\n",
       "      <td>18</td>\n",
       "      <td>male</td>\n",
       "      <td>33.77</td>\n",
       "      <td>1</td>\n",
       "      <td>no</td>\n",
       "      <td>southeast</td>\n",
       "      <td>1725.5523</td>\n",
       "    </tr>\n",
       "    <tr>\n",
       "      <th>2</th>\n",
       "      <td>28</td>\n",
       "      <td>male</td>\n",
       "      <td>33.00</td>\n",
       "      <td>3</td>\n",
       "      <td>no</td>\n",
       "      <td>southeast</td>\n",
       "      <td>4449.4620</td>\n",
       "    </tr>\n",
       "  </tbody>\n",
       "</table>\n",
       "</div>"
      ],
      "text/plain": [
       "   age     sex    bmi  children smoker     region     charges\n",
       "0   19  female  27.90         0    yes  southwest  16884.9240\n",
       "1   18    male  33.77         1     no  southeast   1725.5523\n",
       "2   28    male  33.00         3     no  southeast   4449.4620"
      ]
     },
     "execution_count": 47,
     "metadata": {},
     "output_type": "execute_result"
    }
   ],
   "source": [
    "# Defining the dataset using pandas dataframe\n",
    "df = pd.read_csv(\"./dataset/insurance.csv\")\n",
    "\n",
    "df.head(3)"
   ]
  },
  {
   "cell_type": "code",
   "execution_count": 16,
   "metadata": {},
   "outputs": [
    {
     "data": {
      "text/plain": [
       "(1338, 7)"
      ]
     },
     "execution_count": 16,
     "metadata": {},
     "output_type": "execute_result"
    }
   ],
   "source": [
    "df.shape"
   ]
  },
  {
   "cell_type": "code",
   "execution_count": 18,
   "metadata": {},
   "outputs": [
    {
     "data": {
      "text/html": [
       "<div>\n",
       "<style scoped>\n",
       "    .dataframe tbody tr th:only-of-type {\n",
       "        vertical-align: middle;\n",
       "    }\n",
       "\n",
       "    .dataframe tbody tr th {\n",
       "        vertical-align: top;\n",
       "    }\n",
       "\n",
       "    .dataframe thead th {\n",
       "        text-align: right;\n",
       "    }\n",
       "</style>\n",
       "<table border=\"1\" class=\"dataframe\">\n",
       "  <thead>\n",
       "    <tr style=\"text-align: right;\">\n",
       "      <th></th>\n",
       "      <th>count</th>\n",
       "      <th>mean</th>\n",
       "      <th>std</th>\n",
       "      <th>min</th>\n",
       "      <th>25%</th>\n",
       "      <th>50%</th>\n",
       "      <th>75%</th>\n",
       "      <th>max</th>\n",
       "    </tr>\n",
       "  </thead>\n",
       "  <tbody>\n",
       "    <tr>\n",
       "      <th>age</th>\n",
       "      <td>1338.0</td>\n",
       "      <td>39.207025</td>\n",
       "      <td>14.049960</td>\n",
       "      <td>18.0000</td>\n",
       "      <td>27.00000</td>\n",
       "      <td>39.000</td>\n",
       "      <td>51.000000</td>\n",
       "      <td>64.00000</td>\n",
       "    </tr>\n",
       "    <tr>\n",
       "      <th>bmi</th>\n",
       "      <td>1338.0</td>\n",
       "      <td>30.663397</td>\n",
       "      <td>6.098187</td>\n",
       "      <td>15.9600</td>\n",
       "      <td>26.29625</td>\n",
       "      <td>30.400</td>\n",
       "      <td>34.693750</td>\n",
       "      <td>53.13000</td>\n",
       "    </tr>\n",
       "    <tr>\n",
       "      <th>children</th>\n",
       "      <td>1338.0</td>\n",
       "      <td>1.094918</td>\n",
       "      <td>1.205493</td>\n",
       "      <td>0.0000</td>\n",
       "      <td>0.00000</td>\n",
       "      <td>1.000</td>\n",
       "      <td>2.000000</td>\n",
       "      <td>5.00000</td>\n",
       "    </tr>\n",
       "    <tr>\n",
       "      <th>charges</th>\n",
       "      <td>1338.0</td>\n",
       "      <td>13270.422265</td>\n",
       "      <td>12110.011237</td>\n",
       "      <td>1121.8739</td>\n",
       "      <td>4740.28715</td>\n",
       "      <td>9382.033</td>\n",
       "      <td>16639.912515</td>\n",
       "      <td>63770.42801</td>\n",
       "    </tr>\n",
       "  </tbody>\n",
       "</table>\n",
       "</div>"
      ],
      "text/plain": [
       "           count          mean           std        min         25%       50%  \\\n",
       "age       1338.0     39.207025     14.049960    18.0000    27.00000    39.000   \n",
       "bmi       1338.0     30.663397      6.098187    15.9600    26.29625    30.400   \n",
       "children  1338.0      1.094918      1.205493     0.0000     0.00000     1.000   \n",
       "charges   1338.0  13270.422265  12110.011237  1121.8739  4740.28715  9382.033   \n",
       "\n",
       "                   75%          max  \n",
       "age          51.000000     64.00000  \n",
       "bmi          34.693750     53.13000  \n",
       "children      2.000000      5.00000  \n",
       "charges   16639.912515  63770.42801  "
      ]
     },
     "execution_count": 18,
     "metadata": {},
     "output_type": "execute_result"
    }
   ],
   "source": [
    "df.describe().T"
   ]
  },
  {
   "cell_type": "code",
   "execution_count": 19,
   "metadata": {},
   "outputs": [
    {
     "name": "stdout",
     "output_type": "stream",
     "text": [
      "<class 'pandas.core.frame.DataFrame'>\n",
      "RangeIndex: 1338 entries, 0 to 1337\n",
      "Data columns (total 7 columns):\n",
      " #   Column    Non-Null Count  Dtype  \n",
      "---  ------    --------------  -----  \n",
      " 0   age       1338 non-null   int64  \n",
      " 1   sex       1338 non-null   object \n",
      " 2   bmi       1338 non-null   float64\n",
      " 3   children  1338 non-null   int64  \n",
      " 4   smoker    1338 non-null   object \n",
      " 5   region    1338 non-null   object \n",
      " 6   charges   1338 non-null   float64\n",
      "dtypes: float64(2), int64(2), object(3)\n",
      "memory usage: 73.3+ KB\n"
     ]
    }
   ],
   "source": [
    "df.info()"
   ]
  },
  {
   "cell_type": "code",
   "execution_count": 28,
   "metadata": {},
   "outputs": [
    {
     "data": {
      "text/plain": [
       "(Index(['age', 'bmi', 'children', 'charges'], dtype='object'),\n",
       " Index(['sex', 'smoker', 'region'], dtype='object'))"
      ]
     },
     "execution_count": 28,
     "metadata": {},
     "output_type": "execute_result"
    }
   ],
   "source": [
    "#Taking the numerical column of the dataset\n",
    "num_columns = df.select_dtypes(include=\"number\").columns\n",
    "\n",
    "#Taking the categorical column of the dataset\n",
    "cat_columns = df.select_dtypes(include=\"object\").columns\n",
    "\n",
    "num_columns, cat_columns"
   ]
  },
  {
   "cell_type": "markdown",
   "metadata": {},
   "source": [
    "Since machine learning algorithms likes to numerical data, we will encode our categorical columns to numberic using OneHotEncoder "
   ]
  },
  {
   "cell_type": "code",
   "execution_count": 30,
   "metadata": {},
   "outputs": [],
   "source": [
    "from sklearn.preprocessing import OneHotEncoder\n",
    "\n",
    "def one_hot_encoder(df, features):\n",
    "    \"\"\"\n",
    "    This function takes a DataFrame and a list of features to encode.\n",
    "    It returns the DataFrame with the specified features one-hot encoded.\n",
    "    \"\"\"\n",
    "    # Initialize the encoder\n",
    "    encoder = OneHotEncoder(sparse_output=False)\n",
    "    \n",
    "    # Encoding the specified features\n",
    "    encoded_features = encoder.fit_transform(df[features])\n",
    "\n",
    "    # Creating a DataFrame for the encoded features\n",
    "    encoded_df = pd.DataFrame(\n",
    "        encoded_features,\n",
    "        columns=encoder.get_feature_names_out(features)\n",
    "    )\n",
    "    \n",
    "    # Dropping original categorical columns\n",
    "    df = df.drop(columns=features)\n",
    "    \n",
    "    # Concatenating the original DataFrame with the new one-hot encoded columns\n",
    "    df = pd.concat([df, encoded_df], axis=1)\n",
    "    \n",
    "    return df\n"
   ]
  },
  {
   "cell_type": "code",
   "execution_count": 31,
   "metadata": {},
   "outputs": [],
   "source": [
    "df = one_hot_encoder(df, ['sex', 'smoker', 'region'])"
   ]
  },
  {
   "cell_type": "code",
   "execution_count": 33,
   "metadata": {},
   "outputs": [
    {
     "data": {
      "text/html": [
       "<div>\n",
       "<style scoped>\n",
       "    .dataframe tbody tr th:only-of-type {\n",
       "        vertical-align: middle;\n",
       "    }\n",
       "\n",
       "    .dataframe tbody tr th {\n",
       "        vertical-align: top;\n",
       "    }\n",
       "\n",
       "    .dataframe thead th {\n",
       "        text-align: right;\n",
       "    }\n",
       "</style>\n",
       "<table border=\"1\" class=\"dataframe\">\n",
       "  <thead>\n",
       "    <tr style=\"text-align: right;\">\n",
       "      <th></th>\n",
       "      <th>age</th>\n",
       "      <th>bmi</th>\n",
       "      <th>children</th>\n",
       "      <th>charges</th>\n",
       "      <th>sex_female</th>\n",
       "      <th>sex_male</th>\n",
       "      <th>smoker_no</th>\n",
       "      <th>smoker_yes</th>\n",
       "      <th>region_northeast</th>\n",
       "      <th>region_northwest</th>\n",
       "      <th>region_southeast</th>\n",
       "      <th>region_southwest</th>\n",
       "    </tr>\n",
       "  </thead>\n",
       "  <tbody>\n",
       "    <tr>\n",
       "      <th>0</th>\n",
       "      <td>19</td>\n",
       "      <td>27.90</td>\n",
       "      <td>0</td>\n",
       "      <td>16884.9240</td>\n",
       "      <td>1.0</td>\n",
       "      <td>0.0</td>\n",
       "      <td>0.0</td>\n",
       "      <td>1.0</td>\n",
       "      <td>0.0</td>\n",
       "      <td>0.0</td>\n",
       "      <td>0.0</td>\n",
       "      <td>1.0</td>\n",
       "    </tr>\n",
       "    <tr>\n",
       "      <th>1</th>\n",
       "      <td>18</td>\n",
       "      <td>33.77</td>\n",
       "      <td>1</td>\n",
       "      <td>1725.5523</td>\n",
       "      <td>0.0</td>\n",
       "      <td>1.0</td>\n",
       "      <td>1.0</td>\n",
       "      <td>0.0</td>\n",
       "      <td>0.0</td>\n",
       "      <td>0.0</td>\n",
       "      <td>1.0</td>\n",
       "      <td>0.0</td>\n",
       "    </tr>\n",
       "    <tr>\n",
       "      <th>2</th>\n",
       "      <td>28</td>\n",
       "      <td>33.00</td>\n",
       "      <td>3</td>\n",
       "      <td>4449.4620</td>\n",
       "      <td>0.0</td>\n",
       "      <td>1.0</td>\n",
       "      <td>1.0</td>\n",
       "      <td>0.0</td>\n",
       "      <td>0.0</td>\n",
       "      <td>0.0</td>\n",
       "      <td>1.0</td>\n",
       "      <td>0.0</td>\n",
       "    </tr>\n",
       "  </tbody>\n",
       "</table>\n",
       "</div>"
      ],
      "text/plain": [
       "   age    bmi  children     charges  sex_female  sex_male  smoker_no  \\\n",
       "0   19  27.90         0  16884.9240         1.0       0.0        0.0   \n",
       "1   18  33.77         1   1725.5523         0.0       1.0        1.0   \n",
       "2   28  33.00         3   4449.4620         0.0       1.0        1.0   \n",
       "\n",
       "   smoker_yes  region_northeast  region_northwest  region_southeast  \\\n",
       "0         1.0               0.0               0.0               0.0   \n",
       "1         0.0               0.0               0.0               1.0   \n",
       "2         0.0               0.0               0.0               1.0   \n",
       "\n",
       "   region_southwest  \n",
       "0               1.0  \n",
       "1               0.0  \n",
       "2               0.0  "
      ]
     },
     "execution_count": 33,
     "metadata": {},
     "output_type": "execute_result"
    }
   ],
   "source": [
    "df.head(3)"
   ]
  },
  {
   "cell_type": "code",
   "execution_count": 35,
   "metadata": {},
   "outputs": [],
   "source": [
    "# Creating X and y values to pass the model\n",
    "X = df.drop(\"charges\", axis=1)\n",
    "y = df[\"charges\"]"
   ]
  },
  {
   "cell_type": "code",
   "execution_count": 36,
   "metadata": {},
   "outputs": [
    {
     "name": "stdout",
     "output_type": "stream",
     "text": [
      "Train set of X and y: (1070, 1070)\n",
      "Test set of X and y: (268, 268)\n"
     ]
    }
   ],
   "source": [
    "# Spliting the dataset into Train and Test sets\n",
    "from sklearn.model_selection import train_test_split\n",
    "\n",
    "# Seting up X and y Train and Test sets respectively\n",
    "X_train, X_test, y_train, y_test = train_test_split(X, y, test_size=0.2, random_state=42)\n",
    "\n",
    "# Checking up for their sizes\n",
    "print(f\"Train set of X and y: {len(X_train), len(y_train)}\")\n",
    "print(f\"Test set of X and y: {len(X_test), len(y_test)}\")"
   ]
  },
  {
   "cell_type": "code",
   "execution_count": 43,
   "metadata": {},
   "outputs": [
    {
     "name": "stdout",
     "output_type": "stream",
     "text": [
      "Epoch 1/200\n",
      "34/34 - 2s - 48ms/step - loss: 11423.7061 - mae: 11423.7061\n",
      "Epoch 2/200\n",
      "34/34 - 0s - 3ms/step - loss: 7512.7300 - mae: 7512.7300\n",
      "Epoch 3/200\n",
      "34/34 - 0s - 3ms/step - loss: 7243.6123 - mae: 7243.6123\n",
      "Epoch 4/200\n",
      "34/34 - 0s - 3ms/step - loss: 7036.9224 - mae: 7036.9224\n",
      "Epoch 5/200\n",
      "34/34 - 0s - 2ms/step - loss: 6768.5698 - mae: 6768.5698\n",
      "Epoch 6/200\n",
      "34/34 - 0s - 2ms/step - loss: 6506.8467 - mae: 6506.8467\n",
      "Epoch 7/200\n",
      "34/34 - 0s - 2ms/step - loss: 6347.3208 - mae: 6347.3208\n",
      "Epoch 8/200\n",
      "34/34 - 0s - 2ms/step - loss: 6200.3643 - mae: 6200.3643\n",
      "Epoch 9/200\n",
      "34/34 - 0s - 2ms/step - loss: 6030.1567 - mae: 6030.1567\n",
      "Epoch 10/200\n",
      "34/34 - 0s - 2ms/step - loss: 5822.9619 - mae: 5822.9619\n",
      "Epoch 11/200\n",
      "34/34 - 0s - 2ms/step - loss: 5526.8315 - mae: 5526.8315\n",
      "Epoch 12/200\n",
      "34/34 - 0s - 5ms/step - loss: 5118.6064 - mae: 5118.6064\n",
      "Epoch 13/200\n",
      "34/34 - 0s - 2ms/step - loss: 4564.9927 - mae: 4564.9927\n",
      "Epoch 14/200\n",
      "34/34 - 0s - 2ms/step - loss: 4083.0579 - mae: 4083.0579\n",
      "Epoch 15/200\n",
      "34/34 - 0s - 3ms/step - loss: 3948.3777 - mae: 3948.3777\n",
      "Epoch 16/200\n",
      "34/34 - 0s - 3ms/step - loss: 3803.9617 - mae: 3803.9617\n",
      "Epoch 17/200\n",
      "34/34 - 0s - 2ms/step - loss: 3838.7065 - mae: 3838.7065\n",
      "Epoch 18/200\n",
      "34/34 - 0s - 3ms/step - loss: 3821.1011 - mae: 3821.1011\n",
      "Epoch 19/200\n",
      "34/34 - 0s - 3ms/step - loss: 3792.5981 - mae: 3792.5981\n",
      "Epoch 20/200\n",
      "34/34 - 0s - 2ms/step - loss: 3782.5227 - mae: 3782.5227\n",
      "Epoch 21/200\n",
      "34/34 - 0s - 2ms/step - loss: 3758.9624 - mae: 3758.9624\n",
      "Epoch 22/200\n",
      "34/34 - 0s - 2ms/step - loss: 3766.7908 - mae: 3766.7908\n",
      "Epoch 23/200\n",
      "34/34 - 0s - 2ms/step - loss: 3749.6941 - mae: 3749.6941\n",
      "Epoch 24/200\n",
      "34/34 - 0s - 2ms/step - loss: 3759.4875 - mae: 3759.4875\n",
      "Epoch 25/200\n",
      "34/34 - 0s - 3ms/step - loss: 3735.1270 - mae: 3735.1270\n",
      "Epoch 26/200\n",
      "34/34 - 0s - 2ms/step - loss: 3717.8767 - mae: 3717.8767\n",
      "Epoch 27/200\n",
      "34/34 - 0s - 2ms/step - loss: 3715.6846 - mae: 3715.6846\n",
      "Epoch 28/200\n",
      "34/34 - 0s - 3ms/step - loss: 3707.3992 - mae: 3707.3992\n",
      "Epoch 29/200\n",
      "34/34 - 0s - 3ms/step - loss: 3711.7871 - mae: 3711.7871\n",
      "Epoch 30/200\n",
      "34/34 - 0s - 3ms/step - loss: 3715.5493 - mae: 3715.5493\n",
      "Epoch 31/200\n",
      "34/34 - 0s - 3ms/step - loss: 3677.1270 - mae: 3677.1270\n",
      "Epoch 32/200\n",
      "34/34 - 0s - 3ms/step - loss: 3704.5371 - mae: 3704.5371\n",
      "Epoch 33/200\n",
      "34/34 - 0s - 2ms/step - loss: 3655.4001 - mae: 3655.4001\n",
      "Epoch 34/200\n",
      "34/34 - 0s - 3ms/step - loss: 3669.9382 - mae: 3669.9382\n",
      "Epoch 35/200\n",
      "34/34 - 0s - 2ms/step - loss: 3643.2700 - mae: 3643.2700\n",
      "Epoch 36/200\n",
      "34/34 - 0s - 2ms/step - loss: 3662.9456 - mae: 3662.9456\n",
      "Epoch 37/200\n",
      "34/34 - 0s - 2ms/step - loss: 3611.1978 - mae: 3611.1978\n",
      "Epoch 38/200\n",
      "34/34 - 0s - 9ms/step - loss: 3673.4521 - mae: 3673.4521\n",
      "Epoch 39/200\n",
      "34/34 - 0s - 3ms/step - loss: 3613.9209 - mae: 3613.9209\n",
      "Epoch 40/200\n",
      "34/34 - 0s - 5ms/step - loss: 3660.6919 - mae: 3660.6919\n",
      "Epoch 41/200\n",
      "34/34 - 0s - 4ms/step - loss: 3622.0154 - mae: 3622.0154\n",
      "Epoch 42/200\n",
      "34/34 - 0s - 2ms/step - loss: 3597.3784 - mae: 3597.3784\n",
      "Epoch 43/200\n",
      "34/34 - 0s - 2ms/step - loss: 3591.8521 - mae: 3591.8521\n",
      "Epoch 44/200\n",
      "34/34 - 0s - 3ms/step - loss: 3592.6809 - mae: 3592.6809\n",
      "Epoch 45/200\n",
      "34/34 - 0s - 4ms/step - loss: 3561.4426 - mae: 3561.4426\n",
      "Epoch 46/200\n",
      "34/34 - 0s - 3ms/step - loss: 3594.4839 - mae: 3594.4839\n",
      "Epoch 47/200\n",
      "34/34 - 0s - 3ms/step - loss: 3580.3650 - mae: 3580.3650\n",
      "Epoch 48/200\n",
      "34/34 - 0s - 3ms/step - loss: 3563.8179 - mae: 3563.8179\n",
      "Epoch 49/200\n",
      "34/34 - 0s - 3ms/step - loss: 3559.1091 - mae: 3559.1091\n",
      "Epoch 50/200\n",
      "34/34 - 0s - 3ms/step - loss: 3531.4011 - mae: 3531.4011\n",
      "Epoch 51/200\n",
      "34/34 - 0s - 5ms/step - loss: 3537.5647 - mae: 3537.5647\n",
      "Epoch 52/200\n",
      "34/34 - 0s - 2ms/step - loss: 3538.0229 - mae: 3538.0229\n",
      "Epoch 53/200\n",
      "34/34 - 0s - 2ms/step - loss: 3533.8042 - mae: 3533.8042\n",
      "Epoch 54/200\n",
      "34/34 - 0s - 2ms/step - loss: 3532.0818 - mae: 3532.0818\n",
      "Epoch 55/200\n",
      "34/34 - 0s - 2ms/step - loss: 3543.9846 - mae: 3543.9846\n",
      "Epoch 56/200\n",
      "34/34 - 0s - 2ms/step - loss: 3526.7258 - mae: 3526.7258\n",
      "Epoch 57/200\n",
      "34/34 - 0s - 3ms/step - loss: 3549.5862 - mae: 3549.5862\n",
      "Epoch 58/200\n",
      "34/34 - 0s - 2ms/step - loss: 3547.0544 - mae: 3547.0544\n",
      "Epoch 59/200\n",
      "34/34 - 0s - 2ms/step - loss: 3507.3201 - mae: 3507.3201\n",
      "Epoch 60/200\n",
      "34/34 - 0s - 2ms/step - loss: 3546.0359 - mae: 3546.0359\n",
      "Epoch 61/200\n",
      "34/34 - 0s - 3ms/step - loss: 3538.5247 - mae: 3538.5247\n",
      "Epoch 62/200\n",
      "34/34 - 0s - 2ms/step - loss: 3552.6663 - mae: 3552.6663\n",
      "Epoch 63/200\n",
      "34/34 - 0s - 2ms/step - loss: 3551.6565 - mae: 3551.6565\n",
      "Epoch 64/200\n",
      "34/34 - 0s - 2ms/step - loss: 3527.8198 - mae: 3527.8198\n",
      "Epoch 65/200\n",
      "34/34 - 0s - 5ms/step - loss: 3535.1689 - mae: 3535.1689\n",
      "Epoch 66/200\n",
      "34/34 - 0s - 2ms/step - loss: 3534.7151 - mae: 3534.7151\n",
      "Epoch 67/200\n",
      "34/34 - 0s - 3ms/step - loss: 3507.6868 - mae: 3507.6868\n",
      "Epoch 68/200\n",
      "34/34 - 0s - 5ms/step - loss: 3538.6968 - mae: 3538.6968\n",
      "Epoch 69/200\n",
      "34/34 - 0s - 2ms/step - loss: 3535.1001 - mae: 3535.1001\n",
      "Epoch 70/200\n",
      "34/34 - 0s - 2ms/step - loss: 3527.2576 - mae: 3527.2576\n",
      "Epoch 71/200\n",
      "34/34 - 0s - 3ms/step - loss: 3529.8152 - mae: 3529.8152\n",
      "Epoch 72/200\n",
      "34/34 - 0s - 6ms/step - loss: 3527.2532 - mae: 3527.2532\n",
      "Epoch 73/200\n",
      "34/34 - 0s - 3ms/step - loss: 3520.5317 - mae: 3520.5317\n",
      "Epoch 74/200\n",
      "34/34 - 0s - 3ms/step - loss: 3517.6948 - mae: 3517.6948\n",
      "Epoch 75/200\n",
      "34/34 - 0s - 3ms/step - loss: 3518.4292 - mae: 3518.4292\n",
      "Epoch 76/200\n",
      "34/34 - 0s - 3ms/step - loss: 3535.5974 - mae: 3535.5974\n",
      "Epoch 77/200\n",
      "34/34 - 0s - 3ms/step - loss: 3549.5388 - mae: 3549.5388\n",
      "Epoch 78/200\n",
      "34/34 - 0s - 3ms/step - loss: 3541.7732 - mae: 3541.7732\n",
      "Epoch 79/200\n",
      "34/34 - 0s - 3ms/step - loss: 3521.9475 - mae: 3521.9475\n",
      "Epoch 80/200\n",
      "34/34 - 0s - 2ms/step - loss: 3551.2686 - mae: 3551.2686\n",
      "Epoch 81/200\n",
      "34/34 - 0s - 2ms/step - loss: 3523.2695 - mae: 3523.2695\n",
      "Epoch 82/200\n",
      "34/34 - 0s - 8ms/step - loss: 3529.4319 - mae: 3529.4319\n",
      "Epoch 83/200\n",
      "34/34 - 0s - 3ms/step - loss: 3543.1243 - mae: 3543.1243\n",
      "Epoch 84/200\n",
      "34/34 - 0s - 3ms/step - loss: 3525.2383 - mae: 3525.2383\n",
      "Epoch 85/200\n",
      "34/34 - 0s - 3ms/step - loss: 3532.1604 - mae: 3532.1604\n",
      "Epoch 86/200\n",
      "34/34 - 0s - 3ms/step - loss: 3535.7385 - mae: 3535.7385\n",
      "Epoch 87/200\n",
      "34/34 - 0s - 5ms/step - loss: 3539.2739 - mae: 3539.2739\n",
      "Epoch 88/200\n",
      "34/34 - 0s - 6ms/step - loss: 3538.7410 - mae: 3538.7410\n",
      "Epoch 89/200\n",
      "34/34 - 0s - 3ms/step - loss: 3515.9910 - mae: 3515.9910\n",
      "Epoch 90/200\n",
      "34/34 - 0s - 2ms/step - loss: 3532.0151 - mae: 3532.0151\n",
      "Epoch 91/200\n",
      "34/34 - 0s - 6ms/step - loss: 3537.2385 - mae: 3537.2385\n",
      "Epoch 92/200\n",
      "34/34 - 0s - 3ms/step - loss: 3530.8428 - mae: 3530.8428\n",
      "Epoch 93/200\n",
      "34/34 - 0s - 5ms/step - loss: 3519.7224 - mae: 3519.7224\n",
      "Epoch 94/200\n",
      "34/34 - 0s - 3ms/step - loss: 3519.5391 - mae: 3519.5391\n",
      "Epoch 95/200\n",
      "34/34 - 0s - 3ms/step - loss: 3532.0066 - mae: 3532.0066\n",
      "Epoch 96/200\n",
      "34/34 - 0s - 8ms/step - loss: 3518.7698 - mae: 3518.7698\n",
      "Epoch 97/200\n",
      "34/34 - 0s - 3ms/step - loss: 3521.9692 - mae: 3521.9692\n",
      "Epoch 98/200\n",
      "34/34 - 0s - 3ms/step - loss: 3519.4109 - mae: 3519.4109\n",
      "Epoch 99/200\n",
      "34/34 - 0s - 7ms/step - loss: 3523.9482 - mae: 3523.9482\n",
      "Epoch 100/200\n",
      "34/34 - 0s - 8ms/step - loss: 3535.6929 - mae: 3535.6929\n",
      "Epoch 101/200\n",
      "34/34 - 0s - 3ms/step - loss: 3530.3567 - mae: 3530.3567\n",
      "Epoch 102/200\n",
      "34/34 - 0s - 3ms/step - loss: 3527.0232 - mae: 3527.0232\n",
      "Epoch 103/200\n",
      "34/34 - 0s - 3ms/step - loss: 3533.1565 - mae: 3533.1565\n",
      "Epoch 104/200\n",
      "34/34 - 0s - 5ms/step - loss: 3524.3396 - mae: 3524.3396\n",
      "Epoch 105/200\n",
      "34/34 - 0s - 5ms/step - loss: 3525.2639 - mae: 3525.2639\n",
      "Epoch 106/200\n",
      "34/34 - 0s - 3ms/step - loss: 3540.5171 - mae: 3540.5171\n",
      "Epoch 107/200\n",
      "34/34 - 0s - 2ms/step - loss: 3521.0918 - mae: 3521.0918\n",
      "Epoch 108/200\n",
      "34/34 - 0s - 2ms/step - loss: 3520.6875 - mae: 3520.6875\n",
      "Epoch 109/200\n",
      "34/34 - 0s - 7ms/step - loss: 3520.2649 - mae: 3520.2649\n",
      "Epoch 110/200\n",
      "34/34 - 0s - 2ms/step - loss: 3527.7068 - mae: 3527.7068\n",
      "Epoch 111/200\n",
      "34/34 - 0s - 2ms/step - loss: 3540.6296 - mae: 3540.6296\n",
      "Epoch 112/200\n",
      "34/34 - 0s - 2ms/step - loss: 3535.1919 - mae: 3535.1919\n",
      "Epoch 113/200\n",
      "34/34 - 0s - 6ms/step - loss: 3527.1562 - mae: 3527.1562\n",
      "Epoch 114/200\n",
      "34/34 - 0s - 2ms/step - loss: 3526.3748 - mae: 3526.3748\n",
      "Epoch 115/200\n",
      "34/34 - 0s - 2ms/step - loss: 3547.4846 - mae: 3547.4846\n",
      "Epoch 116/200\n",
      "34/34 - 0s - 2ms/step - loss: 3543.7717 - mae: 3543.7717\n",
      "Epoch 117/200\n",
      "34/34 - 0s - 2ms/step - loss: 3521.5242 - mae: 3521.5242\n",
      "Epoch 118/200\n",
      "34/34 - 0s - 2ms/step - loss: 3539.8320 - mae: 3539.8320\n",
      "Epoch 119/200\n",
      "34/34 - 0s - 5ms/step - loss: 3507.6775 - mae: 3507.6775\n",
      "Epoch 120/200\n",
      "34/34 - 0s - 3ms/step - loss: 3524.0349 - mae: 3524.0349\n",
      "Epoch 121/200\n",
      "34/34 - 0s - 3ms/step - loss: 3519.0007 - mae: 3519.0007\n",
      "Epoch 122/200\n",
      "34/34 - 0s - 3ms/step - loss: 3533.3562 - mae: 3533.3562\n",
      "Epoch 123/200\n",
      "34/34 - 0s - 5ms/step - loss: 3539.7932 - mae: 3539.7932\n",
      "Epoch 124/200\n",
      "34/34 - 0s - 2ms/step - loss: 3535.3555 - mae: 3535.3555\n",
      "Epoch 125/200\n",
      "34/34 - 0s - 3ms/step - loss: 3541.5789 - mae: 3541.5789\n",
      "Epoch 126/200\n",
      "34/34 - 0s - 2ms/step - loss: 3528.8872 - mae: 3528.8872\n",
      "Epoch 127/200\n",
      "34/34 - 0s - 2ms/step - loss: 3521.3433 - mae: 3521.3433\n",
      "Epoch 128/200\n",
      "34/34 - 0s - 2ms/step - loss: 3530.2371 - mae: 3530.2371\n",
      "Epoch 129/200\n",
      "34/34 - 0s - 4ms/step - loss: 3533.2129 - mae: 3533.2129\n",
      "Epoch 130/200\n",
      "34/34 - 0s - 4ms/step - loss: 3529.3184 - mae: 3529.3184\n",
      "Epoch 131/200\n",
      "34/34 - 0s - 3ms/step - loss: 3527.3782 - mae: 3527.3782\n",
      "Epoch 132/200\n",
      "34/34 - 0s - 3ms/step - loss: 3536.8140 - mae: 3536.8140\n",
      "Epoch 133/200\n",
      "34/34 - 0s - 3ms/step - loss: 3537.9651 - mae: 3537.9651\n",
      "Epoch 134/200\n",
      "34/34 - 0s - 3ms/step - loss: 3533.8269 - mae: 3533.8269\n",
      "Epoch 135/200\n",
      "34/34 - 0s - 3ms/step - loss: 3536.0718 - mae: 3536.0718\n",
      "Epoch 136/200\n",
      "34/34 - 0s - 3ms/step - loss: 3528.6428 - mae: 3528.6428\n",
      "Epoch 137/200\n",
      "34/34 - 0s - 5ms/step - loss: 3528.3845 - mae: 3528.3845\n",
      "Epoch 138/200\n",
      "34/34 - 0s - 2ms/step - loss: 3533.0452 - mae: 3533.0452\n",
      "Epoch 139/200\n",
      "34/34 - 0s - 2ms/step - loss: 3520.9539 - mae: 3520.9539\n",
      "Epoch 140/200\n",
      "34/34 - 0s - 2ms/step - loss: 3536.6272 - mae: 3536.6272\n",
      "Epoch 141/200\n",
      "34/34 - 0s - 2ms/step - loss: 3530.2227 - mae: 3530.2227\n",
      "Epoch 142/200\n",
      "34/34 - 0s - 2ms/step - loss: 3532.5374 - mae: 3532.5374\n",
      "Epoch 143/200\n",
      "34/34 - 0s - 6ms/step - loss: 3547.1250 - mae: 3547.1250\n",
      "Epoch 144/200\n",
      "34/34 - 0s - 2ms/step - loss: 3529.5010 - mae: 3529.5010\n",
      "Epoch 145/200\n",
      "34/34 - 0s - 2ms/step - loss: 3531.5667 - mae: 3531.5667\n",
      "Epoch 146/200\n",
      "34/34 - 0s - 2ms/step - loss: 3536.0681 - mae: 3536.0681\n",
      "Epoch 147/200\n",
      "34/34 - 0s - 2ms/step - loss: 3510.9834 - mae: 3510.9834\n",
      "Epoch 148/200\n",
      "34/34 - 0s - 2ms/step - loss: 3529.3574 - mae: 3529.3574\n",
      "Epoch 149/200\n",
      "34/34 - 0s - 2ms/step - loss: 3550.1782 - mae: 3550.1782\n",
      "Epoch 150/200\n",
      "34/34 - 0s - 2ms/step - loss: 3501.5000 - mae: 3501.5000\n",
      "Epoch 151/200\n",
      "34/34 - 0s - 2ms/step - loss: 3526.3872 - mae: 3526.3872\n",
      "Epoch 152/200\n",
      "34/34 - 0s - 2ms/step - loss: 3527.5757 - mae: 3527.5757\n",
      "Epoch 153/200\n",
      "34/34 - 0s - 2ms/step - loss: 3534.6650 - mae: 3534.6650\n",
      "Epoch 154/200\n",
      "34/34 - 0s - 2ms/step - loss: 3536.1294 - mae: 3536.1294\n",
      "Epoch 155/200\n",
      "34/34 - 0s - 2ms/step - loss: 3533.1663 - mae: 3533.1663\n",
      "Epoch 156/200\n",
      "34/34 - 0s - 2ms/step - loss: 3517.1943 - mae: 3517.1943\n",
      "Epoch 157/200\n",
      "34/34 - 0s - 2ms/step - loss: 3513.2893 - mae: 3513.2893\n",
      "Epoch 158/200\n",
      "34/34 - 0s - 2ms/step - loss: 3529.9082 - mae: 3529.9082\n",
      "Epoch 159/200\n",
      "34/34 - 0s - 2ms/step - loss: 3539.4829 - mae: 3539.4829\n",
      "Epoch 160/200\n",
      "34/34 - 0s - 2ms/step - loss: 3537.0723 - mae: 3537.0723\n",
      "Epoch 161/200\n",
      "34/34 - 0s - 2ms/step - loss: 3537.2268 - mae: 3537.2268\n",
      "Epoch 162/200\n",
      "34/34 - 0s - 2ms/step - loss: 3519.1248 - mae: 3519.1248\n",
      "Epoch 163/200\n",
      "34/34 - 0s - 2ms/step - loss: 3518.3972 - mae: 3518.3972\n",
      "Epoch 164/200\n",
      "34/34 - 0s - 2ms/step - loss: 3518.0708 - mae: 3518.0708\n",
      "Epoch 165/200\n",
      "34/34 - 0s - 3ms/step - loss: 3548.5928 - mae: 3548.5928\n",
      "Epoch 166/200\n",
      "34/34 - 0s - 2ms/step - loss: 3532.1348 - mae: 3532.1348\n",
      "Epoch 167/200\n",
      "34/34 - 0s - 2ms/step - loss: 3527.6958 - mae: 3527.6958\n",
      "Epoch 168/200\n",
      "34/34 - 0s - 2ms/step - loss: 3524.5413 - mae: 3524.5413\n",
      "Epoch 169/200\n",
      "34/34 - 0s - 2ms/step - loss: 3527.9187 - mae: 3527.9187\n",
      "Epoch 170/200\n",
      "34/34 - 0s - 2ms/step - loss: 3523.2585 - mae: 3523.2585\n",
      "Epoch 171/200\n",
      "34/34 - 0s - 2ms/step - loss: 3517.1189 - mae: 3517.1189\n",
      "Epoch 172/200\n",
      "34/34 - 0s - 2ms/step - loss: 3548.4502 - mae: 3548.4502\n",
      "Epoch 173/200\n",
      "34/34 - 0s - 2ms/step - loss: 3547.3784 - mae: 3547.3784\n",
      "Epoch 174/200\n",
      "34/34 - 0s - 2ms/step - loss: 3513.2717 - mae: 3513.2717\n",
      "Epoch 175/200\n",
      "34/34 - 0s - 2ms/step - loss: 3526.9668 - mae: 3526.9668\n",
      "Epoch 176/200\n",
      "34/34 - 0s - 2ms/step - loss: 3515.3220 - mae: 3515.3220\n",
      "Epoch 177/200\n",
      "34/34 - 0s - 2ms/step - loss: 3527.1047 - mae: 3527.1047\n",
      "Epoch 178/200\n",
      "34/34 - 0s - 3ms/step - loss: 3539.7727 - mae: 3539.7727\n",
      "Epoch 179/200\n",
      "34/34 - 0s - 8ms/step - loss: 3513.5857 - mae: 3513.5857\n",
      "Epoch 180/200\n",
      "34/34 - 0s - 2ms/step - loss: 3511.7676 - mae: 3511.7676\n",
      "Epoch 181/200\n",
      "34/34 - 0s - 12ms/step - loss: 3522.2812 - mae: 3522.2812\n",
      "Epoch 182/200\n",
      "34/34 - 0s - 3ms/step - loss: 3521.2173 - mae: 3521.2173\n",
      "Epoch 183/200\n",
      "34/34 - 0s - 5ms/step - loss: 3540.4395 - mae: 3540.4395\n",
      "Epoch 184/200\n",
      "34/34 - 0s - 4ms/step - loss: 3511.0354 - mae: 3511.0354\n",
      "Epoch 185/200\n",
      "34/34 - 0s - 2ms/step - loss: 3533.0974 - mae: 3533.0974\n",
      "Epoch 186/200\n",
      "34/34 - 0s - 2ms/step - loss: 3534.7341 - mae: 3534.7341\n",
      "Epoch 187/200\n",
      "34/34 - 0s - 2ms/step - loss: 3535.1101 - mae: 3535.1101\n",
      "Epoch 188/200\n",
      "34/34 - 0s - 2ms/step - loss: 3536.4578 - mae: 3536.4578\n",
      "Epoch 189/200\n",
      "34/34 - 0s - 2ms/step - loss: 3532.9680 - mae: 3532.9680\n",
      "Epoch 190/200\n",
      "34/34 - 0s - 2ms/step - loss: 3520.2800 - mae: 3520.2800\n",
      "Epoch 191/200\n",
      "34/34 - 0s - 2ms/step - loss: 3520.3560 - mae: 3520.3560\n",
      "Epoch 192/200\n",
      "34/34 - 0s - 2ms/step - loss: 3557.4023 - mae: 3557.4023\n",
      "Epoch 193/200\n",
      "34/34 - 0s - 2ms/step - loss: 3518.2241 - mae: 3518.2241\n",
      "Epoch 194/200\n",
      "34/34 - 0s - 5ms/step - loss: 3516.4880 - mae: 3516.4880\n",
      "Epoch 195/200\n",
      "34/34 - 0s - 3ms/step - loss: 3530.8083 - mae: 3530.8083\n",
      "Epoch 196/200\n",
      "34/34 - 0s - 3ms/step - loss: 3536.1101 - mae: 3536.1101\n",
      "Epoch 197/200\n",
      "34/34 - 0s - 3ms/step - loss: 3533.8025 - mae: 3533.8025\n",
      "Epoch 198/200\n",
      "34/34 - 0s - 2ms/step - loss: 3536.5786 - mae: 3536.5786\n",
      "Epoch 199/200\n",
      "34/34 - 0s - 3ms/step - loss: 3523.6680 - mae: 3523.6680\n",
      "Epoch 200/200\n",
      "34/34 - 0s - 3ms/step - loss: 3516.1306 - mae: 3516.1306\n"
     ]
    }
   ],
   "source": [
    "# Building the neural network model\n",
    "tf.random.set_seed(42)\n",
    "\n",
    "# 1.Create a model\n",
    "insurance_model_1 = tf.keras.Sequential([\n",
    "    tf.keras.layers.Dense(100),\n",
    "    tf.keras.layers.Dense(10),\n",
    "    tf.keras.layers.Dense(1)\n",
    "])\n",
    "\n",
    "insurance_model_1.compile(loss=tf.keras.losses.mae,\n",
    "                          optimizer=tf.keras.optimizers.Adam(learning_rate=0.01),\n",
    "                          metrics=[\"mae\"]\n",
    "                          )\n",
    "\n",
    "history=insurance_model_1.fit(X_train, y_train, epochs=200, verbose=2)"
   ]
  },
  {
   "cell_type": "code",
   "execution_count": 44,
   "metadata": {},
   "outputs": [
    {
     "data": {
      "text/plain": [
       "Text(0, 0.5, 'loss')"
      ]
     },
     "execution_count": 44,
     "metadata": {},
     "output_type": "execute_result"
    },
    {
     "data": {
      "image/png": "[encoded data removed]",
      "text/plain": [
       "<Figure size 640x480 with 1 Axes>"
      ]
     },
     "metadata": {},
     "output_type": "display_data"
    }
   ],
   "source": [
    "# Plot the model history , learning curve\n",
    "pd.DataFrame(history.history).plot()\n",
    "plt.xlabel(\"epochs\")\n",
    "plt.ylabel(\"loss\")"
   ]
  },
  {
   "cell_type": "markdown",
   "metadata": {},
   "source": [
    "## Preprocessing data (Normalizing Data)"
   ]
  },
  {
   "cell_type": "code",
   "execution_count": 48,
   "metadata": {},
   "outputs": [
    {
     "data": {
      "text/plain": [
       "Index(['age', 'sex', 'bmi', 'children', 'smoker', 'region', 'charges'], dtype='object')"
      ]
     },
     "execution_count": 48,
     "metadata": {},
     "output_type": "execute_result"
    }
   ],
   "source": [
    "df.columns"
   ]
  },
  {
   "cell_type": "code",
   "execution_count": 65,
   "metadata": {},
   "outputs": [],
   "source": [
    "from sklearn.preprocessing import StandardScaler\n",
    "from sklearn.compose import make_column_transformer\n",
    "\n",
    "# Create column transformer\n",
    "ct = make_column_transformer(\n",
    "    (StandardScaler(), [\"age\", \"bmi\", \"children\"]), # turn all these columns into minmax scaler\n",
    "    (OneHotEncoder(handle_unknown=\"ignore\"), [\"sex\", \"smoker\", \"region\"])\n",
    ")\n",
    "\n",
    "# Spiliting into X and Y \n",
    "X = df.drop(\"charges\", axis=1)\n",
    "y = df[\"charges\"]\n",
    "\n",
    "# Building Train and Test sets\n",
    "X_train, X_test, y_train, y_test = train_test_split(X, y, test_size=0.2, random_state=42)\n",
    "\n",
    "\n",
    "# Fitting our X train data set into transformer\n",
    "ct.fit(X_train)\n",
    "\n",
    "# Transforming our train set into MinMax and OneHotEndoe\n",
    "X_train = ct.transform(X_train)\n",
    "\n",
    "# Fitting our X Test data set into transformer\n",
    "ct.fit(X_test)\n",
    "\n",
    "# Transforming our train set into MinMax and OneHotEndoe\n",
    "X_test = ct.transform(X_test)"
   ]
  },
  {
   "cell_type": "code",
   "execution_count": 66,
   "metadata": {},
   "outputs": [
    {
     "name": "stdout",
     "output_type": "stream",
     "text": [
      "Epoch 1/200\n",
      "34/34 - 3s - 75ms/step - loss: 9110.8965 - mae: 9110.8965\n",
      "Epoch 2/200\n",
      "34/34 - 0s - 3ms/step - loss: 3775.6587 - mae: 3775.6587\n",
      "Epoch 3/200\n",
      "34/34 - 0s - 3ms/step - loss: 3361.3118 - mae: 3361.3118\n",
      "Epoch 4/200\n",
      "34/34 - 0s - 3ms/step - loss: 2975.5208 - mae: 2975.5208\n",
      "Epoch 5/200\n",
      "34/34 - 0s - 3ms/step - loss: 2715.9309 - mae: 2715.9309\n",
      "Epoch 6/200\n",
      "34/34 - 0s - 3ms/step - loss: 2676.3372 - mae: 2676.3372\n",
      "Epoch 7/200\n",
      "34/34 - 0s - 3ms/step - loss: 2522.1731 - mae: 2522.1731\n",
      "Epoch 8/200\n",
      "34/34 - 0s - 3ms/step - loss: 2290.1975 - mae: 2290.1975\n",
      "Epoch 9/200\n",
      "34/34 - 0s - 3ms/step - loss: 2451.8481 - mae: 2451.8481\n",
      "Epoch 10/200\n",
      "34/34 - 0s - 3ms/step - loss: 2638.0671 - mae: 2638.0671\n",
      "Epoch 11/200\n",
      "34/34 - 0s - 3ms/step - loss: 2294.6377 - mae: 2294.6377\n",
      "Epoch 12/200\n",
      "34/34 - 0s - 3ms/step - loss: 2326.8687 - mae: 2326.8687\n",
      "Epoch 13/200\n",
      "34/34 - 0s - 3ms/step - loss: 2548.7256 - mae: 2548.7256\n",
      "Epoch 14/200\n",
      "34/34 - 0s - 3ms/step - loss: 2372.6494 - mae: 2372.6494\n",
      "Epoch 15/200\n",
      "34/34 - 0s - 3ms/step - loss: 2110.3708 - mae: 2110.3708\n",
      "Epoch 16/200\n",
      "34/34 - 0s - 3ms/step - loss: 2060.1353 - mae: 2060.1353\n",
      "Epoch 17/200\n",
      "34/34 - 0s - 3ms/step - loss: 2082.9551 - mae: 2082.9551\n",
      "Epoch 18/200\n",
      "34/34 - 0s - 3ms/step - loss: 2105.1289 - mae: 2105.1289\n",
      "Epoch 19/200\n",
      "34/34 - 0s - 3ms/step - loss: 2162.2825 - mae: 2162.2825\n",
      "Epoch 20/200\n",
      "34/34 - 0s - 3ms/step - loss: 2034.5774 - mae: 2034.5774\n",
      "Epoch 21/200\n",
      "34/34 - 0s - 3ms/step - loss: 2013.4008 - mae: 2013.4008\n",
      "Epoch 22/200\n",
      "34/34 - 0s - 3ms/step - loss: 2017.2708 - mae: 2017.2708\n",
      "Epoch 23/200\n",
      "34/34 - 0s - 3ms/step - loss: 1952.0044 - mae: 1952.0044\n",
      "Epoch 24/200\n",
      "34/34 - 0s - 10ms/step - loss: 1915.5736 - mae: 1915.5736\n",
      "Epoch 25/200\n",
      "34/34 - 0s - 5ms/step - loss: 1935.9830 - mae: 1935.9830\n",
      "Epoch 26/200\n",
      "34/34 - 0s - 6ms/step - loss: 1943.9683 - mae: 1943.9683\n",
      "Epoch 27/200\n",
      "34/34 - 0s - 4ms/step - loss: 1897.8597 - mae: 1897.8597\n",
      "Epoch 28/200\n",
      "34/34 - 0s - 3ms/step - loss: 2014.9003 - mae: 2014.9003\n",
      "Epoch 29/200\n",
      "34/34 - 0s - 3ms/step - loss: 1830.6349 - mae: 1830.6349\n",
      "Epoch 30/200\n",
      "34/34 - 0s - 3ms/step - loss: 1833.7296 - mae: 1833.7296\n",
      "Epoch 31/200\n",
      "34/34 - 0s - 3ms/step - loss: 1768.6295 - mae: 1768.6295\n",
      "Epoch 32/200\n",
      "34/34 - 0s - 8ms/step - loss: 1896.6304 - mae: 1896.6304\n",
      "Epoch 33/200\n",
      "34/34 - 0s - 4ms/step - loss: 1838.5881 - mae: 1838.5881\n",
      "Epoch 34/200\n",
      "34/34 - 0s - 3ms/step - loss: 1838.6233 - mae: 1838.6233\n",
      "Epoch 35/200\n",
      "34/34 - 0s - 3ms/step - loss: 1744.6522 - mae: 1744.6522\n",
      "Epoch 36/200\n",
      "34/34 - 0s - 4ms/step - loss: 1796.5195 - mae: 1796.5195\n",
      "Epoch 37/200\n",
      "34/34 - 0s - 3ms/step - loss: 1798.4882 - mae: 1798.4882\n",
      "Epoch 38/200\n",
      "34/34 - 0s - 3ms/step - loss: 1820.1545 - mae: 1820.1545\n",
      "Epoch 39/200\n",
      "34/34 - 0s - 3ms/step - loss: 1709.8975 - mae: 1709.8975\n",
      "Epoch 40/200\n",
      "34/34 - 0s - 3ms/step - loss: 1840.1819 - mae: 1840.1819\n",
      "Epoch 41/200\n",
      "34/34 - 0s - 3ms/step - loss: 1951.9717 - mae: 1951.9717\n",
      "Epoch 42/200\n",
      "34/34 - 0s - 5ms/step - loss: 1735.7841 - mae: 1735.7841\n",
      "Epoch 43/200\n",
      "34/34 - 0s - 4ms/step - loss: 1818.3516 - mae: 1818.3516\n",
      "Epoch 44/200\n",
      "34/34 - 0s - 5ms/step - loss: 1684.2733 - mae: 1684.2733\n",
      "Epoch 45/200\n",
      "34/34 - 0s - 5ms/step - loss: 1628.7716 - mae: 1628.7716\n",
      "Epoch 46/200\n",
      "34/34 - 0s - 4ms/step - loss: 1767.5255 - mae: 1767.5255\n",
      "Epoch 47/200\n",
      "34/34 - 0s - 6ms/step - loss: 1660.4556 - mae: 1660.4556\n",
      "Epoch 48/200\n",
      "34/34 - 0s - 5ms/step - loss: 1861.5870 - mae: 1861.5870\n",
      "Epoch 49/200\n",
      "34/34 - 0s - 4ms/step - loss: 1734.2394 - mae: 1734.2394\n",
      "Epoch 50/200\n",
      "34/34 - 0s - 3ms/step - loss: 1855.0670 - mae: 1855.0670\n",
      "Epoch 51/200\n",
      "34/34 - 0s - 3ms/step - loss: 1794.4508 - mae: 1794.4508\n",
      "Epoch 52/200\n",
      "34/34 - 0s - 3ms/step - loss: 1749.6876 - mae: 1749.6876\n",
      "Epoch 53/200\n",
      "34/34 - 0s - 3ms/step - loss: 1764.7312 - mae: 1764.7312\n",
      "Epoch 54/200\n",
      "34/34 - 0s - 3ms/step - loss: 1738.1837 - mae: 1738.1837\n",
      "Epoch 55/200\n",
      "34/34 - 0s - 3ms/step - loss: 1945.3042 - mae: 1945.3042\n",
      "Epoch 56/200\n",
      "34/34 - 0s - 3ms/step - loss: 1693.1531 - mae: 1693.1531\n",
      "Epoch 57/200\n",
      "34/34 - 0s - 3ms/step - loss: 1615.2828 - mae: 1615.2828\n",
      "Epoch 58/200\n",
      "34/34 - 0s - 3ms/step - loss: 1733.7328 - mae: 1733.7328\n",
      "Epoch 59/200\n",
      "34/34 - 0s - 3ms/step - loss: 1775.8479 - mae: 1775.8479\n",
      "Epoch 60/200\n",
      "34/34 - 0s - 4ms/step - loss: 1750.4769 - mae: 1750.4769\n",
      "Epoch 61/200\n",
      "34/34 - 0s - 3ms/step - loss: 1654.3094 - mae: 1654.3094\n",
      "Epoch 62/200\n",
      "34/34 - 0s - 3ms/step - loss: 1625.1671 - mae: 1625.1671\n",
      "Epoch 63/200\n",
      "34/34 - 0s - 3ms/step - loss: 1846.0946 - mae: 1846.0946\n",
      "Epoch 64/200\n",
      "34/34 - 0s - 5ms/step - loss: 1675.0847 - mae: 1675.0847\n",
      "Epoch 65/200\n",
      "34/34 - 0s - 4ms/step - loss: 1617.3274 - mae: 1617.3274\n",
      "Epoch 66/200\n",
      "34/34 - 0s - 3ms/step - loss: 1707.3278 - mae: 1707.3278\n",
      "Epoch 67/200\n",
      "34/34 - 0s - 3ms/step - loss: 1727.1703 - mae: 1727.1703\n",
      "Epoch 68/200\n",
      "34/34 - 0s - 3ms/step - loss: 1552.6611 - mae: 1552.6611\n",
      "Epoch 69/200\n",
      "34/34 - 0s - 4ms/step - loss: 1560.1982 - mae: 1560.1982\n",
      "Epoch 70/200\n",
      "34/34 - 0s - 4ms/step - loss: 1679.4481 - mae: 1679.4481\n",
      "Epoch 71/200\n",
      "34/34 - 0s - 3ms/step - loss: 1722.6503 - mae: 1722.6503\n",
      "Epoch 72/200\n",
      "34/34 - 0s - 4ms/step - loss: 1616.5646 - mae: 1616.5646\n",
      "Epoch 73/200\n",
      "34/34 - 0s - 10ms/step - loss: 1690.2152 - mae: 1690.2152\n",
      "Epoch 74/200\n",
      "34/34 - 0s - 3ms/step - loss: 1679.6949 - mae: 1679.6949\n",
      "Epoch 75/200\n",
      "34/34 - 0s - 7ms/step - loss: 1555.2305 - mae: 1555.2305\n",
      "Epoch 76/200\n",
      "34/34 - 0s - 3ms/step - loss: 1729.4769 - mae: 1729.4769\n",
      "Epoch 77/200\n",
      "34/34 - 0s - 4ms/step - loss: 1639.1251 - mae: 1639.1251\n",
      "Epoch 78/200\n",
      "34/34 - 0s - 3ms/step - loss: 1747.0148 - mae: 1747.0148\n",
      "Epoch 79/200\n",
      "34/34 - 0s - 3ms/step - loss: 1729.1462 - mae: 1729.1462\n",
      "Epoch 80/200\n",
      "34/34 - 0s - 3ms/step - loss: 1824.3285 - mae: 1824.3285\n",
      "Epoch 81/200\n",
      "34/34 - 0s - 3ms/step - loss: 1829.8253 - mae: 1829.8253\n",
      "Epoch 82/200\n",
      "34/34 - 0s - 7ms/step - loss: 1776.1796 - mae: 1776.1796\n",
      "Epoch 83/200\n",
      "34/34 - 0s - 4ms/step - loss: 1644.4624 - mae: 1644.4624\n",
      "Epoch 84/200\n",
      "34/34 - 0s - 3ms/step - loss: 1639.9670 - mae: 1639.9670\n",
      "Epoch 85/200\n",
      "34/34 - 0s - 9ms/step - loss: 1572.6592 - mae: 1572.6592\n",
      "Epoch 86/200\n",
      "34/34 - 0s - 3ms/step - loss: 1597.2699 - mae: 1597.2699\n",
      "Epoch 87/200\n",
      "34/34 - 0s - 9ms/step - loss: 1632.4250 - mae: 1632.4250\n",
      "Epoch 88/200\n",
      "34/34 - 0s - 3ms/step - loss: 1644.2079 - mae: 1644.2079\n",
      "Epoch 89/200\n",
      "34/34 - 0s - 7ms/step - loss: 1639.9373 - mae: 1639.9373\n",
      "Epoch 90/200\n",
      "34/34 - 0s - 3ms/step - loss: 1677.4503 - mae: 1677.4503\n",
      "Epoch 91/200\n",
      "34/34 - 0s - 3ms/step - loss: 1644.6046 - mae: 1644.6046\n",
      "Epoch 92/200\n",
      "34/34 - 0s - 3ms/step - loss: 1569.3649 - mae: 1569.3649\n",
      "Epoch 93/200\n",
      "34/34 - 0s - 3ms/step - loss: 1603.0490 - mae: 1603.0490\n",
      "Epoch 94/200\n",
      "34/34 - 0s - 3ms/step - loss: 1538.9131 - mae: 1538.9131\n",
      "Epoch 95/200\n",
      "34/34 - 0s - 3ms/step - loss: 1727.2430 - mae: 1727.2430\n",
      "Epoch 96/200\n",
      "34/34 - 0s - 3ms/step - loss: 1596.0669 - mae: 1596.0669\n",
      "Epoch 97/200\n",
      "34/34 - 0s - 4ms/step - loss: 1687.0178 - mae: 1687.0178\n",
      "Epoch 98/200\n",
      "34/34 - 0s - 3ms/step - loss: 1610.7429 - mae: 1610.7429\n",
      "Epoch 99/200\n",
      "34/34 - 0s - 3ms/step - loss: 1648.8910 - mae: 1648.8910\n",
      "Epoch 100/200\n",
      "34/34 - 0s - 3ms/step - loss: 1672.7216 - mae: 1672.7216\n",
      "Epoch 101/200\n",
      "34/34 - 0s - 3ms/step - loss: 1725.9653 - mae: 1725.9653\n",
      "Epoch 102/200\n",
      "34/34 - 0s - 3ms/step - loss: 1633.0164 - mae: 1633.0164\n",
      "Epoch 103/200\n",
      "34/34 - 0s - 3ms/step - loss: 1579.1931 - mae: 1579.1931\n",
      "Epoch 104/200\n",
      "34/34 - 0s - 3ms/step - loss: 1589.3423 - mae: 1589.3423\n",
      "Epoch 105/200\n",
      "34/34 - 0s - 3ms/step - loss: 1658.0829 - mae: 1658.0829\n",
      "Epoch 106/200\n",
      "34/34 - 0s - 3ms/step - loss: 1685.3119 - mae: 1685.3119\n",
      "Epoch 107/200\n",
      "34/34 - 0s - 3ms/step - loss: 1743.4504 - mae: 1743.4504\n",
      "Epoch 108/200\n",
      "34/34 - 0s - 5ms/step - loss: 1593.4310 - mae: 1593.4310\n",
      "Epoch 109/200\n",
      "34/34 - 0s - 3ms/step - loss: 1610.6451 - mae: 1610.6451\n",
      "Epoch 110/200\n",
      "34/34 - 0s - 3ms/step - loss: 1562.3949 - mae: 1562.3949\n",
      "Epoch 111/200\n",
      "34/34 - 0s - 3ms/step - loss: 1594.2112 - mae: 1594.2112\n",
      "Epoch 112/200\n",
      "34/34 - 0s - 3ms/step - loss: 1526.4730 - mae: 1526.4730\n",
      "Epoch 113/200\n",
      "34/34 - 0s - 3ms/step - loss: 1569.8257 - mae: 1569.8257\n",
      "Epoch 114/200\n",
      "34/34 - 0s - 3ms/step - loss: 1595.2355 - mae: 1595.2355\n",
      "Epoch 115/200\n",
      "34/34 - 0s - 3ms/step - loss: 1578.8604 - mae: 1578.8604\n",
      "Epoch 116/200\n",
      "34/34 - 0s - 3ms/step - loss: 1588.6700 - mae: 1588.6700\n",
      "Epoch 117/200\n",
      "34/34 - 0s - 3ms/step - loss: 1562.0020 - mae: 1562.0020\n",
      "Epoch 118/200\n",
      "34/34 - 0s - 3ms/step - loss: 1592.7902 - mae: 1592.7902\n",
      "Epoch 119/200\n",
      "34/34 - 0s - 3ms/step - loss: 1561.4136 - mae: 1561.4136\n",
      "Epoch 120/200\n",
      "34/34 - 0s - 3ms/step - loss: 1583.7266 - mae: 1583.7266\n",
      "Epoch 121/200\n",
      "34/34 - 0s - 3ms/step - loss: 1730.8436 - mae: 1730.8436\n",
      "Epoch 122/200\n",
      "34/34 - 0s - 3ms/step - loss: 1549.9740 - mae: 1549.9740\n",
      "Epoch 123/200\n",
      "34/34 - 0s - 3ms/step - loss: 1539.3347 - mae: 1539.3347\n",
      "Epoch 124/200\n",
      "34/34 - 0s - 3ms/step - loss: 1488.9287 - mae: 1488.9287\n",
      "Epoch 125/200\n",
      "34/34 - 0s - 3ms/step - loss: 1512.7992 - mae: 1512.7992\n",
      "Epoch 126/200\n",
      "34/34 - 0s - 3ms/step - loss: 1625.3746 - mae: 1625.3746\n",
      "Epoch 127/200\n",
      "34/34 - 0s - 3ms/step - loss: 1479.8247 - mae: 1479.8247\n",
      "Epoch 128/200\n",
      "34/34 - 0s - 3ms/step - loss: 1594.0221 - mae: 1594.0221\n",
      "Epoch 129/200\n",
      "34/34 - 0s - 3ms/step - loss: 1565.0101 - mae: 1565.0101\n",
      "Epoch 130/200\n",
      "34/34 - 0s - 3ms/step - loss: 1525.5162 - mae: 1525.5162\n",
      "Epoch 131/200\n",
      "34/34 - 0s - 8ms/step - loss: 1566.7723 - mae: 1566.7723\n",
      "Epoch 132/200\n",
      "34/34 - 0s - 3ms/step - loss: 1547.0889 - mae: 1547.0889\n",
      "Epoch 133/200\n",
      "34/34 - 0s - 3ms/step - loss: 1570.8180 - mae: 1570.8180\n",
      "Epoch 134/200\n",
      "34/34 - 0s - 3ms/step - loss: 1658.5886 - mae: 1658.5886\n",
      "Epoch 135/200\n",
      "34/34 - 0s - 3ms/step - loss: 1561.0404 - mae: 1561.0404\n",
      "Epoch 136/200\n",
      "34/34 - 0s - 3ms/step - loss: 1583.5521 - mae: 1583.5521\n",
      "Epoch 137/200\n",
      "34/34 - 0s - 3ms/step - loss: 1581.0209 - mae: 1581.0209\n",
      "Epoch 138/200\n",
      "34/34 - 0s - 3ms/step - loss: 1752.3737 - mae: 1752.3737\n",
      "Epoch 139/200\n",
      "34/34 - 0s - 3ms/step - loss: 1609.9888 - mae: 1609.9888\n",
      "Epoch 140/200\n",
      "34/34 - 0s - 3ms/step - loss: 1563.2708 - mae: 1563.2708\n",
      "Epoch 141/200\n",
      "34/34 - 0s - 3ms/step - loss: 1510.1603 - mae: 1510.1603\n",
      "Epoch 142/200\n",
      "34/34 - 0s - 3ms/step - loss: 1546.3030 - mae: 1546.3030\n",
      "Epoch 143/200\n",
      "34/34 - 0s - 3ms/step - loss: 1562.3247 - mae: 1562.3247\n",
      "Epoch 144/200\n",
      "34/34 - 0s - 3ms/step - loss: 1564.3723 - mae: 1564.3723\n",
      "Epoch 145/200\n",
      "34/34 - 0s - 3ms/step - loss: 1508.6390 - mae: 1508.6390\n",
      "Epoch 146/200\n",
      "34/34 - 0s - 4ms/step - loss: 1493.7871 - mae: 1493.7871\n",
      "Epoch 147/200\n",
      "34/34 - 0s - 4ms/step - loss: 1606.9009 - mae: 1606.9009\n",
      "Epoch 148/200\n",
      "34/34 - 0s - 9ms/step - loss: 1525.5286 - mae: 1525.5286\n",
      "Epoch 149/200\n",
      "34/34 - 0s - 9ms/step - loss: 1619.4761 - mae: 1619.4761\n",
      "Epoch 150/200\n",
      "34/34 - 0s - 4ms/step - loss: 1581.8317 - mae: 1581.8317\n",
      "Epoch 151/200\n",
      "34/34 - 0s - 4ms/step - loss: 1525.6962 - mae: 1525.6962\n",
      "Epoch 152/200\n",
      "34/34 - 0s - 3ms/step - loss: 1644.8246 - mae: 1644.8246\n",
      "Epoch 153/200\n",
      "34/34 - 0s - 3ms/step - loss: 1540.3872 - mae: 1540.3872\n",
      "Epoch 154/200\n",
      "34/34 - 0s - 3ms/step - loss: 1585.5735 - mae: 1585.5735\n",
      "Epoch 155/200\n",
      "34/34 - 0s - 3ms/step - loss: 1518.6979 - mae: 1518.6979\n",
      "Epoch 156/200\n",
      "34/34 - 0s - 3ms/step - loss: 1462.0029 - mae: 1462.0029\n",
      "Epoch 157/200\n",
      "34/34 - 0s - 3ms/step - loss: 1532.1060 - mae: 1532.1060\n",
      "Epoch 158/200\n",
      "34/34 - 0s - 9ms/step - loss: 1478.4012 - mae: 1478.4012\n",
      "Epoch 159/200\n",
      "34/34 - 0s - 4ms/step - loss: 1519.3679 - mae: 1519.3679\n",
      "Epoch 160/200\n",
      "34/34 - 0s - 4ms/step - loss: 1481.0798 - mae: 1481.0798\n",
      "Epoch 161/200\n",
      "34/34 - 0s - 3ms/step - loss: 1594.0238 - mae: 1594.0238\n",
      "Epoch 162/200\n",
      "34/34 - 0s - 3ms/step - loss: 1529.5352 - mae: 1529.5352\n",
      "Epoch 163/200\n",
      "34/34 - 0s - 3ms/step - loss: 1499.8854 - mae: 1499.8854\n",
      "Epoch 164/200\n",
      "34/34 - 0s - 3ms/step - loss: 1698.1095 - mae: 1698.1095\n",
      "Epoch 165/200\n",
      "34/34 - 0s - 3ms/step - loss: 1560.0806 - mae: 1560.0806\n",
      "Epoch 166/200\n",
      "34/34 - 0s - 8ms/step - loss: 1452.4500 - mae: 1452.4500\n",
      "Epoch 167/200\n",
      "34/34 - 0s - 10ms/step - loss: 1500.4281 - mae: 1500.4281\n",
      "Epoch 168/200\n",
      "34/34 - 0s - 3ms/step - loss: 1543.7284 - mae: 1543.7284\n",
      "Epoch 169/200\n",
      "34/34 - 0s - 3ms/step - loss: 1482.2762 - mae: 1482.2762\n",
      "Epoch 170/200\n",
      "34/34 - 0s - 3ms/step - loss: 1518.9512 - mae: 1518.9512\n",
      "Epoch 171/200\n",
      "34/34 - 0s - 3ms/step - loss: 1536.1912 - mae: 1536.1912\n",
      "Epoch 172/200\n",
      "34/34 - 0s - 3ms/step - loss: 1552.4491 - mae: 1552.4491\n",
      "Epoch 173/200\n",
      "34/34 - 0s - 3ms/step - loss: 1497.0024 - mae: 1497.0024\n",
      "Epoch 174/200\n",
      "34/34 - 0s - 4ms/step - loss: 1518.7511 - mae: 1518.7511\n",
      "Epoch 175/200\n",
      "34/34 - 0s - 3ms/step - loss: 1516.5511 - mae: 1516.5511\n",
      "Epoch 176/200\n",
      "34/34 - 0s - 3ms/step - loss: 1487.9154 - mae: 1487.9154\n",
      "Epoch 177/200\n",
      "34/34 - 0s - 3ms/step - loss: 1468.6184 - mae: 1468.6184\n",
      "Epoch 178/200\n",
      "34/34 - 0s - 3ms/step - loss: 1567.8207 - mae: 1567.8207\n",
      "Epoch 179/200\n",
      "34/34 - 0s - 3ms/step - loss: 1702.8162 - mae: 1702.8162\n",
      "Epoch 180/200\n",
      "34/34 - 0s - 3ms/step - loss: 1586.8591 - mae: 1586.8591\n",
      "Epoch 181/200\n",
      "34/34 - 0s - 3ms/step - loss: 1619.1375 - mae: 1619.1375\n",
      "Epoch 182/200\n",
      "34/34 - 0s - 3ms/step - loss: 1543.5859 - mae: 1543.5859\n",
      "Epoch 183/200\n",
      "34/34 - 0s - 3ms/step - loss: 1557.6278 - mae: 1557.6278\n",
      "Epoch 184/200\n",
      "34/34 - 0s - 4ms/step - loss: 1527.6981 - mae: 1527.6981\n",
      "Epoch 185/200\n",
      "34/34 - 0s - 4ms/step - loss: 1565.4862 - mae: 1565.4862\n",
      "Epoch 186/200\n",
      "34/34 - 0s - 3ms/step - loss: 1522.3331 - mae: 1522.3331\n",
      "Epoch 187/200\n",
      "34/34 - 0s - 10ms/step - loss: 1548.6718 - mae: 1548.6718\n",
      "Epoch 188/200\n",
      "34/34 - 0s - 3ms/step - loss: 1595.0320 - mae: 1595.0320\n",
      "Epoch 189/200\n",
      "34/34 - 0s - 3ms/step - loss: 1735.7947 - mae: 1735.7947\n",
      "Epoch 190/200\n",
      "34/34 - 0s - 3ms/step - loss: 1598.9175 - mae: 1598.9175\n",
      "Epoch 191/200\n",
      "34/34 - 0s - 3ms/step - loss: 1563.5887 - mae: 1563.5887\n",
      "Epoch 192/200\n",
      "34/34 - 0s - 4ms/step - loss: 1600.0875 - mae: 1600.0875\n",
      "Epoch 193/200\n",
      "34/34 - 0s - 5ms/step - loss: 1536.9062 - mae: 1536.9062\n",
      "Epoch 194/200\n",
      "34/34 - 0s - 3ms/step - loss: 1504.1355 - mae: 1504.1355\n",
      "Epoch 195/200\n",
      "34/34 - 0s - 3ms/step - loss: 1499.7192 - mae: 1499.7192\n",
      "Epoch 196/200\n",
      "34/34 - 0s - 3ms/step - loss: 1451.3553 - mae: 1451.3553\n",
      "Epoch 197/200\n",
      "34/34 - 0s - 3ms/step - loss: 1490.3871 - mae: 1490.3871\n",
      "Epoch 198/200\n",
      "34/34 - 0s - 3ms/step - loss: 1514.7723 - mae: 1514.7723\n",
      "Epoch 199/200\n",
      "34/34 - 0s - 3ms/step - loss: 1489.1693 - mae: 1489.1693\n",
      "Epoch 200/200\n",
      "34/34 - 0s - 8ms/step - loss: 1496.3844 - mae: 1496.3844\n"
     ]
    }
   ],
   "source": [
    "# Building the neural network model\n",
    "tf.random.set_seed(42)\n",
    "\n",
    "# 1.Create a model\n",
    "insurance_model_2 = tf.keras.Sequential([\n",
    "    tf.keras.layers.Dense(200, activation=\"relu\"),\n",
    "    tf.keras.layers.Dense(164, activation=\"relu\"),\n",
    "    tf.keras.layers.Dense(124, activation=\"relu\"),\n",
    "    tf.keras.layers.Dense(64,activation=\"relu\"),\n",
    "    tf.keras.layers.Dense(32,activation=\"relu\"),\n",
    "    tf.keras.layers.Dense(1)\n",
    "])\n",
    "\n",
    "insurance_model_2.compile(loss=tf.keras.losses.mae,\n",
    "                          optimizer=tf.keras.optimizers.Adam(learning_rate=0.01),\n",
    "                          metrics=[\"mae\"]\n",
    "                          )\n",
    "\n",
    "history=insurance_model_2.fit(X_train, y_train, epochs=200, verbose=2)"
   ]
  },
  {
   "cell_type": "code",
   "execution_count": 67,
   "metadata": {},
   "outputs": [
    {
     "data": {
      "text/plain": [
       "Text(0, 0.5, 'loss')"
      ]
     },
     "execution_count": 67,
     "metadata": {},
     "output_type": "execute_result"
    },
    {
     "data": {
      "image/png": "[encoded data removed]",
      "text/plain": [
       "<Figure size 640x480 with 1 Axes>"
      ]
     },
     "metadata": {},
     "output_type": "display_data"
    }
   ],
   "source": [
    "# Plot the model history , learning curve\n",
    "pd.DataFrame(history.history).plot()\n",
    "plt.xlabel(\"epochs\")\n",
    "plt.ylabel(\"loss\")"
   ]
  },
  {
   "cell_type": "code",
   "execution_count": 60,
   "metadata": {},
   "outputs": [
    {
     "data": {
      "text/html": [
       "<pre style=\"white-space:pre;overflow-x:auto;line-height:normal;font-family:Menlo,'DejaVu Sans Mono',consolas,'Courier New',monospace\"><span style=\"font-weight: bold\">Model: \"sequential_10\"</span>\n",
       "</pre>\n"
      ],
      "text/plain": [
       "\u001b[1mModel: \"sequential_10\"\u001b[0m\n"
      ]
     },
     "metadata": {},
     "output_type": "display_data"
    },
    {
     "data": {
      "text/html": [
       "<pre style=\"white-space:pre;overflow-x:auto;line-height:normal;font-family:Menlo,'DejaVu Sans Mono',consolas,'Courier New',monospace\">┏━━━━━━━━━━━━━━━━━━━━━━━━━━━━━━━━━┳━━━━━━━━━━━━━━━━━━━━━━━━┳━━━━━━━━━━━━━━━┓\n",
       "┃<span style=\"font-weight: bold\"> Layer (type)                    </span>┃<span style=\"font-weight: bold\"> Output Shape           </span>┃<span style=\"font-weight: bold\">       Param # </span>┃\n",
       "┡━━━━━━━━━━━━━━━━━━━━━━━━━━━━━━━━━╇━━━━━━━━━━━━━━━━━━━━━━━━╇━━━━━━━━━━━━━━━┩\n",
       "│ dense_28 (<span style=\"color: #0087ff; text-decoration-color: #0087ff\">Dense</span>)                │ (<span style=\"color: #00d7ff; text-decoration-color: #00d7ff\">None</span>, <span style=\"color: #00af00; text-decoration-color: #00af00\">200</span>)            │         <span style=\"color: #00af00; text-decoration-color: #00af00\">2,400</span> │\n",
       "├─────────────────────────────────┼────────────────────────┼───────────────┤\n",
       "│ dense_29 (<span style=\"color: #0087ff; text-decoration-color: #0087ff\">Dense</span>)                │ (<span style=\"color: #00d7ff; text-decoration-color: #00d7ff\">None</span>, <span style=\"color: #00af00; text-decoration-color: #00af00\">164</span>)            │        <span style=\"color: #00af00; text-decoration-color: #00af00\">32,964</span> │\n",
       "├─────────────────────────────────┼────────────────────────┼───────────────┤\n",
       "│ dense_30 (<span style=\"color: #0087ff; text-decoration-color: #0087ff\">Dense</span>)                │ (<span style=\"color: #00d7ff; text-decoration-color: #00d7ff\">None</span>, <span style=\"color: #00af00; text-decoration-color: #00af00\">124</span>)            │        <span style=\"color: #00af00; text-decoration-color: #00af00\">20,460</span> │\n",
       "├─────────────────────────────────┼────────────────────────┼───────────────┤\n",
       "│ dense_31 (<span style=\"color: #0087ff; text-decoration-color: #0087ff\">Dense</span>)                │ (<span style=\"color: #00d7ff; text-decoration-color: #00d7ff\">None</span>, <span style=\"color: #00af00; text-decoration-color: #00af00\">64</span>)             │         <span style=\"color: #00af00; text-decoration-color: #00af00\">8,000</span> │\n",
       "├─────────────────────────────────┼────────────────────────┼───────────────┤\n",
       "│ dense_32 (<span style=\"color: #0087ff; text-decoration-color: #0087ff\">Dense</span>)                │ (<span style=\"color: #00d7ff; text-decoration-color: #00d7ff\">None</span>, <span style=\"color: #00af00; text-decoration-color: #00af00\">32</span>)             │         <span style=\"color: #00af00; text-decoration-color: #00af00\">2,080</span> │\n",
       "├─────────────────────────────────┼────────────────────────┼───────────────┤\n",
       "│ dense_33 (<span style=\"color: #0087ff; text-decoration-color: #0087ff\">Dense</span>)                │ (<span style=\"color: #00d7ff; text-decoration-color: #00d7ff\">None</span>, <span style=\"color: #00af00; text-decoration-color: #00af00\">1</span>)              │            <span style=\"color: #00af00; text-decoration-color: #00af00\">33</span> │\n",
       "└─────────────────────────────────┴────────────────────────┴───────────────┘\n",
       "</pre>\n"
      ],
      "text/plain": [
       "┏━━━━━━━━━━━━━━━━━━━━━━━━━━━━━━━━━┳━━━━━━━━━━━━━━━━━━━━━━━━┳━━━━━━━━━━━━━━━┓\n",
       "┃\u001b[1m \u001b[0m\u001b[1mLayer (type)                   \u001b[0m\u001b[1m \u001b[0m┃\u001b[1m \u001b[0m\u001b[1mOutput Shape          \u001b[0m\u001b[1m \u001b[0m┃\u001b[1m \u001b[0m\u001b[1m      Param #\u001b[0m\u001b[1m \u001b[0m┃\n",
       "┡━━━━━━━━━━━━━━━━━━━━━━━━━━━━━━━━━╇━━━━━━━━━━━━━━━━━━━━━━━━╇━━━━━━━━━━━━━━━┩\n",
       "│ dense_28 (\u001b[38;5;33mDense\u001b[0m)                │ (\u001b[38;5;45mNone\u001b[0m, \u001b[38;5;34m200\u001b[0m)            │         \u001b[38;5;34m2,400\u001b[0m │\n",
       "├─────────────────────────────────┼────────────────────────┼───────────────┤\n",
       "│ dense_29 (\u001b[38;5;33mDense\u001b[0m)                │ (\u001b[38;5;45mNone\u001b[0m, \u001b[38;5;34m164\u001b[0m)            │        \u001b[38;5;34m32,964\u001b[0m │\n",
       "├─────────────────────────────────┼────────────────────────┼───────────────┤\n",
       "│ dense_30 (\u001b[38;5;33mDense\u001b[0m)                │ (\u001b[38;5;45mNone\u001b[0m, \u001b[38;5;34m124\u001b[0m)            │        \u001b[38;5;34m20,460\u001b[0m │\n",
       "├─────────────────────────────────┼────────────────────────┼───────────────┤\n",
       "│ dense_31 (\u001b[38;5;33mDense\u001b[0m)                │ (\u001b[38;5;45mNone\u001b[0m, \u001b[38;5;34m64\u001b[0m)             │         \u001b[38;5;34m8,000\u001b[0m │\n",
       "├─────────────────────────────────┼────────────────────────┼───────────────┤\n",
       "│ dense_32 (\u001b[38;5;33mDense\u001b[0m)                │ (\u001b[38;5;45mNone\u001b[0m, \u001b[38;5;34m32\u001b[0m)             │         \u001b[38;5;34m2,080\u001b[0m │\n",
       "├─────────────────────────────────┼────────────────────────┼───────────────┤\n",
       "│ dense_33 (\u001b[38;5;33mDense\u001b[0m)                │ (\u001b[38;5;45mNone\u001b[0m, \u001b[38;5;34m1\u001b[0m)              │            \u001b[38;5;34m33\u001b[0m │\n",
       "└─────────────────────────────────┴────────────────────────┴───────────────┘\n"
      ]
     },
     "metadata": {},
     "output_type": "display_data"
    },
    {
     "data": {
      "text/html": [
       "<pre style=\"white-space:pre;overflow-x:auto;line-height:normal;font-family:Menlo,'DejaVu Sans Mono',consolas,'Courier New',monospace\"><span style=\"font-weight: bold\"> Total params: </span><span style=\"color: #00af00; text-decoration-color: #00af00\">197,813</span> (772.71 KB)\n",
       "</pre>\n"
      ],
      "text/plain": [
       "\u001b[1m Total params: \u001b[0m\u001b[38;5;34m197,813\u001b[0m (772.71 KB)\n"
      ]
     },
     "metadata": {},
     "output_type": "display_data"
    },
    {
     "data": {
      "text/html": [
       "<pre style=\"white-space:pre;overflow-x:auto;line-height:normal;font-family:Menlo,'DejaVu Sans Mono',consolas,'Courier New',monospace\"><span style=\"font-weight: bold\"> Trainable params: </span><span style=\"color: #00af00; text-decoration-color: #00af00\">65,937</span> (257.57 KB)\n",
       "</pre>\n"
      ],
      "text/plain": [
       "\u001b[1m Trainable params: \u001b[0m\u001b[38;5;34m65,937\u001b[0m (257.57 KB)\n"
      ]
     },
     "metadata": {},
     "output_type": "display_data"
    },
    {
     "data": {
      "text/html": [
       "<pre style=\"white-space:pre;overflow-x:auto;line-height:normal;font-family:Menlo,'DejaVu Sans Mono',consolas,'Courier New',monospace\"><span style=\"font-weight: bold\"> Non-trainable params: </span><span style=\"color: #00af00; text-decoration-color: #00af00\">0</span> (0.00 B)\n",
       "</pre>\n"
      ],
      "text/plain": [
       "\u001b[1m Non-trainable params: \u001b[0m\u001b[38;5;34m0\u001b[0m (0.00 B)\n"
      ]
     },
     "metadata": {},
     "output_type": "display_data"
    },
    {
     "data": {
      "text/html": [
       "<pre style=\"white-space:pre;overflow-x:auto;line-height:normal;font-family:Menlo,'DejaVu Sans Mono',consolas,'Courier New',monospace\"><span style=\"font-weight: bold\"> Optimizer params: </span><span style=\"color: #00af00; text-decoration-color: #00af00\">131,876</span> (515.14 KB)\n",
       "</pre>\n"
      ],
      "text/plain": [
       "\u001b[1m Optimizer params: \u001b[0m\u001b[38;5;34m131,876\u001b[0m (515.14 KB)\n"
      ]
     },
     "metadata": {},
     "output_type": "display_data"
    }
   ],
   "source": [
    "insurance_model_2.summary()"
   ]
  },
  {
   "cell_type": "code",
   "execution_count": 68,
   "metadata": {},
   "outputs": [
    {
     "name": "stdout",
     "output_type": "stream",
     "text": [
      "Epoch 1/200\n"
     ]
    },
    {
     "name": "stderr",
     "output_type": "stream",
     "text": [
      "C:\\Users\\baxti\\AppData\\Roaming\\Python\\Python312\\site-packages\\keras\\src\\layers\\core\\dense.py:87: UserWarning: Do not pass an `input_shape`/`input_dim` argument to a layer. When using Sequential models, prefer using an `Input(shape)` object as the first layer in the model instead.\n",
      "  super().__init__(activity_regularizer=activity_regularizer, **kwargs)\n"
     ]
    },
    {
     "name": "stdout",
     "output_type": "stream",
     "text": [
      "27/27 - 3s - 113ms/step - loss: 13519.4570 - mae: 13516.7959 - val_loss: 12657.2803 - val_mae: 12654.7012\n",
      "Epoch 2/200\n",
      "27/27 - 1s - 20ms/step - loss: 13516.8633 - mae: 13514.3291 - val_loss: 12655.3389 - val_mae: 12652.8428\n",
      "Epoch 3/200\n",
      "27/27 - 0s - 6ms/step - loss: 13512.2256 - mae: 13509.7285 - val_loss: 12651.0420 - val_mae: 12648.5312\n",
      "Epoch 4/200\n",
      "27/27 - 0s - 5ms/step - loss: 13502.7734 - mae: 13500.2041 - val_loss: 12640.6299 - val_mae: 12637.9727\n",
      "Epoch 5/200\n",
      "27/27 - 0s - 5ms/step - loss: 13483.2090 - mae: 13480.4111 - val_loss: 12617.4502 - val_mae: 12614.4561\n",
      "Epoch 6/200\n",
      "27/27 - 0s - 5ms/step - loss: 13446.9990 - mae: 13443.7402 - val_loss: 12575.4209 - val_mae: 12571.8164\n",
      "Epoch 7/200\n",
      "27/27 - 0s - 6ms/step - loss: 13391.9629 - mae: 13387.9629 - val_loss: 12514.3467 - val_mae: 12509.8594\n",
      "Epoch 8/200\n",
      "27/27 - 0s - 5ms/step - loss: 13318.6885 - mae: 13313.6719 - val_loss: 12442.1348 - val_mae: 12436.4893\n",
      "Epoch 9/200\n",
      "27/27 - 0s - 6ms/step - loss: 13222.1250 - mae: 13215.8105 - val_loss: 12349.6445 - val_mae: 12342.5381\n",
      "Epoch 10/200\n",
      "27/27 - 0s - 6ms/step - loss: 13102.1738 - mae: 13094.2432 - val_loss: 12236.9512 - val_mae: 12228.0596\n",
      "Epoch 11/200\n",
      "27/27 - 0s - 6ms/step - loss: 12954.5098 - mae: 12944.6445 - val_loss: 12094.9766 - val_mae: 12083.9814\n",
      "Epoch 12/200\n",
      "27/27 - 0s - 8ms/step - loss: 12773.3799 - mae: 12761.2549 - val_loss: 11920.0703 - val_mae: 11906.6426\n",
      "Epoch 13/200\n",
      "27/27 - 0s - 5ms/step - loss: 12563.7637 - mae: 12549.0752 - val_loss: 11712.3828 - val_mae: 11696.2568\n",
      "Epoch 14/200\n",
      "27/27 - 0s - 5ms/step - loss: 12319.7148 - mae: 12302.2090 - val_loss: 11493.0010 - val_mae: 11473.9229\n",
      "Epoch 15/200\n",
      "27/27 - 0s - 10ms/step - loss: 12044.7676 - mae: 12024.2041 - val_loss: 11161.3174 - val_mae: 11139.0596\n",
      "Epoch 16/200\n",
      "27/27 - 0s - 13ms/step - loss: 11727.3438 - mae: 11703.4805 - val_loss: 10777.7041 - val_mae: 10752.0078\n",
      "Epoch 17/200\n",
      "27/27 - 0s - 6ms/step - loss: 11380.5283 - mae: 11353.0879 - val_loss: 10347.8389 - val_mae: 10318.4570\n",
      "Epoch 18/200\n",
      "27/27 - 0s - 5ms/step - loss: 10975.9131 - mae: 10944.7021 - val_loss: 10045.5957 - val_mae: 10012.3555\n",
      "Epoch 19/200\n",
      "27/27 - 0s - 5ms/step - loss: 10581.0312 - mae: 10545.8867 - val_loss: 9488.8779 - val_mae: 9451.6543\n",
      "Epoch 20/200\n",
      "27/27 - 0s - 5ms/step - loss: 10116.8564 - mae: 10077.6377 - val_loss: 8916.8936 - val_mae: 8875.4971\n",
      "Epoch 21/200\n",
      "27/27 - 0s - 5ms/step - loss: 9609.7598 - mae: 9566.3320 - val_loss: 8257.5049 - val_mae: 8211.8496\n",
      "Epoch 22/200\n",
      "27/27 - 0s - 5ms/step - loss: 9146.1250 - mae: 9098.4502 - val_loss: 7812.9966 - val_mae: 7763.0264\n",
      "Epoch 23/200\n",
      "27/27 - 0s - 4ms/step - loss: 8659.6240 - mae: 8607.6748 - val_loss: 7341.0571 - val_mae: 7286.8799\n",
      "Epoch 24/200\n",
      "27/27 - 0s - 5ms/step - loss: 8213.2852 - mae: 8157.2617 - val_loss: 6832.9893 - val_mae: 6774.8970\n",
      "Epoch 25/200\n",
      "27/27 - 0s - 5ms/step - loss: 7766.9355 - mae: 7707.0205 - val_loss: 6451.8101 - val_mae: 6389.8164\n",
      "Epoch 26/200\n",
      "27/27 - 0s - 5ms/step - loss: 7337.5854 - mae: 7273.7627 - val_loss: 5974.0425 - val_mae: 5908.1865\n",
      "Epoch 27/200\n",
      "27/27 - 0s - 5ms/step - loss: 6929.4287 - mae: 6861.7002 - val_loss: 6037.7173 - val_mae: 5967.9399\n",
      "Epoch 28/200\n",
      "27/27 - 0s - 6ms/step - loss: 6603.1846 - mae: 6531.8164 - val_loss: 5428.7153 - val_mae: 5355.5137\n",
      "Epoch 29/200\n",
      "27/27 - 0s - 5ms/step - loss: 6220.8960 - mae: 6146.1274 - val_loss: 5388.4277 - val_mae: 5311.9556\n",
      "Epoch 30/200\n",
      "27/27 - 0s - 5ms/step - loss: 6017.8193 - mae: 5940.1362 - val_loss: 4815.0200 - val_mae: 4735.8828\n",
      "Epoch 31/200\n",
      "27/27 - 0s - 5ms/step - loss: 5809.0107 - mae: 5728.5947 - val_loss: 4818.2485 - val_mae: 4736.3813\n",
      "Epoch 32/200\n",
      "27/27 - 0s - 5ms/step - loss: 5636.7480 - mae: 5553.8672 - val_loss: 4584.1816 - val_mae: 4500.0674\n",
      "Epoch 33/200\n",
      "27/27 - 0s - 5ms/step - loss: 5376.0825 - mae: 5290.8745 - val_loss: 4687.8027 - val_mae: 4601.3491\n",
      "Epoch 34/200\n",
      "27/27 - 0s - 5ms/step - loss: 5205.0215 - mae: 5117.6675 - val_loss: 4373.2222 - val_mae: 4284.8008\n",
      "Epoch 35/200\n",
      "27/27 - 0s - 4ms/step - loss: 5022.4238 - mae: 4933.2285 - val_loss: 4223.5093 - val_mae: 4133.3418\n",
      "Epoch 36/200\n",
      "27/27 - 0s - 5ms/step - loss: 4897.0786 - mae: 4806.1704 - val_loss: 4093.6726 - val_mae: 4001.8379\n",
      "Epoch 37/200\n",
      "27/27 - 0s - 5ms/step - loss: 4805.8159 - mae: 4713.2930 - val_loss: 4133.3027 - val_mae: 4039.9075\n",
      "Epoch 38/200\n",
      "27/27 - 0s - 7ms/step - loss: 4708.8750 - mae: 4614.9307 - val_loss: 3924.7654 - val_mae: 3829.8918\n",
      "Epoch 39/200\n",
      "27/27 - 0s - 5ms/step - loss: 4569.6499 - mae: 4474.2358 - val_loss: 4052.1292 - val_mae: 3955.9736\n",
      "Epoch 40/200\n",
      "27/27 - 0s - 5ms/step - loss: 4490.0972 - mae: 4393.5879 - val_loss: 4126.8213 - val_mae: 4029.6426\n",
      "Epoch 41/200\n",
      "27/27 - 0s - 6ms/step - loss: 4500.0176 - mae: 4402.4438 - val_loss: 3711.4370 - val_mae: 3613.1638\n",
      "Epoch 42/200\n",
      "27/27 - 0s - 5ms/step - loss: 4237.0703 - mae: 4138.3511 - val_loss: 3501.6631 - val_mae: 3402.1943\n",
      "Epoch 43/200\n",
      "27/27 - 0s - 5ms/step - loss: 4170.7964 - mae: 4070.9619 - val_loss: 3794.4082 - val_mae: 3693.9717\n",
      "Epoch 44/200\n",
      "27/27 - 0s - 9ms/step - loss: 4072.4385 - mae: 3971.7693 - val_loss: 3679.2634 - val_mae: 3578.1172\n",
      "Epoch 45/200\n",
      "27/27 - 0s - 5ms/step - loss: 4092.6653 - mae: 3991.3467 - val_loss: 3708.1770 - val_mae: 3606.3362\n",
      "Epoch 46/200\n",
      "27/27 - 0s - 5ms/step - loss: 4053.4890 - mae: 3951.5393 - val_loss: 3326.3711 - val_mae: 3224.1104\n",
      "Epoch 47/200\n",
      "27/27 - 0s - 5ms/step - loss: 4113.8433 - mae: 4011.3655 - val_loss: 3464.5562 - val_mae: 3361.6250\n",
      "Epoch 48/200\n",
      "27/27 - 0s - 9ms/step - loss: 4007.5710 - mae: 3904.5154 - val_loss: 3324.5330 - val_mae: 3221.0188\n",
      "Epoch 49/200\n",
      "27/27 - 0s - 5ms/step - loss: 3975.9287 - mae: 3872.3135 - val_loss: 3252.7261 - val_mae: 3148.8064\n",
      "Epoch 50/200\n",
      "27/27 - 0s - 5ms/step - loss: 3861.3855 - mae: 3757.3601 - val_loss: 3315.1692 - val_mae: 3210.7036\n",
      "Epoch 51/200\n",
      "27/27 - 0s - 9ms/step - loss: 3801.8613 - mae: 3697.2283 - val_loss: 3342.8101 - val_mae: 3237.8181\n",
      "Epoch 52/200\n",
      "27/27 - 0s - 5ms/step - loss: 3869.1489 - mae: 3764.0696 - val_loss: 3447.8765 - val_mae: 3342.4282\n",
      "Epoch 53/200\n",
      "27/27 - 0s - 7ms/step - loss: 3834.8545 - mae: 3729.3137 - val_loss: 3589.5713 - val_mae: 3483.7427\n",
      "Epoch 54/200\n",
      "27/27 - 0s - 7ms/step - loss: 3801.2217 - mae: 3695.3000 - val_loss: 3496.2524 - val_mae: 3390.0195\n",
      "Epoch 55/200\n",
      "27/27 - 0s - 5ms/step - loss: 3729.7175 - mae: 3623.4595 - val_loss: 3051.6523 - val_mae: 2945.1597\n",
      "Epoch 56/200\n",
      "27/27 - 0s - 5ms/step - loss: 3754.9424 - mae: 3648.4722 - val_loss: 2707.4678 - val_mae: 2600.7766\n",
      "Epoch 57/200\n",
      "27/27 - 0s - 5ms/step - loss: 3734.4253 - mae: 3627.7283 - val_loss: 2618.6968 - val_mae: 2511.8440\n",
      "Epoch 58/200\n",
      "27/27 - 0s - 5ms/step - loss: 3760.5566 - mae: 3653.7654 - val_loss: 2545.9551 - val_mae: 2439.0586\n",
      "Epoch 59/200\n",
      "27/27 - 0s - 5ms/step - loss: 3707.7332 - mae: 3600.9792 - val_loss: 2696.0864 - val_mae: 2589.2397\n",
      "Epoch 60/200\n",
      "27/27 - 0s - 5ms/step - loss: 3679.9509 - mae: 3573.1951 - val_loss: 2596.0532 - val_mae: 2489.1230\n",
      "Epoch 61/200\n",
      "27/27 - 0s - 5ms/step - loss: 3689.5908 - mae: 3582.7212 - val_loss: 2639.2378 - val_mae: 2532.1980\n",
      "Epoch 62/200\n",
      "27/27 - 0s - 5ms/step - loss: 3716.1160 - mae: 3609.1914 - val_loss: 2584.2683 - val_mae: 2477.2102\n",
      "Epoch 63/200\n",
      "27/27 - 0s - 5ms/step - loss: 3611.4573 - mae: 3504.5889 - val_loss: 2687.3274 - val_mae: 2580.4336\n",
      "Epoch 64/200\n",
      "27/27 - 0s - 5ms/step - loss: 3670.0190 - mae: 3563.1885 - val_loss: 2525.0730 - val_mae: 2418.0950\n",
      "Epoch 65/200\n",
      "27/27 - 0s - 5ms/step - loss: 3690.0706 - mae: 3583.2014 - val_loss: 2627.6331 - val_mae: 2520.6338\n",
      "Epoch 66/200\n",
      "27/27 - 0s - 6ms/step - loss: 3753.6562 - mae: 3646.7488 - val_loss: 2897.3660 - val_mae: 2790.4033\n",
      "Epoch 67/200\n",
      "27/27 - 0s - 5ms/step - loss: 3723.9094 - mae: 3617.0437 - val_loss: 2858.5793 - val_mae: 2751.6204\n",
      "Epoch 68/200\n",
      "27/27 - 0s - 5ms/step - loss: 3843.2502 - mae: 3736.4150 - val_loss: 2751.5935 - val_mae: 2644.7026\n",
      "Epoch 69/200\n",
      "27/27 - 0s - 5ms/step - loss: 3730.9990 - mae: 3624.3137 - val_loss: 2589.6506 - val_mae: 2482.9922\n",
      "Epoch 70/200\n",
      "27/27 - 0s - 5ms/step - loss: 3613.0149 - mae: 3506.5664 - val_loss: 2524.4172 - val_mae: 2417.9360\n",
      "Epoch 71/200\n",
      "27/27 - 0s - 5ms/step - loss: 3622.0928 - mae: 3515.7976 - val_loss: 2499.5088 - val_mae: 2393.2065\n",
      "Epoch 72/200\n",
      "27/27 - 0s - 5ms/step - loss: 3746.7856 - mae: 3640.6638 - val_loss: 2679.0688 - val_mae: 2572.9475\n",
      "Epoch 73/200\n",
      "27/27 - 0s - 5ms/step - loss: 3641.8850 - mae: 3535.9019 - val_loss: 2875.9539 - val_mae: 2769.9050\n",
      "Epoch 74/200\n",
      "27/27 - 0s - 5ms/step - loss: 3723.0735 - mae: 3617.1069 - val_loss: 2672.6309 - val_mae: 2566.5876\n",
      "Epoch 75/200\n",
      "27/27 - 0s - 5ms/step - loss: 3668.2383 - mae: 3562.3655 - val_loss: 2562.4307 - val_mae: 2456.5154\n",
      "Epoch 76/200\n",
      "27/27 - 0s - 5ms/step - loss: 3586.6655 - mae: 3480.9075 - val_loss: 2641.3130 - val_mae: 2535.4548\n",
      "Epoch 77/200\n",
      "27/27 - 0s - 5ms/step - loss: 3694.2139 - mae: 3588.4976 - val_loss: 2520.3120 - val_mae: 2414.5183\n",
      "Epoch 78/200\n",
      "27/27 - 0s - 5ms/step - loss: 3656.0327 - mae: 3550.3733 - val_loss: 2463.5034 - val_mae: 2357.8198\n",
      "Epoch 79/200\n",
      "27/27 - 0s - 7ms/step - loss: 3583.1487 - mae: 3477.6721 - val_loss: 2503.0818 - val_mae: 2397.6343\n",
      "Epoch 80/200\n",
      "27/27 - 0s - 5ms/step - loss: 3571.2529 - mae: 3465.9741 - val_loss: 2622.1411 - val_mae: 2516.8083\n",
      "Epoch 81/200\n",
      "27/27 - 0s - 5ms/step - loss: 3693.1008 - mae: 3587.8494 - val_loss: 2683.9333 - val_mae: 2578.5774\n",
      "Epoch 82/200\n",
      "27/27 - 0s - 5ms/step - loss: 3749.6528 - mae: 3644.5198 - val_loss: 2520.3872 - val_mae: 2415.3887\n",
      "Epoch 83/200\n",
      "27/27 - 0s - 5ms/step - loss: 3722.8293 - mae: 3618.0203 - val_loss: 2776.9497 - val_mae: 2672.0894\n",
      "Epoch 84/200\n",
      "27/27 - 0s - 5ms/step - loss: 3638.6057 - mae: 3534.0132 - val_loss: 2551.9302 - val_mae: 2447.3923\n",
      "Epoch 85/200\n",
      "27/27 - 0s - 5ms/step - loss: 3699.8015 - mae: 3595.5073 - val_loss: 2448.5242 - val_mae: 2344.2915\n",
      "Epoch 86/200\n",
      "27/27 - 0s - 5ms/step - loss: 3642.5706 - mae: 3538.4807 - val_loss: 2479.0823 - val_mae: 2374.9712\n",
      "Epoch 87/200\n",
      "27/27 - 0s - 9ms/step - loss: 3597.8857 - mae: 3494.0720 - val_loss: 2554.9512 - val_mae: 2451.2004\n",
      "Epoch 88/200\n",
      "27/27 - 0s - 5ms/step - loss: 3618.5552 - mae: 3514.8899 - val_loss: 2639.4968 - val_mae: 2535.7483\n",
      "Epoch 89/200\n",
      "27/27 - 0s - 5ms/step - loss: 3623.8123 - mae: 3520.3186 - val_loss: 2510.2810 - val_mae: 2406.8977\n",
      "Epoch 90/200\n",
      "27/27 - 0s - 5ms/step - loss: 3616.1284 - mae: 3512.8792 - val_loss: 2472.3530 - val_mae: 2369.0388\n",
      "Epoch 91/200\n",
      "27/27 - 0s - 8ms/step - loss: 3624.6519 - mae: 3521.4614 - val_loss: 2491.8152 - val_mae: 2388.6052\n",
      "Epoch 92/200\n",
      "27/27 - 0s - 5ms/step - loss: 3588.0601 - mae: 3485.0237 - val_loss: 2667.3450 - val_mae: 2564.3464\n",
      "Epoch 93/200\n",
      "27/27 - 0s - 4ms/step - loss: 3679.2822 - mae: 3576.5842 - val_loss: 2668.3555 - val_mae: 2565.6943\n",
      "Epoch 94/200\n",
      "27/27 - 0s - 7ms/step - loss: 3618.1030 - mae: 3515.6208 - val_loss: 2747.7266 - val_mae: 2645.1741\n",
      "Epoch 95/200\n",
      "27/27 - 0s - 5ms/step - loss: 3685.5432 - mae: 3583.1721 - val_loss: 2581.3230 - val_mae: 2478.9419\n"
     ]
    }
   ],
   "source": [
    "tf.random.set_seed(42)\n",
    "\n",
    "# Improved model architecture\n",
    "insurance_model_3 = tf.keras.Sequential([\n",
    "    tf.keras.layers.Dense(256, activation=\"relu\", kernel_regularizer=tf.keras.regularizers.l2(0.01), input_shape=[X_train.shape[1]]),\n",
    "    tf.keras.layers.Dropout(0.5),\n",
    "    tf.keras.layers.BatchNormalization(),\n",
    "    tf.keras.layers.Dense(128, activation=\"relu\", kernel_regularizer=tf.keras.regularizers.l2(0.01)),\n",
    "    tf.keras.layers.Dropout(0.5),\n",
    "    tf.keras.layers.BatchNormalization(),\n",
    "    tf.keras.layers.Dense(64, activation=\"relu\", kernel_regularizer=tf.keras.regularizers.l2(0.01)),\n",
    "    tf.keras.layers.Dense(1)\n",
    "])\n",
    "\n",
    "insurance_model_3.compile(loss=tf.keras.losses.mae,\n",
    "                          optimizer=tf.keras.optimizers.Adam(learning_rate=0.001),\n",
    "                          metrics=[\"mae\"]\n",
    "                          )\n",
    "\n",
    "# Adding early stopping\n",
    "early_stopping = tf.keras.callbacks.EarlyStopping(monitor='val_loss', patience=10)\n",
    "\n",
    "# Training the model\n",
    "history = insurance_model_3.fit(X_train, y_train, epochs=200, verbose=2, validation_split=0.2, callbacks=[early_stopping])\n"
   ]
  },
  {
   "cell_type": "code",
   "execution_count": 69,
   "metadata": {},
   "outputs": [
    {
     "data": {
      "text/plain": [
       "Text(0, 0.5, 'loss')"
      ]
     },
     "execution_count": 69,
     "metadata": {},
     "output_type": "execute_result"
    },
    {
     "data": {
      "image/png": "[encoded data removed]",
      "text/plain": [
       "<Figure size 640x480 with 1 Axes>"
      ]
     },
     "metadata": {},
     "output_type": "display_data"
    }
   ],
   "source": [
    "# Plot the model history , learning curve\n",
    "pd.DataFrame(history.history).plot()\n",
    "plt.xlabel(\"epochs\")\n",
    "plt.ylabel(\"loss\")"
   ]
  },
  {
   "cell_type": "code",
   "execution_count": 78,
   "metadata": {},
   "outputs": [
    {
     "name": "stdout",
     "output_type": "stream",
     "text": [
      "\u001b[1m9/9\u001b[0m \u001b[32m━━━━━━━━━━━━━━━━━━━━\u001b[0m\u001b[37m\u001b[0m \u001b[1m0s\u001b[0m 2ms/step \n",
      "\u001b[1m9/9\u001b[0m \u001b[32m━━━━━━━━━━━━━━━━━━━━\u001b[0m\u001b[37m\u001b[0m \u001b[1m0s\u001b[0m 1ms/step \n",
      "\u001b[1m9/9\u001b[0m \u001b[32m━━━━━━━━━━━━━━━━━━━━\u001b[0m\u001b[37m\u001b[0m \u001b[1m0s\u001b[0m 2ms/step \n",
      "Model 1 Score: -0.2154\n",
      "Model 2 Score: 0.8839\n",
      "Model 3 Score: 0.8286\n"
     ]
    },
    {
     "data": {
      "text/plain": [
       "[None, None, None]"
      ]
     },
     "execution_count": 78,
     "metadata": {},
     "output_type": "execute_result"
    }
   ],
   "source": [
    "y_pred_1 = insurance_model_1.predict(X_test)\n",
    "y_pred_2 = insurance_model_2.predict(X_test)\n",
    "y_pred_3 = insurance_model_3.predict(X_test)\n",
    "\n",
    "scores = [r2_score(y_test, y_pred_1), r2_score(y_test, y_pred_2), r2_score(y_test, y_pred_3)]\n",
    "\n",
    "\n",
    "\n",
    "list(map(lambda index_score: print(f\"Model {index_score[0] + 1} Score: {index_score[1]:.4f}\"), enumerate(scores)))"
   ]
  }
 ],
 "metadata": {
  "kernelspec": {
   "display_name": "Python 3",
   "language": "python",
   "name": "python3"
  },
  "language_info": {
   "codemirror_mode": {
    "name": "ipython",
    "version": 3
   },
   "file_extension": ".py",
   "mimetype": "text/x-python",
   "name": "python",
   "nbconvert_exporter": "python",
   "pygments_lexer": "ipython3",
   "version": "3.12.4"
  }
 },
 "nbformat": 4,
 "nbformat_minor": 2
}
