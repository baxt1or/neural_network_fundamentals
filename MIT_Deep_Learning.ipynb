{
 "cells": [
  {
   "cell_type": "markdown",
   "metadata": {},
   "source": [
    "## Implementation of the basic Perceptron or Neuron"
   ]
  },
  {
   "cell_type": "code",
   "execution_count": 15,
   "metadata": {},
   "outputs": [
    {
     "name": "stdout",
     "output_type": "stream",
     "text": [
      "Output: 0.9525741268224334\n",
      "Loss: 0.22839300363692283\n"
     ]
    }
   ],
   "source": [
    "import numpy as np\n",
    "\n",
    "# Implementation a single neuron or Perceptron\n",
    "class Perceptron:\n",
    "    # Initialazing Perceptron constructor\n",
    "    def  __init__(self, weights, bias) -> None:\n",
    "        self.weights = weights\n",
    "        self.bias = bias\n",
    "    \n",
    "    # Building Sigmoid Helper Function\n",
    "    def sigmoid(self, x):\n",
    "        \"\"\" It takes only one parametr as input \"\"\"\n",
    "        return 1 / (1 + np.exp(-x))\n",
    "    \n",
    "    # Building perception with activation\n",
    "    def y_hat(self, inputs):\n",
    "        \"\"\" It puts input variable into two category either 0 or 1 \"\"\"\n",
    "        # Feed propagate the inputs\n",
    "        z = self.bias + np.dot(inputs.T, self.weights) # Getting dot product of two variable, transposing X\n",
    "        \n",
    "        # Feed through a non-linear activation\n",
    "        output = self.sigmoid(x=z)\n",
    "        \n",
    "        # Returning the output\n",
    "        return output\n",
    "    \n",
    "    # Building Binary Cross-Entropy\n",
    "    def bce(self, y, predicted):\n",
    "        n = len(y)\n",
    "        predicted = np.clip(predicted, 1e-7, 1 - 1e-7)  # To avoid log(0)\n",
    "        loss = -1/n * np.sum(y * np.log(predicted) + (1 - y) * np.log(1 - predicted))\n",
    "        return loss\n",
    "    \n",
    "\n",
    "# Initialzing the weight , bias and input values\n",
    "X = np.array([4, 5])\n",
    "W = np.array([3, -2])\n",
    "bias = 1\n",
    "\n",
    "# Initialazing perceptron class\n",
    "perceptron = Perceptron(weights=W, bias=bias)\n",
    "\n",
    "# Calling y_hat function\n",
    "print(f\"Output: {perceptron.y_hat(inputs=X)}\")\n",
    "\n",
    "# Calling the loss function\n",
    "\n",
    "y = np.array([1, 0, 1])\n",
    "pred = np.array([.9,.2, .7])\n",
    "\n",
    "loss = perceptron.bce(y,pred)\n",
    "print(f\"Loss: {loss}\")"
   ]
  },
  {
   "cell_type": "markdown",
   "metadata": {},
   "source": [
    "### Building Multi-Layer Neuron"
   ]
  },
  {
   "cell_type": "code",
   "execution_count": null,
   "metadata": {},
   "outputs": [],
   "source": [
    "import tensorflow as tf\n",
    "\n",
    "# Lets implement Multi Layer Neuron with help of the TensorFlow\n",
    "class MultiLayerNeuron(tf.keras.layers.Layer):\n",
    "\n",
    "    # Building the constructor of the class or object\n",
    "    def __init__(self, input_dimention, output_dimention):\n",
    "        super(MultiLayerNeuron, self).__init__()\n",
    "\n",
    "        # Initializing the weights and biases\n",
    "        self.W = self.add_weight([input_dimention, output_dimention])\n",
    "        self.b = self.add_weight([1, output_dimention])\n",
    "    \n",
    "    # Building call function to get the results\n",
    "    def call(self, inputs): # inputs here comes as X\n",
    "\n",
    "        # Feed propagate the inputs\n",
    "        z = tf.matmul(inputs, self.W) + self.b\n",
    "\n",
    "        # Feed through the a non-linear activation\n",
    "        output = tf.math.sigmoid(z)\n",
    "        \n",
    "        # Returning the output\n",
    "        return output\n",
    "    \n",
    "    # Building loss function (Binary Cross-Entropy)\n",
    "    def loss_function(self,y,predicted):\n",
    "\n",
    "        # Getting the loss result\n",
    "        loss = tf.reduce_mean(tf.nn.sigmoid_cross_entropy_with_logits(labels=y, logits=predicted))\n",
    "        \n",
    "        # Returning the loss output\n",
    "        return loss\n",
    "\n",
    "\n",
    "# Initialzing the weight , bias and input values\n",
    "X = np.array([-1, 2])\n",
    "W = np.array([3, -2])\n",
    "bias = 1\n",
    "\n",
    "# Initialazing perceptron class\n",
    "perceptron = MultiLayerNeuron(X, W)\n",
    "y_true = tf.constant([[1.0], [0.0], [1.0]])  # True labels\n",
    "logits = tf.constant([[2.0], [-1.0], [0.5]])\n",
    "loss = perceptron.loss_function(y_true,logits)\n",
    "print(loss)"
   ]
  },
  {
   "cell_type": "code",
   "execution_count": 31,
   "metadata": {},
   "outputs": [
    {
     "name": "stdout",
     "output_type": "stream",
     "text": [
      "w = [[0.]\n",
      " [0.]]\n",
      "b = 0\n"
     ]
    }
   ],
   "source": [
    "def sigmoid(z):\n",
    "    return 1 / (1+np.exp(-z))\n",
    "    \n",
    "\n",
    "def initialize_with_zeros(dim):\n",
    "    w = np.zeros((dim, 1))\n",
    "    b = 0\n",
    "\n",
    "    return w, b\n",
    "\n",
    "dim = 2\n",
    "w, b = initialize_with_zeros(dim)\n",
    "print (\"w = \" + str(w))\n",
    "print (\"b = \" + str(b))"
   ]
  }
 ],
 "metadata": {
  "kernelspec": {
   "display_name": "Python 3",
   "language": "python",
   "name": "python3"
  },
  "language_info": {
   "codemirror_mode": {
    "name": "ipython",
    "version": 3
   },
   "file_extension": ".py",
   "mimetype": "text/x-python",
   "name": "python",
   "nbconvert_exporter": "python",
   "pygments_lexer": "ipython3",
   "version": "3.12.4"
  }
 },
 "nbformat": 4,
 "nbformat_minor": 2
}
