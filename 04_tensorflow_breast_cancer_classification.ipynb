{
 "cells": [
  {
   "cell_type": "markdown",
   "metadata": {},
   "source": [
    "# Binary Classification to predict breast cancer deciase"
   ]
  },
  {
   "cell_type": "code",
   "execution_count": 42,
   "metadata": {},
   "outputs": [
    {
     "data": {
      "text/plain": [
       "array([0, 1])"
      ]
     },
     "execution_count": 42,
     "metadata": {},
     "output_type": "execute_result"
    }
   ],
   "source": [
    "from sklearn.datasets import load_breast_cancer\n",
    "import pandas as pd\n",
    "import numpy as np\n",
    "import matplotlib.pyplot as plt\n",
    "\n",
    "breast_data = load_breast_cancer()\n",
    "\n",
    "df = pd.DataFrame(data=breast_data.data, columns=breast_data.feature_names)\n",
    "\n",
    "df[\"class\"] = breast_data.target\n",
    "\n",
    "df[\"class\"].unique()"
   ]
  },
  {
   "cell_type": "code",
   "execution_count": 3,
   "metadata": {},
   "outputs": [
    {
     "data": {
      "text/plain": [
       "(569, 31)"
      ]
     },
     "execution_count": 3,
     "metadata": {},
     "output_type": "execute_result"
    }
   ],
   "source": [
    "# Shape of the dataset\n",
    "df.shape"
   ]
  },
  {
   "cell_type": "code",
   "execution_count": 4,
   "metadata": {},
   "outputs": [
    {
     "name": "stdout",
     "output_type": "stream",
     "text": [
      "Training set: (512, 30)\n",
      "Testing set: (57, 30)\n"
     ]
    }
   ],
   "source": [
    "from sklearn.model_selection import train_test_split\n",
    "from sklearn.preprocessing import StandardScaler\n",
    "\n",
    "# Splitting the data into target and dataset\n",
    "X = df.drop(\"class\", axis=1)\n",
    "y = df[\"class\"]\n",
    "\n",
    "# Building train and test datasets\n",
    "X_train, X_test, y_train, y_test = train_test_split(X, y, test_size=0.1, random_state=42)\n",
    "\n",
    "# Initializing scaler\n",
    "scaler = StandardScaler()\n",
    "\n",
    "# Scalling the data (normalization)\n",
    "scal_X_train = scaler.fit_transform(X_train)\n",
    "scal_X_test = scaler.fit_transform(X_test)\n",
    "\n",
    "# Checking for shapes\n",
    "print(f\"Training set: {scal_X_train.shape}\")\n",
    "print(f\"Testing set: {scal_X_test.shape}\")"
   ]
  },
  {
   "cell_type": "code",
   "execution_count": 5,
   "metadata": {},
   "outputs": [
    {
     "name": "stdout",
     "output_type": "stream",
     "text": [
      "Epoch 1/20\n",
      "13/13 - 2s - 165ms/step - accuracy: 0.5648 - loss: 7.6934 - val_accuracy: 0.6214 - val_loss: 1.4524\n",
      "Epoch 2/20\n",
      "13/13 - 0s - 7ms/step - accuracy: 0.8264 - loss: 0.9195 - val_accuracy: 0.8738 - val_loss: 0.6776\n",
      "Epoch 3/20\n",
      "13/13 - 0s - 8ms/step - accuracy: 0.9144 - loss: 0.3082 - val_accuracy: 0.8932 - val_loss: 0.3700\n",
      "Epoch 4/20\n",
      "13/13 - 0s - 7ms/step - accuracy: 0.9120 - loss: 0.3042 - val_accuracy: 0.7476 - val_loss: 0.7798\n",
      "Epoch 5/20\n",
      "13/13 - 0s - 7ms/step - accuracy: 0.9095 - loss: 0.3374 - val_accuracy: 0.7864 - val_loss: 0.5181\n",
      "Epoch 6/20\n",
      "13/13 - 0s - 6ms/step - accuracy: 0.9144 - loss: 0.2867 - val_accuracy: 0.8058 - val_loss: 0.4949\n",
      "Epoch 7/20\n",
      "13/13 - 0s - 6ms/step - accuracy: 0.9120 - loss: 0.2672 - val_accuracy: 0.8155 - val_loss: 0.3981\n",
      "Epoch 8/20\n",
      "13/13 - 0s - 6ms/step - accuracy: 0.9193 - loss: 0.2412 - val_accuracy: 0.8252 - val_loss: 0.3813\n",
      "Epoch 9/20\n",
      "13/13 - 0s - 6ms/step - accuracy: 0.9193 - loss: 0.2349 - val_accuracy: 0.8544 - val_loss: 0.3528\n",
      "Epoch 10/20\n",
      "13/13 - 0s - 6ms/step - accuracy: 0.9144 - loss: 0.2369 - val_accuracy: 0.8932 - val_loss: 0.3107\n",
      "Epoch 11/20\n",
      "13/13 - 0s - 6ms/step - accuracy: 0.9291 - loss: 0.2261 - val_accuracy: 0.8447 - val_loss: 0.3446\n",
      "Epoch 12/20\n",
      "13/13 - 0s - 6ms/step - accuracy: 0.9169 - loss: 0.2200 - val_accuracy: 0.8835 - val_loss: 0.3073\n",
      "Epoch 13/20\n",
      "13/13 - 0s - 8ms/step - accuracy: 0.9169 - loss: 0.2220 - val_accuracy: 0.8932 - val_loss: 0.2999\n",
      "Epoch 14/20\n",
      "13/13 - 0s - 7ms/step - accuracy: 0.9193 - loss: 0.2144 - val_accuracy: 0.9029 - val_loss: 0.2990\n",
      "Epoch 15/20\n",
      "13/13 - 0s - 8ms/step - accuracy: 0.9193 - loss: 0.2186 - val_accuracy: 0.9029 - val_loss: 0.2860\n",
      "Epoch 16/20\n",
      "13/13 - 0s - 12ms/step - accuracy: 0.9193 - loss: 0.2174 - val_accuracy: 0.9029 - val_loss: 0.2850\n",
      "Epoch 17/20\n",
      "13/13 - 0s - 7ms/step - accuracy: 0.9218 - loss: 0.2167 - val_accuracy: 0.9029 - val_loss: 0.2819\n",
      "Epoch 18/20\n",
      "13/13 - 0s - 7ms/step - accuracy: 0.9193 - loss: 0.2181 - val_accuracy: 0.9029 - val_loss: 0.2770\n",
      "Epoch 19/20\n",
      "13/13 - 0s - 7ms/step - accuracy: 0.9218 - loss: 0.2163 - val_accuracy: 0.9029 - val_loss: 0.2781\n",
      "Epoch 20/20\n",
      "13/13 - 0s - 6ms/step - accuracy: 0.9242 - loss: 0.2156 - val_accuracy: 0.9029 - val_loss: 0.2753\n"
     ]
    }
   ],
   "source": [
    "import tensorflow as tf\n",
    "from tensorflow.keras.layers import Dense\n",
    "\n",
    "# Set up random seed\n",
    "tf.random.set_seed(42)\n",
    "\n",
    "# 1. Create a model \n",
    "nn_model = tf.keras.Sequential()\n",
    "\n",
    "# The Input Layer:\n",
    "nn_model.add(Dense(64, activation=\"relu\"),)\n",
    "\n",
    "# The Hidden layers:\n",
    "nn_model.add(Dense(128, activation=\"relu\"))\n",
    "nn_model.add(Dense(128, activation=\"relu\"))\n",
    "nn_model.add(Dense(128, activation=\"relu\"))\n",
    "\n",
    "# The Output Layer:\n",
    "nn_model.add(Dense(1,activation='sigmoid'))\n",
    "\n",
    "\n",
    "# 2. Compile the model\n",
    "nn_model.compile(\n",
    "    loss=tf.keras.losses.BinaryCrossentropy(from_logits=False),\n",
    "    optimizer=tf.keras.optimizers.Adam(learning_rate=0.001),\n",
    "    metrics=['accuracy']\n",
    ")\n",
    "\n",
    "# Fit the model to learn \n",
    "history = nn_model.fit(X_train, y_train, epochs=20, verbose=2, validation_split=0.2)\n"
   ]
  },
  {
   "cell_type": "code",
   "execution_count": 10,
   "metadata": {},
   "outputs": [
    {
     "data": {
      "text/html": [
       "<pre style=\"white-space:pre;overflow-x:auto;line-height:normal;font-family:Menlo,'DejaVu Sans Mono',consolas,'Courier New',monospace\"><span style=\"font-weight: bold\">Model: \"sequential\"</span>\n",
       "</pre>\n"
      ],
      "text/plain": [
       "\u001b[1mModel: \"sequential\"\u001b[0m\n"
      ]
     },
     "metadata": {},
     "output_type": "display_data"
    },
    {
     "data": {
      "text/html": [
       "<pre style=\"white-space:pre;overflow-x:auto;line-height:normal;font-family:Menlo,'DejaVu Sans Mono',consolas,'Courier New',monospace\">┏━━━━━━━━━━━━━━━━━━━━━━━━━━━━━━━━━┳━━━━━━━━━━━━━━━━━━━━━━━━┳━━━━━━━━━━━━━━━┓\n",
       "┃<span style=\"font-weight: bold\"> Layer (type)                    </span>┃<span style=\"font-weight: bold\"> Output Shape           </span>┃<span style=\"font-weight: bold\">       Param # </span>┃\n",
       "┡━━━━━━━━━━━━━━━━━━━━━━━━━━━━━━━━━╇━━━━━━━━━━━━━━━━━━━━━━━━╇━━━━━━━━━━━━━━━┩\n",
       "│ dense (<span style=\"color: #0087ff; text-decoration-color: #0087ff\">Dense</span>)                   │ (<span style=\"color: #00d7ff; text-decoration-color: #00d7ff\">None</span>, <span style=\"color: #00af00; text-decoration-color: #00af00\">64</span>)             │         <span style=\"color: #00af00; text-decoration-color: #00af00\">1,984</span> │\n",
       "├─────────────────────────────────┼────────────────────────┼───────────────┤\n",
       "│ dense_1 (<span style=\"color: #0087ff; text-decoration-color: #0087ff\">Dense</span>)                 │ (<span style=\"color: #00d7ff; text-decoration-color: #00d7ff\">None</span>, <span style=\"color: #00af00; text-decoration-color: #00af00\">128</span>)            │         <span style=\"color: #00af00; text-decoration-color: #00af00\">8,320</span> │\n",
       "├─────────────────────────────────┼────────────────────────┼───────────────┤\n",
       "│ dense_2 (<span style=\"color: #0087ff; text-decoration-color: #0087ff\">Dense</span>)                 │ (<span style=\"color: #00d7ff; text-decoration-color: #00d7ff\">None</span>, <span style=\"color: #00af00; text-decoration-color: #00af00\">128</span>)            │        <span style=\"color: #00af00; text-decoration-color: #00af00\">16,512</span> │\n",
       "├─────────────────────────────────┼────────────────────────┼───────────────┤\n",
       "│ dense_3 (<span style=\"color: #0087ff; text-decoration-color: #0087ff\">Dense</span>)                 │ (<span style=\"color: #00d7ff; text-decoration-color: #00d7ff\">None</span>, <span style=\"color: #00af00; text-decoration-color: #00af00\">128</span>)            │        <span style=\"color: #00af00; text-decoration-color: #00af00\">16,512</span> │\n",
       "├─────────────────────────────────┼────────────────────────┼───────────────┤\n",
       "│ dense_4 (<span style=\"color: #0087ff; text-decoration-color: #0087ff\">Dense</span>)                 │ (<span style=\"color: #00d7ff; text-decoration-color: #00d7ff\">None</span>, <span style=\"color: #00af00; text-decoration-color: #00af00\">1</span>)              │           <span style=\"color: #00af00; text-decoration-color: #00af00\">129</span> │\n",
       "└─────────────────────────────────┴────────────────────────┴───────────────┘\n",
       "</pre>\n"
      ],
      "text/plain": [
       "┏━━━━━━━━━━━━━━━━━━━━━━━━━━━━━━━━━┳━━━━━━━━━━━━━━━━━━━━━━━━┳━━━━━━━━━━━━━━━┓\n",
       "┃\u001b[1m \u001b[0m\u001b[1mLayer (type)                   \u001b[0m\u001b[1m \u001b[0m┃\u001b[1m \u001b[0m\u001b[1mOutput Shape          \u001b[0m\u001b[1m \u001b[0m┃\u001b[1m \u001b[0m\u001b[1m      Param #\u001b[0m\u001b[1m \u001b[0m┃\n",
       "┡━━━━━━━━━━━━━━━━━━━━━━━━━━━━━━━━━╇━━━━━━━━━━━━━━━━━━━━━━━━╇━━━━━━━━━━━━━━━┩\n",
       "│ dense (\u001b[38;5;33mDense\u001b[0m)                   │ (\u001b[38;5;45mNone\u001b[0m, \u001b[38;5;34m64\u001b[0m)             │         \u001b[38;5;34m1,984\u001b[0m │\n",
       "├─────────────────────────────────┼────────────────────────┼───────────────┤\n",
       "│ dense_1 (\u001b[38;5;33mDense\u001b[0m)                 │ (\u001b[38;5;45mNone\u001b[0m, \u001b[38;5;34m128\u001b[0m)            │         \u001b[38;5;34m8,320\u001b[0m │\n",
       "├─────────────────────────────────┼────────────────────────┼───────────────┤\n",
       "│ dense_2 (\u001b[38;5;33mDense\u001b[0m)                 │ (\u001b[38;5;45mNone\u001b[0m, \u001b[38;5;34m128\u001b[0m)            │        \u001b[38;5;34m16,512\u001b[0m │\n",
       "├─────────────────────────────────┼────────────────────────┼───────────────┤\n",
       "│ dense_3 (\u001b[38;5;33mDense\u001b[0m)                 │ (\u001b[38;5;45mNone\u001b[0m, \u001b[38;5;34m128\u001b[0m)            │        \u001b[38;5;34m16,512\u001b[0m │\n",
       "├─────────────────────────────────┼────────────────────────┼───────────────┤\n",
       "│ dense_4 (\u001b[38;5;33mDense\u001b[0m)                 │ (\u001b[38;5;45mNone\u001b[0m, \u001b[38;5;34m1\u001b[0m)              │           \u001b[38;5;34m129\u001b[0m │\n",
       "└─────────────────────────────────┴────────────────────────┴───────────────┘\n"
      ]
     },
     "metadata": {},
     "output_type": "display_data"
    },
    {
     "data": {
      "text/html": [
       "<pre style=\"white-space:pre;overflow-x:auto;line-height:normal;font-family:Menlo,'DejaVu Sans Mono',consolas,'Courier New',monospace\"><span style=\"font-weight: bold\"> Total params: </span><span style=\"color: #00af00; text-decoration-color: #00af00\">130,373</span> (509.27 KB)\n",
       "</pre>\n"
      ],
      "text/plain": [
       "\u001b[1m Total params: \u001b[0m\u001b[38;5;34m130,373\u001b[0m (509.27 KB)\n"
      ]
     },
     "metadata": {},
     "output_type": "display_data"
    },
    {
     "data": {
      "text/html": [
       "<pre style=\"white-space:pre;overflow-x:auto;line-height:normal;font-family:Menlo,'DejaVu Sans Mono',consolas,'Courier New',monospace\"><span style=\"font-weight: bold\"> Trainable params: </span><span style=\"color: #00af00; text-decoration-color: #00af00\">43,457</span> (169.75 KB)\n",
       "</pre>\n"
      ],
      "text/plain": [
       "\u001b[1m Trainable params: \u001b[0m\u001b[38;5;34m43,457\u001b[0m (169.75 KB)\n"
      ]
     },
     "metadata": {},
     "output_type": "display_data"
    },
    {
     "data": {
      "text/html": [
       "<pre style=\"white-space:pre;overflow-x:auto;line-height:normal;font-family:Menlo,'DejaVu Sans Mono',consolas,'Courier New',monospace\"><span style=\"font-weight: bold\"> Non-trainable params: </span><span style=\"color: #00af00; text-decoration-color: #00af00\">0</span> (0.00 B)\n",
       "</pre>\n"
      ],
      "text/plain": [
       "\u001b[1m Non-trainable params: \u001b[0m\u001b[38;5;34m0\u001b[0m (0.00 B)\n"
      ]
     },
     "metadata": {},
     "output_type": "display_data"
    },
    {
     "data": {
      "text/html": [
       "<pre style=\"white-space:pre;overflow-x:auto;line-height:normal;font-family:Menlo,'DejaVu Sans Mono',consolas,'Courier New',monospace\"><span style=\"font-weight: bold\"> Optimizer params: </span><span style=\"color: #00af00; text-decoration-color: #00af00\">86,916</span> (339.52 KB)\n",
       "</pre>\n"
      ],
      "text/plain": [
       "\u001b[1m Optimizer params: \u001b[0m\u001b[38;5;34m86,916\u001b[0m (339.52 KB)\n"
      ]
     },
     "metadata": {},
     "output_type": "display_data"
    }
   ],
   "source": [
    "# Checking models summary\n",
    "nn_model.summary()"
   ]
  },
  {
   "cell_type": "code",
   "execution_count": 6,
   "metadata": {},
   "outputs": [
    {
     "name": "stdout",
     "output_type": "stream",
     "text": [
      "\u001b[1m2/2\u001b[0m \u001b[32m━━━━━━━━━━━━━━━━━━━━\u001b[0m\u001b[37m\u001b[0m \u001b[1m0s\u001b[0m 5ms/step - accuracy: 0.9662 - loss: 0.1193 \n",
      "Testing Accuracy: 0.9649122953414917\n"
     ]
    }
   ],
   "source": [
    "testing_loss, testing_acc = nn_model.evaluate(X_test, y_test)\n",
    "\n",
    "print(f\"Testing Accuracy: {testing_acc}\")"
   ]
  },
  {
   "cell_type": "markdown",
   "metadata": {},
   "source": [
    "## Model Evaluation"
   ]
  },
  {
   "cell_type": "code",
   "execution_count": 12,
   "metadata": {},
   "outputs": [],
   "source": [
    "# Checking up for model's history while learing \n",
    "model_hy =pd.DataFrame(history.history)"
   ]
  },
  {
   "cell_type": "markdown",
   "metadata": {},
   "source": [
    "## Visualizing the model's accuracy and loss"
   ]
  },
  {
   "cell_type": "code",
   "execution_count": 15,
   "metadata": {},
   "outputs": [
    {
     "data": {
      "text/plain": [
       "Text(0.5, 1.0, 'Model Learning curve')"
      ]
     },
     "execution_count": 15,
     "metadata": {},
     "output_type": "execute_result"
    },
    {
     "data": {
      "image/png": "[encoded data removed]",
      "text/plain": [
       "<Figure size 640x480 with 1 Axes>"
      ]
     },
     "metadata": {},
     "output_type": "display_data"
    }
   ],
   "source": [
    "# Plot the models loss function and accuracy\n",
    "model_hy[[\"accuracy\", \"loss\"]].plot()\n",
    "plt.title(\"Model learning curve\")"
   ]
  },
  {
   "cell_type": "markdown",
   "metadata": {},
   "source": [
    "From the graph , it is clear that:\n",
    "- the accuracy of the model increased as epochs increased meanse it makes a good predictions\n",
    "- the loss function goes down means the model is improving"
   ]
  },
  {
   "cell_type": "markdown",
   "metadata": {},
   "source": [
    "### Finding the ideal learning rate\n",
    "\n",
    "There are many three main steps to find the idel learing rate\n",
    "- Adding **callback** to see when it is learning well\n",
    "- Change the model or create another one\n",
    "- Modify the currect one"
   ]
  },
  {
   "cell_type": "code",
   "execution_count": 37,
   "metadata": {},
   "outputs": [
    {
     "name": "stdout",
     "output_type": "stream",
     "text": [
      "Epoch 1/100\n",
      "13/13 - 2s - 154ms/step - accuracy: 0.3765 - loss: 22.4610 - val_accuracy: 0.3981 - val_loss: 7.9460 - learning_rate: 1.0000e-04\n",
      "Epoch 2/100\n",
      "13/13 - 0s - 7ms/step - accuracy: 0.5526 - loss: 3.0921 - val_accuracy: 0.7379 - val_loss: 1.1961 - learning_rate: 1.1220e-04\n",
      "Epoch 3/100\n",
      "13/13 - 0s - 7ms/step - accuracy: 0.6626 - loss: 0.7797 - val_accuracy: 0.8544 - val_loss: 0.5245 - learning_rate: 1.2589e-04\n",
      "Epoch 4/100\n",
      "13/13 - 0s - 6ms/step - accuracy: 0.8900 - loss: 0.3877 - val_accuracy: 0.8058 - val_loss: 0.3703 - learning_rate: 1.4125e-04\n",
      "Epoch 5/100\n",
      "13/13 - 0s - 6ms/step - accuracy: 0.8924 - loss: 0.3171 - val_accuracy: 0.8932 - val_loss: 0.3155 - learning_rate: 1.5849e-04\n",
      "Epoch 6/100\n",
      "13/13 - 0s - 6ms/step - accuracy: 0.8606 - loss: 0.3619 - val_accuracy: 0.8932 - val_loss: 0.3079 - learning_rate: 1.7783e-04\n",
      "Epoch 7/100\n",
      "13/13 - 0s - 6ms/step - accuracy: 0.8582 - loss: 0.3794 - val_accuracy: 0.9126 - val_loss: 0.2983 - learning_rate: 1.9953e-04\n",
      "Epoch 8/100\n",
      "13/13 - 0s - 7ms/step - accuracy: 0.8435 - loss: 0.4099 - val_accuracy: 0.8252 - val_loss: 0.3531 - learning_rate: 2.2387e-04\n",
      "Epoch 9/100\n",
      "13/13 - 0s - 7ms/step - accuracy: 0.8411 - loss: 0.4329 - val_accuracy: 0.7670 - val_loss: 0.5652 - learning_rate: 2.5119e-04\n",
      "Epoch 10/100\n",
      "13/13 - 0s - 6ms/step - accuracy: 0.8484 - loss: 0.4228 - val_accuracy: 0.7282 - val_loss: 0.6631 - learning_rate: 2.8184e-04\n",
      "Epoch 11/100\n",
      "13/13 - 0s - 6ms/step - accuracy: 0.8631 - loss: 0.3712 - val_accuracy: 0.7864 - val_loss: 0.5726 - learning_rate: 3.1623e-04\n",
      "Epoch 12/100\n",
      "13/13 - 0s - 7ms/step - accuracy: 0.8900 - loss: 0.3052 - val_accuracy: 0.7961 - val_loss: 0.4711 - learning_rate: 3.5481e-04\n",
      "Epoch 13/100\n",
      "13/13 - 0s - 12ms/step - accuracy: 0.9095 - loss: 0.2644 - val_accuracy: 0.8350 - val_loss: 0.4038 - learning_rate: 3.9811e-04\n",
      "Epoch 14/100\n",
      "13/13 - 0s - 6ms/step - accuracy: 0.9120 - loss: 0.2397 - val_accuracy: 0.8252 - val_loss: 0.3561 - learning_rate: 4.4668e-04\n",
      "Epoch 15/100\n",
      "13/13 - 0s - 6ms/step - accuracy: 0.9218 - loss: 0.2250 - val_accuracy: 0.8641 - val_loss: 0.3288 - learning_rate: 5.0119e-04\n",
      "Epoch 16/100\n",
      "13/13 - 0s - 6ms/step - accuracy: 0.9193 - loss: 0.2236 - val_accuracy: 0.9029 - val_loss: 0.3038 - learning_rate: 5.6234e-04\n",
      "Epoch 17/100\n",
      "13/13 - 0s - 6ms/step - accuracy: 0.9242 - loss: 0.2239 - val_accuracy: 0.9029 - val_loss: 0.3018 - learning_rate: 6.3096e-04\n"
     ]
    }
   ],
   "source": [
    "\n",
    "# Set up random seed\n",
    "tf.random.set_seed(42)\n",
    "\n",
    "# 1. Creating the same model with callback learning rate callback\n",
    "nn_model_2 = tf.keras.Sequential()\n",
    "\n",
    "# The Input Layer:\n",
    "nn_model_2.add(Dense(64, activation=\"relu\"),)\n",
    "\n",
    "# The Hidden layers:\n",
    "nn_model_2.add(Dense(128, activation=\"relu\"))\n",
    "nn_model_2.add(Dense(128, activation=\"relu\"))\n",
    "nn_model_2.add(Dense(128, activation=\"relu\"))\n",
    "\n",
    "# The Output Layer:\n",
    "nn_model_2.add(Dense(1,activation='sigmoid'))\n",
    "\n",
    "\n",
    "# 2. Compile the model\n",
    "nn_model_2.compile(\n",
    "    loss=\"binary_crossentropy\",\n",
    "    optimizer=tf.keras.optimizers.Adam(learning_rate=0.002),\n",
    "    metrics=['accuracy']\n",
    ")\n",
    "\n",
    "# Creating learning rate callback\n",
    "lr_scheduler = tf.keras.callbacks.LearningRateScheduler(lambda epoch: 1e-4 *10**(epoch/20))\n",
    "\n",
    "# It hellps to stop from early stopping\n",
    "early_stopping = tf.keras.callbacks.EarlyStopping(\n",
    "    monitor='val_loss', \n",
    "    patience=10, \n",
    "    restore_best_weights=True\n",
    ")\n",
    "\n",
    "# Fit the model to learn \n",
    "history_2 = nn_model_2.fit(X_train, \n",
    "                           y_train, \n",
    "                           epochs=100, \n",
    "                           verbose=2, \n",
    "                           validation_split=0.2,\n",
    "                           callbacks=[lr_scheduler, early_stopping]\n",
    "                           )"
   ]
  },
  {
   "cell_type": "code",
   "execution_count": 38,
   "metadata": {},
   "outputs": [
    {
     "data": {
      "image/png": "[encoded data removed]",
      "text/plain": [
       "<Figure size 640x480 with 1 Axes>"
      ]
     },
     "metadata": {},
     "output_type": "display_data"
    }
   ],
   "source": [
    "# Ploting the models learing curve\n",
    "pd.DataFrame(history_2.history)[[\"accuracy\", \"loss\", \"learning_rate\"]].plot()\n",
    "plt.xlabel(\"epochs\")\n",
    "plt.title(\"Learning curve of the second model\")\n",
    "plt.show()"
   ]
  },
  {
   "cell_type": "code",
   "execution_count": 39,
   "metadata": {},
   "outputs": [
    {
     "data": {
      "image/png": "[encoded data removed]",
      "text/plain": [
       "<Figure size 1000x600 with 1 Axes>"
      ]
     },
     "metadata": {},
     "output_type": "display_data"
    }
   ],
   "source": [
    "epochs = len(history_2.history[\"loss\"]) \n",
    "\n",
    "# Generate learning rates\n",
    "lrs = 1e-4 * (10 ** (tf.range(epochs) / 20))\n",
    "\n",
    "# Plotting learning rates vs. loss\n",
    "plt.figure(figsize=(10, 6))\n",
    "plt.semilogx(lrs, history_2.history[\"loss\"][:50])\n",
    "plt.xlabel(\"Learning Rate\")\n",
    "plt.ylabel(\"Loss\")\n",
    "plt.title(\"Learning Rate vs. Loss\")\n",
    "plt.show()"
   ]
  },
  {
   "cell_type": "markdown",
   "metadata": {},
   "source": [
    "### Classification Evaluvation Methods\n",
    "- **Accuracy** - Default metrics for classification models, but not best for imbalanced data\n",
    "- **Precision** - Higher precision leads to less false positives\n",
    "- **Recall** - Higher recall leads to less false negatives\n",
    "- **F1-Score** - It is the combination of both Precision and Recall"
   ]
  },
  {
   "cell_type": "code",
   "execution_count": 51,
   "metadata": {},
   "outputs": [
    {
     "name": "stdout",
     "output_type": "stream",
     "text": [
      "\u001b[1m2/2\u001b[0m \u001b[32m━━━━━━━━━━━━━━━━━━━━\u001b[0m\u001b[37m\u001b[0m \u001b[1m0s\u001b[0m 0s/step  \n",
      "Accuracy: 0.9473684210526315\n",
      "Precision: 0.9743589743589743\n",
      "Recall: 0.95\n"
     ]
    }
   ],
   "source": [
    "from sklearn.metrics import accuracy_score, precision_score, recall_score\n",
    "\n",
    "# Testing the model with Test set of the dataset\n",
    "y_pred_prob = nn_model_2.predict(X_test)\n",
    "\n",
    "# Converting from probability human readable numbers\n",
    "y_pred = (y_pred_prob > 0.5).astype(int)\n",
    "\n",
    "# Accuracy of the model\n",
    "acc = accuracy_score(y_test, y_pred)\n",
    "\n",
    "# Precision score\n",
    "pr = precision_score(y_test,y_pred)\n",
    "\n",
    "# Recall score\n",
    "rc = recall_score(y_test, y_pred)\n",
    "\n",
    "# Priting them\n",
    "print(f'Accuracy: {acc}')\n",
    "print(f'Precision: {pr}')\n",
    "print(f\"Recall: {rc}\")"
   ]
  },
  {
   "cell_type": "markdown",
   "metadata": {},
   "source": [
    "### Confusion matrics"
   ]
  },
  {
   "cell_type": "code",
   "execution_count": 52,
   "metadata": {},
   "outputs": [
    {
     "data": {
      "text/plain": [
       "array([[16,  1],\n",
       "       [ 2, 38]], dtype=int64)"
      ]
     },
     "execution_count": 52,
     "metadata": {},
     "output_type": "execute_result"
    }
   ],
   "source": [
    "# Create confusion matrix\n",
    "from sklearn.metrics import confusion_matrix\n",
    "\n",
    "# Implement confusion matrix\n",
    "confusion_matrix(y_test, y_pred)\n"
   ]
  }
 ],
 "metadata": {
  "kernelspec": {
   "display_name": "Python 3",
   "language": "python",
   "name": "python3"
  },
  "language_info": {
   "codemirror_mode": {
    "name": "ipython",
    "version": 3
   },
   "file_extension": ".py",
   "mimetype": "text/x-python",
   "name": "python",
   "nbconvert_exporter": "python",
   "pygments_lexer": "ipython3",
   "version": "3.12.4"
  }
 },
 "nbformat": 4,
 "nbformat_minor": 2
}
